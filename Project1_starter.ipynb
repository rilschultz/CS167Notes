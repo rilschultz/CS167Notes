{
  "nbformat": 4,
  "nbformat_minor": 0,
  "metadata": {
    "colab": {
      "name": "Project1_starter.ipynb",
      "provenance": [],
      "include_colab_link": true
    },
    "kernelspec": {
      "name": "python3",
      "display_name": "Python 3"
    }
  },
  "cells": [
    {
      "cell_type": "markdown",
      "metadata": {
        "id": "view-in-github",
        "colab_type": "text"
      },
      "source": [
        "<a href=\"https://colab.research.google.com/github/rilschultz/CS167Notes/blob/main/Project1_starter.ipynb\" target=\"_parent\"><img src=\"https://colab.research.google.com/assets/colab-badge.svg\" alt=\"Open In Colab\"/></a>"
      ]
    },
    {
      "cell_type": "markdown",
      "metadata": {
        "id": "F9AOhxuO9Vt7"
      },
      "source": [
        "# Project \\#1 Starter Code: \n",
        "Your first step is to decide which dataset you would like to work with for this project. \n",
        "\n",
        "For this project, you will get to choose what dataset you use. The ones we've used in class (other than Iris/Titanic as they're pretty small) are all fair game (wine quality, breast cancer, spotify). \n",
        "\n",
        "Here are some other possibilities--Kaggle has many many more. It might be a good idea to double check with me before grabbing a dataset that's not listed here:\n",
        "- 🥑 [Avocado Prices](https://www.kaggle.com/datasets/neuromusic/avocado-prices)\n",
        "- 🎟️ [Admission to University](https://www.kaggle.com/datasets/akshaydattatraykhare/data-for-admission-in-the-university)\n",
        "- 🏎️ [Speed Dating](https://www.kaggle.com/datasets/whenamancodes/speed-dating)\n",
        "- 🎓 [World University Ranking](https://www.kaggle.com/datasets/whenamancodes/world-university-ranking-2022-2023)\n",
        "- 📸 [Top Instagram Influencers](https://www.kaggle.com/datasets/whenamancodes/top-200-influencers-crushing-on-instagram)\n",
        "- 🌦️ [Weather Prediction](https://www.kaggle.com/datasets/thedevastator/weather-prediction)\n",
        "- 🤑 [Student Monthly Expenses](https://www.kaggle.com/datasets/shariful07/nice-work-thanks-for-share)\n",
        "- 🍺 [Student Alcohol Consumption](https://www.kaggle.com/datasets/uciml/student-alcohol-consumption)\n",
        "- 🏫 [College Score Card](https://www.kaggle.com/datasets/thedevastator/u-s-department-of-education-college-scorecard-da)\n",
        "- 🎮 [IMDB Video Games](https://www.kaggle.com/datasets/muhammadadiltalay/imdb-video-games)\n",
        "- 🎵 [Spotify Recommendation](https://www.kaggle.com/datasets/bricevergnou/spotify-recommendation)"
      ]
    },
    {
      "cell_type": "markdown",
      "source": [
        "# Self-Evaluation:\n",
        "\n",
        "| **Description/Writing** | **I think I deserve** |\n",
        "|-------------------------|-----------------------|\n",
        "| 1: Problem              | /2                    |\n",
        "| 2: Data Prep            | /2                    |\n",
        "| 3: Research             | /10                   |\n",
        "| 4: Analysis             | /10                   |\n",
        "| 5: Bumps in the Road.   | /1                    |\n",
        "| Total                   | /25                   |"
      ],
      "metadata": {
        "id": "qbd3DvcpK6pD"
      }
    },
    {
      "cell_type": "markdown",
      "source": [
        "# 1. Problem:\n",
        "State the problem you are trying to solve with this machine learning experiment. Include a description of the data, where you got the data, and what you're trying to predict.."
      ],
      "metadata": {
        "id": "WAD00FUzJweA"
      }
    },
    {
      "cell_type": "markdown",
      "source": [
        "For Project 1 I plan to use the machine learning algoritms we learned on the addmitted student data set. With these I will see which factors are most important to univerisities when accepting a prospective student. Because this application process can be stressful I want to be able to show what aspects are important as well as give a good estimate based on the algorithm to see if a student would be accepted or not given their statistics."
      ],
      "metadata": {
        "id": "G1jpZYKEJ1Ao"
      }
    },
    {
      "cell_type": "markdown",
      "source": [
        "# 2. Data Preparation\n",
        "Explain your data preparation. What did you have to do to get your data in shape for your experiments? Why are you certain that you data is clean and prepared for use in your algorithms?"
      ],
      "metadata": {
        "id": "JwzF076lJ3mA"
      }
    },
    {
      "cell_type": "markdown",
      "source": [
        "First step is to import my drive and upload the data set"
      ],
      "metadata": {
        "id": "81CTRbswJ_XJ"
      }
    },
    {
      "cell_type": "code",
      "source": [
        "# load and preapre your data here:\n",
        "from google.colab import drive\n",
        "drive.mount('/content/drive')\n",
        "\n",
        "import pandas as pd \n",
        "path = '/content/drive/MyDrive/datasets/adm-data.csv' \n",
        "admData = pd.read_csv(path) \n",
        "admData.head()\n",
        "\n"
      ],
      "metadata": {
        "id": "vv2-3tJlKBCd",
        "outputId": "87a7e0f4-d05d-4191-93fe-b62c299d2617",
        "colab": {
          "base_uri": "https://localhost:8080/",
          "height": 223
        }
      },
      "execution_count": 12,
      "outputs": [
        {
          "output_type": "stream",
          "name": "stdout",
          "text": [
            "Drive already mounted at /content/drive; to attempt to forcibly remount, call drive.mount(\"/content/drive\", force_remount=True).\n"
          ]
        },
        {
          "output_type": "execute_result",
          "data": {
            "text/plain": [
              "   Serial No.  GRE Score  TOEFL Score  University Rating  SOP  LOR   CGPA  \\\n",
              "0           1        337          118                  4  4.5   4.5  9.65   \n",
              "1           2        324          107                  4  4.0   4.5  8.87   \n",
              "2           3        316          104                  3  3.0   3.5  8.00   \n",
              "3           4        322          110                  3  3.5   2.5  8.67   \n",
              "4           5        314          103                  2  2.0   3.0  8.21   \n",
              "\n",
              "   Research  Chance of Admit   \n",
              "0         1              0.92  \n",
              "1         1              0.76  \n",
              "2         1              0.72  \n",
              "3         1              0.80  \n",
              "4         0              0.65  "
            ],
            "text/html": [
              "\n",
              "  <div id=\"df-44395c08-03b0-4e81-ae90-298f739bc783\">\n",
              "    <div class=\"colab-df-container\">\n",
              "      <div>\n",
              "<style scoped>\n",
              "    .dataframe tbody tr th:only-of-type {\n",
              "        vertical-align: middle;\n",
              "    }\n",
              "\n",
              "    .dataframe tbody tr th {\n",
              "        vertical-align: top;\n",
              "    }\n",
              "\n",
              "    .dataframe thead th {\n",
              "        text-align: right;\n",
              "    }\n",
              "</style>\n",
              "<table border=\"1\" class=\"dataframe\">\n",
              "  <thead>\n",
              "    <tr style=\"text-align: right;\">\n",
              "      <th></th>\n",
              "      <th>Serial No.</th>\n",
              "      <th>GRE Score</th>\n",
              "      <th>TOEFL Score</th>\n",
              "      <th>University Rating</th>\n",
              "      <th>SOP</th>\n",
              "      <th>LOR</th>\n",
              "      <th>CGPA</th>\n",
              "      <th>Research</th>\n",
              "      <th>Chance of Admit</th>\n",
              "    </tr>\n",
              "  </thead>\n",
              "  <tbody>\n",
              "    <tr>\n",
              "      <th>0</th>\n",
              "      <td>1</td>\n",
              "      <td>337</td>\n",
              "      <td>118</td>\n",
              "      <td>4</td>\n",
              "      <td>4.5</td>\n",
              "      <td>4.5</td>\n",
              "      <td>9.65</td>\n",
              "      <td>1</td>\n",
              "      <td>0.92</td>\n",
              "    </tr>\n",
              "    <tr>\n",
              "      <th>1</th>\n",
              "      <td>2</td>\n",
              "      <td>324</td>\n",
              "      <td>107</td>\n",
              "      <td>4</td>\n",
              "      <td>4.0</td>\n",
              "      <td>4.5</td>\n",
              "      <td>8.87</td>\n",
              "      <td>1</td>\n",
              "      <td>0.76</td>\n",
              "    </tr>\n",
              "    <tr>\n",
              "      <th>2</th>\n",
              "      <td>3</td>\n",
              "      <td>316</td>\n",
              "      <td>104</td>\n",
              "      <td>3</td>\n",
              "      <td>3.0</td>\n",
              "      <td>3.5</td>\n",
              "      <td>8.00</td>\n",
              "      <td>1</td>\n",
              "      <td>0.72</td>\n",
              "    </tr>\n",
              "    <tr>\n",
              "      <th>3</th>\n",
              "      <td>4</td>\n",
              "      <td>322</td>\n",
              "      <td>110</td>\n",
              "      <td>3</td>\n",
              "      <td>3.5</td>\n",
              "      <td>2.5</td>\n",
              "      <td>8.67</td>\n",
              "      <td>1</td>\n",
              "      <td>0.80</td>\n",
              "    </tr>\n",
              "    <tr>\n",
              "      <th>4</th>\n",
              "      <td>5</td>\n",
              "      <td>314</td>\n",
              "      <td>103</td>\n",
              "      <td>2</td>\n",
              "      <td>2.0</td>\n",
              "      <td>3.0</td>\n",
              "      <td>8.21</td>\n",
              "      <td>0</td>\n",
              "      <td>0.65</td>\n",
              "    </tr>\n",
              "  </tbody>\n",
              "</table>\n",
              "</div>\n",
              "      <button class=\"colab-df-convert\" onclick=\"convertToInteractive('df-44395c08-03b0-4e81-ae90-298f739bc783')\"\n",
              "              title=\"Convert this dataframe to an interactive table.\"\n",
              "              style=\"display:none;\">\n",
              "        \n",
              "  <svg xmlns=\"http://www.w3.org/2000/svg\" height=\"24px\"viewBox=\"0 0 24 24\"\n",
              "       width=\"24px\">\n",
              "    <path d=\"M0 0h24v24H0V0z\" fill=\"none\"/>\n",
              "    <path d=\"M18.56 5.44l.94 2.06.94-2.06 2.06-.94-2.06-.94-.94-2.06-.94 2.06-2.06.94zm-11 1L8.5 8.5l.94-2.06 2.06-.94-2.06-.94L8.5 2.5l-.94 2.06-2.06.94zm10 10l.94 2.06.94-2.06 2.06-.94-2.06-.94-.94-2.06-.94 2.06-2.06.94z\"/><path d=\"M17.41 7.96l-1.37-1.37c-.4-.4-.92-.59-1.43-.59-.52 0-1.04.2-1.43.59L10.3 9.45l-7.72 7.72c-.78.78-.78 2.05 0 2.83L4 21.41c.39.39.9.59 1.41.59.51 0 1.02-.2 1.41-.59l7.78-7.78 2.81-2.81c.8-.78.8-2.07 0-2.86zM5.41 20L4 18.59l7.72-7.72 1.47 1.35L5.41 20z\"/>\n",
              "  </svg>\n",
              "      </button>\n",
              "      \n",
              "  <style>\n",
              "    .colab-df-container {\n",
              "      display:flex;\n",
              "      flex-wrap:wrap;\n",
              "      gap: 12px;\n",
              "    }\n",
              "\n",
              "    .colab-df-convert {\n",
              "      background-color: #E8F0FE;\n",
              "      border: none;\n",
              "      border-radius: 50%;\n",
              "      cursor: pointer;\n",
              "      display: none;\n",
              "      fill: #1967D2;\n",
              "      height: 32px;\n",
              "      padding: 0 0 0 0;\n",
              "      width: 32px;\n",
              "    }\n",
              "\n",
              "    .colab-df-convert:hover {\n",
              "      background-color: #E2EBFA;\n",
              "      box-shadow: 0px 1px 2px rgba(60, 64, 67, 0.3), 0px 1px 3px 1px rgba(60, 64, 67, 0.15);\n",
              "      fill: #174EA6;\n",
              "    }\n",
              "\n",
              "    [theme=dark] .colab-df-convert {\n",
              "      background-color: #3B4455;\n",
              "      fill: #D2E3FC;\n",
              "    }\n",
              "\n",
              "    [theme=dark] .colab-df-convert:hover {\n",
              "      background-color: #434B5C;\n",
              "      box-shadow: 0px 1px 3px 1px rgba(0, 0, 0, 0.15);\n",
              "      filter: drop-shadow(0px 1px 2px rgba(0, 0, 0, 0.3));\n",
              "      fill: #FFFFFF;\n",
              "    }\n",
              "  </style>\n",
              "\n",
              "      <script>\n",
              "        const buttonEl =\n",
              "          document.querySelector('#df-44395c08-03b0-4e81-ae90-298f739bc783 button.colab-df-convert');\n",
              "        buttonEl.style.display =\n",
              "          google.colab.kernel.accessAllowed ? 'block' : 'none';\n",
              "\n",
              "        async function convertToInteractive(key) {\n",
              "          const element = document.querySelector('#df-44395c08-03b0-4e81-ae90-298f739bc783');\n",
              "          const dataTable =\n",
              "            await google.colab.kernel.invokeFunction('convertToInteractive',\n",
              "                                                     [key], {});\n",
              "          if (!dataTable) return;\n",
              "\n",
              "          const docLinkHtml = 'Like what you see? Visit the ' +\n",
              "            '<a target=\"_blank\" href=https://colab.research.google.com/notebooks/data_table.ipynb>data table notebook</a>'\n",
              "            + ' to learn more about interactive tables.';\n",
              "          element.innerHTML = '';\n",
              "          dataTable['output_type'] = 'display_data';\n",
              "          await google.colab.output.renderOutput(dataTable, element);\n",
              "          const docLink = document.createElement('div');\n",
              "          docLink.innerHTML = docLinkHtml;\n",
              "          element.appendChild(docLink);\n",
              "        }\n",
              "      </script>\n",
              "    </div>\n",
              "  </div>\n",
              "  "
            ]
          },
          "metadata": {},
          "execution_count": 12
        }
      ]
    },
    {
      "cell_type": "markdown",
      "source": [
        "The next step is to check if there is any data that is nan and would need to be removed"
      ],
      "metadata": {
        "id": "0JKwhqkh5aeN"
      }
    },
    {
      "cell_type": "code",
      "source": [
        "admData.isna().any()\n"
      ],
      "metadata": {
        "id": "-i6Q5Hel5fqQ",
        "outputId": "24c610f1-7979-4823-e1f1-6ceab8bf3421",
        "colab": {
          "base_uri": "https://localhost:8080/"
        }
      },
      "execution_count": 18,
      "outputs": [
        {
          "output_type": "execute_result",
          "data": {
            "text/plain": [
              "Serial No.           False\n",
              "GRE Score            False\n",
              "TOEFL Score          False\n",
              "University Rating    False\n",
              "SOP                  False\n",
              "LOR                  False\n",
              "CGPA                 False\n",
              "Research             False\n",
              "Chance of Admit      False\n",
              "dtype: bool"
            ]
          },
          "metadata": {},
          "execution_count": 18
        }
      ]
    },
    {
      "cell_type": "markdown",
      "source": [
        "Since there is no NA values all being false and all values are numeric we can start to normalize the data."
      ],
      "metadata": {
        "id": "bqhfyVUj5nMw"
      }
    },
    {
      "cell_type": "code",
      "source": [
        "import sklearn\n",
        "from sklearn import tree\n",
        "from sklearn.model_selection import train_test_split\n",
        "from sklearn import metrics\n",
        "from sklearn import neighbors\n",
        "#This is selecting which values I want to be my predictors and which one I want to be my target variable\n",
        "target = 'Chance of Admit '\n",
        "predictors = admData.columns.drop(target)\n",
        "train_data, test_data, train_sln, test_sln = train_test_split(admData[predictors], admData[target])\n",
        "\n",
        "#Next step is to normalize the data to not have values such as GRE and TOEFL scores outweigh other values in the dataset\n",
        "#Normalize both the train and test data keep solutions unnormalized\n",
        "from sklearn.preprocessing import StandardScaler\n",
        "\n",
        "scaler = StandardScaler()\n",
        "\n",
        "scaler.fit(train_data)\n",
        "train_data_normalized = scaler.transform(train_data)\n",
        "test_data_normalized = scaler.transform(test_data)\n",
        "train_data_normalized"
      ],
      "metadata": {
        "id": "V8pH_i605m6O",
        "outputId": "8eb2ffb2-c4ea-4666-8d41-5fabc67dd658",
        "colab": {
          "base_uri": "https://localhost:8080/"
        }
      },
      "execution_count": 24,
      "outputs": [
        {
          "output_type": "execute_result",
          "data": {
            "text/plain": [
              "array([[-1.4985191 ,  0.92758573,  1.34361086, ...,  1.72710582,\n",
              "         1.46167646,  0.91678285],\n",
              "       [ 0.42356386,  0.33134146,  0.54033613, ...,  0.60560853,\n",
              "         0.37135891,  0.91678285],\n",
              "       [ 1.36343702,  0.41651921,  0.37968119, ...,  1.72710582,\n",
              "         0.06216437,  0.91678285],\n",
              "       ...,\n",
              "       [-0.98201222,  0.41651921,  1.18295591, ...,  1.16635718,\n",
              "         1.23384891,  0.91678285],\n",
              "       [-0.2199529 ,  0.50169696,  0.86164602, ...,  1.16635718,\n",
              "         1.02229476,  0.91678285],\n",
              "       [-1.60012701,  0.67205247, -0.26293859, ...,  0.60560853,\n",
              "        -0.32839714,  0.91678285]])"
            ]
          },
          "metadata": {},
          "execution_count": 24
        }
      ]
    },
    {
      "cell_type": "markdown",
      "metadata": {
        "id": "7SfueFgsNdNt"
      },
      "source": [
        "# 3. Research\n",
        "\n",
        "Put your code and your experiments here.\n",
        "\n",
        "For full credit, your experiments should include the following models:\n",
        "- __k Nearest Neighbors__\n",
        "- __weighted k Nearest Neighbors__\n",
        "- __decision tree__\n",
        "- __random forest__ \n",
        "\n",
        "You need to demonstrate the performance of these models on both __normalized__ and __non-normalized__ data. \n",
        "\n",
        "For each of the above models, you need to include a __graph of at least 1 tuned parameter__. \n"
      ]
    },
    {
      "cell_type": "code",
      "source": [
        "# code goes here... don't forget to include graphs. Professor Moore loves graphs.\n",
        "import sklearn\n",
        "import pandas\n",
        "from sklearn import tree\n",
        "from sklearn.model_selection import train_test_split\n",
        "from sklearn import metrics\n",
        "from sklearn import neighbors\n",
        "\n",
        "knn = neighbors.KNeighborsRegressor(n_neighbors=35)\n",
        "\n",
        "# fit (train) the model to the data\n",
        "knn.fit(train_data_normalized, train_sln)\n",
        "\n",
        "# use the trained model to get predictions from the normalized data\n",
        "preds = knn.predict(test_data_normalized)\n",
        "# use a metric to see how good our predictions are\n",
        "print(\"R2: \", metrics.r2_score(test_sln, preds))\n",
        "print(\"MAE: \", metrics.mean_absolute_error(test_sln, preds))\n",
        "print(\"MSE: \", metrics.mean_squared_error(test_sln, preds))"
      ],
      "metadata": {
        "id": "Z7Wxh3O0KHvo",
        "outputId": "8cd908f9-6520-44a1-b6f2-d1f0cd59f034",
        "colab": {
          "base_uri": "https://localhost:8080/"
        }
      },
      "execution_count": 46,
      "outputs": [
        {
          "output_type": "stream",
          "name": "stdout",
          "text": [
            "R2:  0.8310813999812451\n",
            "MAE:  0.03796857142857143\n",
            "MSE:  0.0027251485714285713\n"
          ]
        }
      ]
    },
    {
      "cell_type": "code",
      "source": [
        "knn = neighbors.KNeighborsRegressor(n_neighbors=30, weights = 'distance')\n",
        "\n",
        "# fit (train) the model to the data\n",
        "knn.fit(train_data_normalized, train_sln)\n",
        "\n",
        "# use the trained model to get predictions from the normalized data\n",
        "preds = knn.predict(test_data_normalized)\n",
        "# use a metric to see how good our predictions are\n",
        "print(\"R2: \", metrics.r2_score(test_sln, preds))\n",
        "print(\"MAE: \", metrics.mean_absolute_error(test_sln, preds))\n",
        "print(\"MSE: \", metrics.mean_squared_error(test_sln, preds))"
      ],
      "metadata": {
        "id": "z10bMAXTYTBI",
        "outputId": "2e1804fd-4e8a-4a68-d214-db0718cb3937",
        "colab": {
          "base_uri": "https://localhost:8080/"
        }
      },
      "execution_count": 33,
      "outputs": [
        {
          "output_type": "stream",
          "name": "stdout",
          "text": [
            "R2:  0.8361288159400584\n",
            "MAE:  0.03717049462303334\n",
            "MSE:  0.002643719064032473\n"
          ]
        }
      ]
    },
    {
      "cell_type": "markdown",
      "source": [
        "#4. Analysis\n",
        "\n",
        "What did you discover? What insights/recommendations do you have? What did you find that was interesting? Which model was your best model, which models didn't work well? Why do you think this is? In general, I want a discussion of your experiment, the results, and what they mean.\n",
        "\n",
        "This chart might help organize your results:\n",
        "\n",
        "| **Model**     | **Non-Normalized** | **Normalized** | **Parameter Tuned** |\n",
        "|---------------|--------------------|----------------|---------------------|\n",
        "| kNN           |       R2=62%       |   R2=83%       |num neighbors        |\n",
        "| w-kNN         |                    |                |                     |\n",
        "| decision tree |                    |                |                     |\n",
        "| random forest |                    |                |                     |"
      ],
      "metadata": {
        "id": "3n4WI2CiTbSC"
      }
    },
    {
      "cell_type": "markdown",
      "source": [
        "*your answer here*"
      ],
      "metadata": {
        "id": "6-hRqIl9KL9L"
      }
    },
    {
      "cell_type": "markdown",
      "source": [
        "# 5. Bumps in the Road\n",
        "What challenges did you encounter? How did you overcome these challenges?"
      ],
      "metadata": {
        "id": "sQYL8y5UKO9G"
      }
    },
    {
      "cell_type": "markdown",
      "source": [
        "First was importing the data it took me a couple tries and worked, next was seperating the data there was a hidden space after some columns names so it was harder to type those out."
      ],
      "metadata": {
        "id": "4XPFALubKQPZ"
      }
    }
  ]
}