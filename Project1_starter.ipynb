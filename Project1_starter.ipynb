{
  "nbformat": 4,
  "nbformat_minor": 0,
  "metadata": {
    "colab": {
      "name": "Project1_starter.ipynb",
      "provenance": [],
      "history_visible": true,
      "include_colab_link": true
    },
    "kernelspec": {
      "name": "python3",
      "display_name": "Python 3"
    }
  },
  "cells": [
    {
      "cell_type": "markdown",
      "metadata": {
        "id": "view-in-github",
        "colab_type": "text"
      },
      "source": [
        "<a href=\"https://colab.research.google.com/github/rilschultz/CS167Notes/blob/main/Project1_starter.ipynb\" target=\"_parent\"><img src=\"https://colab.research.google.com/assets/colab-badge.svg\" alt=\"Open In Colab\"/></a>"
      ]
    },
    {
      "cell_type": "markdown",
      "metadata": {
        "id": "F9AOhxuO9Vt7"
      },
      "source": [
        "# Project \\#1 Starter Code: \n",
        "Your first step is to decide which dataset you would like to work with for this project. \n",
        "\n",
        "For this project, you will get to choose what dataset you use. The ones we've used in class (other than Iris/Titanic as they're pretty small) are all fair game (wine quality, breast cancer, spotify). \n",
        "\n",
        "Here are some other possibilities--Kaggle has many many more. It might be a good idea to double check with me before grabbing a dataset that's not listed here:\n",
        "- 🥑 [Avocado Prices](https://www.kaggle.com/datasets/neuromusic/avocado-prices)\n",
        "- 🎟️ [Admission to University](https://www.kaggle.com/datasets/akshaydattatraykhare/data-for-admission-in-the-university)\n",
        "- 🏎️ [Speed Dating](https://www.kaggle.com/datasets/whenamancodes/speed-dating)\n",
        "- 🎓 [World University Ranking](https://www.kaggle.com/datasets/whenamancodes/world-university-ranking-2022-2023)\n",
        "- 📸 [Top Instagram Influencers](https://www.kaggle.com/datasets/whenamancodes/top-200-influencers-crushing-on-instagram)\n",
        "- 🌦️ [Weather Prediction](https://www.kaggle.com/datasets/thedevastator/weather-prediction)\n",
        "- 🤑 [Student Monthly Expenses](https://www.kaggle.com/datasets/shariful07/nice-work-thanks-for-share)\n",
        "- 🍺 [Student Alcohol Consumption](https://www.kaggle.com/datasets/uciml/student-alcohol-consumption)\n",
        "- 🏫 [College Score Card](https://www.kaggle.com/datasets/thedevastator/u-s-department-of-education-college-scorecard-da)\n",
        "- 🎮 [IMDB Video Games](https://www.kaggle.com/datasets/muhammadadiltalay/imdb-video-games)\n",
        "- 🎵 [Spotify Recommendation](https://www.kaggle.com/datasets/bricevergnou/spotify-recommendation)"
      ]
    },
    {
      "cell_type": "markdown",
      "source": [
        "# Self-Evaluation:\n",
        "\n",
        "| **Description/Writing** | **I think I deserve** |\n",
        "|-------------------------|-----------------------|\n",
        "| 1: Problem              | /2                    |\n",
        "| 2: Data Prep            | /2                    |\n",
        "| 3: Research             | /10                   |\n",
        "| 4: Analysis             | /10                   |\n",
        "| 5: Bumps in the Road.   | /1                    |\n",
        "| Total                   | /25                   |"
      ],
      "metadata": {
        "id": "qbd3DvcpK6pD"
      }
    },
    {
      "cell_type": "markdown",
      "source": [
        "# 1. Problem:\n",
        "State the problem you are trying to solve with this machine learning experiment. Include a description of the data, where you got the data, and what you're trying to predict.."
      ],
      "metadata": {
        "id": "WAD00FUzJweA"
      }
    },
    {
      "cell_type": "markdown",
      "source": [
        "For Project 1 I plan to use the machine learning algoritms we learned on the addmitted student data set. With these I will see which factors are most important to univerisities when accepting a prospective student. Because this application process can be stressful I want to be able to show what aspects are important as well as give a good estimate based on the algorithm to see if a student would be accepted or not given their statistics."
      ],
      "metadata": {
        "id": "G1jpZYKEJ1Ao"
      }
    },
    {
      "cell_type": "markdown",
      "source": [
        "# 2. Data Preparation\n",
        "Explain your data preparation. What did you have to do to get your data in shape for your experiments? Why are you certain that you data is clean and prepared for use in your algorithms?"
      ],
      "metadata": {
        "id": "JwzF076lJ3mA"
      }
    },
    {
      "cell_type": "markdown",
      "source": [
        "First step is to import my drive and upload the data set"
      ],
      "metadata": {
        "id": "81CTRbswJ_XJ"
      }
    },
    {
      "cell_type": "code",
      "source": [
        "# load and preapre your data here:\n",
        "from google.colab import drive\n",
        "drive.mount('/content/drive')\n",
        "\n",
        "import pandas as pd \n",
        "path = '/content/drive/MyDrive/datasets/adm-data.csv' \n",
        "admData = pd.read_csv(path) \n",
        "admData.head()\n",
        "\n"
      ],
      "metadata": {
        "id": "vv2-3tJlKBCd",
        "colab": {
          "base_uri": "https://localhost:8080/",
          "height": 243
        },
        "outputId": "abd0cda7-dea8-4403-9bfd-48b7ed86842a"
      },
      "execution_count": 86,
      "outputs": [
        {
          "output_type": "stream",
          "name": "stdout",
          "text": [
            "Drive already mounted at /content/drive; to attempt to forcibly remount, call drive.mount(\"/content/drive\", force_remount=True).\n"
          ]
        },
        {
          "output_type": "execute_result",
          "data": {
            "text/plain": [
              "   Serial No.  GRE Score  TOEFL Score  University Rating  SOP  LOR   CGPA  \\\n",
              "0           1        337          118                  4  4.5   4.5  9.65   \n",
              "1           2        324          107                  4  4.0   4.5  8.87   \n",
              "2           3        316          104                  3  3.0   3.5  8.00   \n",
              "3           4        322          110                  3  3.5   2.5  8.67   \n",
              "4           5        314          103                  2  2.0   3.0  8.21   \n",
              "\n",
              "   Research  Chance of Admit   \n",
              "0         1              0.92  \n",
              "1         1              0.76  \n",
              "2         1              0.72  \n",
              "3         1              0.80  \n",
              "4         0              0.65  "
            ],
            "text/html": [
              "\n",
              "  <div id=\"df-941bbd83-acc6-4131-9a31-6d3eef2b356a\">\n",
              "    <div class=\"colab-df-container\">\n",
              "      <div>\n",
              "<style scoped>\n",
              "    .dataframe tbody tr th:only-of-type {\n",
              "        vertical-align: middle;\n",
              "    }\n",
              "\n",
              "    .dataframe tbody tr th {\n",
              "        vertical-align: top;\n",
              "    }\n",
              "\n",
              "    .dataframe thead th {\n",
              "        text-align: right;\n",
              "    }\n",
              "</style>\n",
              "<table border=\"1\" class=\"dataframe\">\n",
              "  <thead>\n",
              "    <tr style=\"text-align: right;\">\n",
              "      <th></th>\n",
              "      <th>Serial No.</th>\n",
              "      <th>GRE Score</th>\n",
              "      <th>TOEFL Score</th>\n",
              "      <th>University Rating</th>\n",
              "      <th>SOP</th>\n",
              "      <th>LOR</th>\n",
              "      <th>CGPA</th>\n",
              "      <th>Research</th>\n",
              "      <th>Chance of Admit</th>\n",
              "    </tr>\n",
              "  </thead>\n",
              "  <tbody>\n",
              "    <tr>\n",
              "      <th>0</th>\n",
              "      <td>1</td>\n",
              "      <td>337</td>\n",
              "      <td>118</td>\n",
              "      <td>4</td>\n",
              "      <td>4.5</td>\n",
              "      <td>4.5</td>\n",
              "      <td>9.65</td>\n",
              "      <td>1</td>\n",
              "      <td>0.92</td>\n",
              "    </tr>\n",
              "    <tr>\n",
              "      <th>1</th>\n",
              "      <td>2</td>\n",
              "      <td>324</td>\n",
              "      <td>107</td>\n",
              "      <td>4</td>\n",
              "      <td>4.0</td>\n",
              "      <td>4.5</td>\n",
              "      <td>8.87</td>\n",
              "      <td>1</td>\n",
              "      <td>0.76</td>\n",
              "    </tr>\n",
              "    <tr>\n",
              "      <th>2</th>\n",
              "      <td>3</td>\n",
              "      <td>316</td>\n",
              "      <td>104</td>\n",
              "      <td>3</td>\n",
              "      <td>3.0</td>\n",
              "      <td>3.5</td>\n",
              "      <td>8.00</td>\n",
              "      <td>1</td>\n",
              "      <td>0.72</td>\n",
              "    </tr>\n",
              "    <tr>\n",
              "      <th>3</th>\n",
              "      <td>4</td>\n",
              "      <td>322</td>\n",
              "      <td>110</td>\n",
              "      <td>3</td>\n",
              "      <td>3.5</td>\n",
              "      <td>2.5</td>\n",
              "      <td>8.67</td>\n",
              "      <td>1</td>\n",
              "      <td>0.80</td>\n",
              "    </tr>\n",
              "    <tr>\n",
              "      <th>4</th>\n",
              "      <td>5</td>\n",
              "      <td>314</td>\n",
              "      <td>103</td>\n",
              "      <td>2</td>\n",
              "      <td>2.0</td>\n",
              "      <td>3.0</td>\n",
              "      <td>8.21</td>\n",
              "      <td>0</td>\n",
              "      <td>0.65</td>\n",
              "    </tr>\n",
              "  </tbody>\n",
              "</table>\n",
              "</div>\n",
              "      <button class=\"colab-df-convert\" onclick=\"convertToInteractive('df-941bbd83-acc6-4131-9a31-6d3eef2b356a')\"\n",
              "              title=\"Convert this dataframe to an interactive table.\"\n",
              "              style=\"display:none;\">\n",
              "        \n",
              "  <svg xmlns=\"http://www.w3.org/2000/svg\" height=\"24px\"viewBox=\"0 0 24 24\"\n",
              "       width=\"24px\">\n",
              "    <path d=\"M0 0h24v24H0V0z\" fill=\"none\"/>\n",
              "    <path d=\"M18.56 5.44l.94 2.06.94-2.06 2.06-.94-2.06-.94-.94-2.06-.94 2.06-2.06.94zm-11 1L8.5 8.5l.94-2.06 2.06-.94-2.06-.94L8.5 2.5l-.94 2.06-2.06.94zm10 10l.94 2.06.94-2.06 2.06-.94-2.06-.94-.94-2.06-.94 2.06-2.06.94z\"/><path d=\"M17.41 7.96l-1.37-1.37c-.4-.4-.92-.59-1.43-.59-.52 0-1.04.2-1.43.59L10.3 9.45l-7.72 7.72c-.78.78-.78 2.05 0 2.83L4 21.41c.39.39.9.59 1.41.59.51 0 1.02-.2 1.41-.59l7.78-7.78 2.81-2.81c.8-.78.8-2.07 0-2.86zM5.41 20L4 18.59l7.72-7.72 1.47 1.35L5.41 20z\"/>\n",
              "  </svg>\n",
              "      </button>\n",
              "      \n",
              "  <style>\n",
              "    .colab-df-container {\n",
              "      display:flex;\n",
              "      flex-wrap:wrap;\n",
              "      gap: 12px;\n",
              "    }\n",
              "\n",
              "    .colab-df-convert {\n",
              "      background-color: #E8F0FE;\n",
              "      border: none;\n",
              "      border-radius: 50%;\n",
              "      cursor: pointer;\n",
              "      display: none;\n",
              "      fill: #1967D2;\n",
              "      height: 32px;\n",
              "      padding: 0 0 0 0;\n",
              "      width: 32px;\n",
              "    }\n",
              "\n",
              "    .colab-df-convert:hover {\n",
              "      background-color: #E2EBFA;\n",
              "      box-shadow: 0px 1px 2px rgba(60, 64, 67, 0.3), 0px 1px 3px 1px rgba(60, 64, 67, 0.15);\n",
              "      fill: #174EA6;\n",
              "    }\n",
              "\n",
              "    [theme=dark] .colab-df-convert {\n",
              "      background-color: #3B4455;\n",
              "      fill: #D2E3FC;\n",
              "    }\n",
              "\n",
              "    [theme=dark] .colab-df-convert:hover {\n",
              "      background-color: #434B5C;\n",
              "      box-shadow: 0px 1px 3px 1px rgba(0, 0, 0, 0.15);\n",
              "      filter: drop-shadow(0px 1px 2px rgba(0, 0, 0, 0.3));\n",
              "      fill: #FFFFFF;\n",
              "    }\n",
              "  </style>\n",
              "\n",
              "      <script>\n",
              "        const buttonEl =\n",
              "          document.querySelector('#df-941bbd83-acc6-4131-9a31-6d3eef2b356a button.colab-df-convert');\n",
              "        buttonEl.style.display =\n",
              "          google.colab.kernel.accessAllowed ? 'block' : 'none';\n",
              "\n",
              "        async function convertToInteractive(key) {\n",
              "          const element = document.querySelector('#df-941bbd83-acc6-4131-9a31-6d3eef2b356a');\n",
              "          const dataTable =\n",
              "            await google.colab.kernel.invokeFunction('convertToInteractive',\n",
              "                                                     [key], {});\n",
              "          if (!dataTable) return;\n",
              "\n",
              "          const docLinkHtml = 'Like what you see? Visit the ' +\n",
              "            '<a target=\"_blank\" href=https://colab.research.google.com/notebooks/data_table.ipynb>data table notebook</a>'\n",
              "            + ' to learn more about interactive tables.';\n",
              "          element.innerHTML = '';\n",
              "          dataTable['output_type'] = 'display_data';\n",
              "          await google.colab.output.renderOutput(dataTable, element);\n",
              "          const docLink = document.createElement('div');\n",
              "          docLink.innerHTML = docLinkHtml;\n",
              "          element.appendChild(docLink);\n",
              "        }\n",
              "      </script>\n",
              "    </div>\n",
              "  </div>\n",
              "  "
            ]
          },
          "metadata": {},
          "execution_count": 86
        }
      ]
    },
    {
      "cell_type": "markdown",
      "source": [
        "The next step is to check if there is any data that is nan and would need to be removed"
      ],
      "metadata": {
        "id": "0JKwhqkh5aeN"
      }
    },
    {
      "cell_type": "code",
      "source": [
        "admData.isna().any()\n"
      ],
      "metadata": {
        "colab": {
          "base_uri": "https://localhost:8080/"
        },
        "id": "-i6Q5Hel5fqQ",
        "outputId": "99b25993-4bf6-4f9d-cd0b-8ffce7b2a647"
      },
      "execution_count": 87,
      "outputs": [
        {
          "output_type": "execute_result",
          "data": {
            "text/plain": [
              "Serial No.           False\n",
              "GRE Score            False\n",
              "TOEFL Score          False\n",
              "University Rating    False\n",
              "SOP                  False\n",
              "LOR                  False\n",
              "CGPA                 False\n",
              "Research             False\n",
              "Chance of Admit      False\n",
              "dtype: bool"
            ]
          },
          "metadata": {},
          "execution_count": 87
        }
      ]
    },
    {
      "cell_type": "markdown",
      "source": [
        "Since there is no NA values all being false and all values are numeric we can start to normalize the data."
      ],
      "metadata": {
        "id": "bqhfyVUj5nMw"
      }
    },
    {
      "cell_type": "code",
      "source": [
        "import sklearn\n",
        "from sklearn import tree\n",
        "from sklearn.model_selection import train_test_split\n",
        "from sklearn import metrics\n",
        "from sklearn import neighbors\n",
        "#This is selecting which values I want to be my predictors and which one I want to be my target variable\n",
        "target = 'Chance of Admit '\n",
        "predictors = admData.columns.drop(target, 'Serial No.')\n",
        "train_data, test_data, train_sln, test_sln = train_test_split(admData[predictors], admData[target])\n",
        "\n",
        "#Next step is to normalize the data to not have values such as GRE and TOEFL scores outweigh other values in the dataset\n",
        "#Normalize both the train and test data keep solutions unnormalized\n",
        "from sklearn.preprocessing import StandardScaler\n",
        "\n",
        "scaler = StandardScaler()\n",
        "\n",
        "scaler.fit(train_data)\n",
        "train_data_normalized = scaler.transform(train_data)\n",
        "test_data_normalized = scaler.transform(test_data)\n",
        "train_data_normalized"
      ],
      "metadata": {
        "colab": {
          "base_uri": "https://localhost:8080/"
        },
        "id": "V8pH_i605m6O",
        "outputId": "3083e3c2-f332-4d9e-b3b9-da0e524c4d8d"
      },
      "execution_count": 219,
      "outputs": [
        {
          "output_type": "execute_result",
          "data": {
            "text/plain": [
              "array([[-1.2730201 , -0.47539594, -1.28829519, ...,  0.02967321,\n",
              "        -1.23297259,  0.85679872],\n",
              "       [-0.86821625,  1.2129261 ,  2.08567737, ...,  0.58604599,\n",
              "         0.57478841,  0.85679872],\n",
              "       [-0.37541157,  0.59091271, -0.44480205, ...,  0.58604599,\n",
              "         0.21664708, -1.16713526],\n",
              "       ...,\n",
              "       [-0.15540948, -0.74197311,  0.06129383, ..., -0.52669956,\n",
              "        -0.85777691, -1.16713526],\n",
              "       [-1.16741909, -0.20881878, -0.10740479, ..., -0.52669956,\n",
              "        -0.20971165,  0.85679872],\n",
              "       [ 0.1789937 ,  0.4131946 ,  0.73608834, ...,  1.14241877,\n",
              "         1.08641889,  0.85679872]])"
            ]
          },
          "metadata": {},
          "execution_count": 219
        }
      ]
    },
    {
      "cell_type": "markdown",
      "metadata": {
        "id": "7SfueFgsNdNt"
      },
      "source": [
        "# 3. Research\n",
        "\n",
        "Put your code and your experiments here.\n",
        "\n",
        "For full credit, your experiments should include the following models:\n",
        "- __k Nearest Neighbors__\n",
        "- __weighted k Nearest Neighbors__\n",
        "- __decision tree__\n",
        "- __random forest__ \n",
        "\n",
        "You need to demonstrate the performance of these models on both __normalized__ and __non-normalized__ data. \n",
        "\n",
        "For each of the above models, you need to include a __graph of at least 1 tuned parameter__. \n"
      ]
    },
    {
      "cell_type": "code",
      "source": [
        "# code goes here... don't forget to include graphs. Professor Moore loves graphs.\n",
        "import sklearn\n",
        "import pandas\n",
        "from sklearn import tree\n",
        "from sklearn.model_selection import train_test_split\n",
        "from sklearn import metrics\n",
        "from sklearn import neighbors\n",
        "\n",
        "knn = neighbors.KNeighborsRegressor(n_neighbors=5)\n",
        "\n",
        "knn.fit(train_data, train_sln)\n",
        "\n",
        "preds = knn.predict(test_data)\n",
        "# use a metric to see how good our predictions are\n",
        "print(\"R2: \", metrics.r2_score(test_sln, preds))\n",
        "print(\"MAE: \", metrics.mean_absolute_error(test_sln, preds))\n",
        "print(\"MSE: \", metrics.mean_squared_error(test_sln, preds))\n",
        "\n",
        "\n",
        "#Using normization on KNN\n",
        "knn2= neighbors.KNeighborsRegressor(n_neighbors=13)\n",
        "\n",
        "knn2.fit(train_data_normalized, train_sln)\n",
        "\n",
        "knn2preds = knn2.predict(test_data_normalized)\n",
        "# use a metric to see how good our predictions are\n",
        "print(\"R2: \", metrics.r2_score(test_sln, knn2preds))\n",
        "print(\"MAE: \", metrics.mean_absolute_error(test_sln, knn2preds))\n",
        "print(\"MSE: \", metrics.mean_squared_error(test_sln, knn2preds))"
      ],
      "metadata": {
        "id": "Z7Wxh3O0KHvo",
        "colab": {
          "base_uri": "https://localhost:8080/"
        },
        "outputId": "daab9f01-3f9e-4d46-9c96-9ec31833e8a2"
      },
      "execution_count": 220,
      "outputs": [
        {
          "output_type": "stream",
          "name": "stdout",
          "text": [
            "R2:  0.6740060085782312\n",
            "MAE:  0.059000000000000025\n",
            "MSE:  0.00615032\n",
            "R2:  0.8134568336157912\n",
            "MAE:  0.04450000000000001\n",
            "MSE:  0.003519390532544379\n"
          ]
        }
      ]
    },
    {
      "cell_type": "code",
      "source": [
        "wknn = neighbors.KNeighborsRegressor(n_neighbors=5, weights = 'distance')\n",
        "\n",
        "# fit (train) the model to the data\n",
        "wknn.fit(train_data, train_sln)\n",
        "\n",
        "# use the trained model to get predictions from the normalized data\n",
        "predict = knn.predict(test_data)\n",
        "# use a metric to see how good our predictions are\n",
        "print(\"R2: \", metrics.r2_score(test_sln, predict))\n",
        "print(\"MAE: \", metrics.mean_absolute_error(test_sln, predict))\n",
        "print(\"MSE: \", metrics.mean_squared_error(test_sln, predict))"
      ],
      "metadata": {
        "colab": {
          "base_uri": "https://localhost:8080/"
        },
        "id": "33jb671awORp",
        "outputId": "7350006f-7544-486b-947a-90cfc5f02986"
      },
      "execution_count": 216,
      "outputs": [
        {
          "output_type": "stream",
          "name": "stdout",
          "text": [
            "R2:  0.6413439142204471\n",
            "MAE:  0.06418999999999998\n",
            "MSE:  0.007195569999999999\n"
          ]
        }
      ]
    },
    {
      "cell_type": "code",
      "source": [
        "wknn2 = neighbors.KNeighborsRegressor(n_neighbors=9, weights = 'distance')\n",
        "\n",
        "wknn2.fit(train_data_normalized, train_sln)\n",
        "\n",
        "preds = wknn2.predict(test_data_normalized)\n",
        "# use a metric to see how good our predictions are\n",
        "print(\"R2: \", metrics.r2_score(test_sln, preds))\n",
        "print(\"MAE: \", metrics.mean_absolute_error(test_sln, preds))\n",
        "print(\"MSE: \", metrics.mean_squared_error(test_sln, preds))"
      ],
      "metadata": {
        "colab": {
          "base_uri": "https://localhost:8080/"
        },
        "id": "z10bMAXTYTBI",
        "outputId": "bcaa143a-efb9-4bf3-9f1a-7d27975dfe5f"
      },
      "execution_count": 183,
      "outputs": [
        {
          "output_type": "stream",
          "name": "stdout",
          "text": [
            "R2:  0.7231660621566698\n",
            "MAE:  0.0490711557126421\n",
            "MSE:  0.0046665786168675035\n"
          ]
        }
      ]
    },
    {
      "cell_type": "code",
      "source": [
        "from sklearn.metrics import mean_squared_error\n",
        "\n",
        "# Load the data into a Pandas DataFrame\n",
        "data = admData\n",
        "\n",
        "# Create a range of k values\n",
        "k_values = np.arange(1, 20)\n",
        "\n",
        "# Create an empty list to store the performance metric for each value of k\n",
        "performance_metrics = []\n",
        "\n",
        "# Iterate over each value of k and compute the performance metric\n",
        "for k in k_values:\n",
        "    model = neighbors.KNeighborsRegressor(n_neighbors=k)\n",
        "    model.fit(train_data, train_sln)\n",
        "    y_pred = model.predict(test_data)\n",
        "    performance_metric = mean_squared_error(test_sln, y_pred)\n",
        "    performance_metrics.append(performance_metric)\n",
        "\n",
        "# Plot the performance metric against the value of k\n",
        "plt.plot(k_values, performance_metrics)\n",
        "plt.xlabel('K Value')\n",
        "plt.ylabel('Performance Metric')\n",
        "plt.show()"
      ],
      "metadata": {
        "colab": {
          "base_uri": "https://localhost:8080/",
          "height": 279
        },
        "id": "LoNMOvhFCXN6",
        "outputId": "77ce590d-dfb3-4d55-e042-aa845b367e26"
      },
      "execution_count": 221,
      "outputs": [
        {
          "output_type": "display_data",
          "data": {
            "text/plain": [
              "<Figure size 432x288 with 1 Axes>"
            ],
            "image/png": "[encoded data removed]"
          },
          "metadata": {
            "needs_background": "light"
          }
        }
      ]
    },
    {
      "cell_type": "markdown",
      "source": [
        "Having a mean squared error closer to 0 is important so using a value between 5-10 is best in the case for KNN"
      ],
      "metadata": {
        "id": "wKkfy-JfE6ob"
      }
    },
    {
      "cell_type": "markdown",
      "source": [
        "Creating a decision tree for the data"
      ],
      "metadata": {
        "id": "DpBq6dUXc2UL"
      }
    },
    {
      "cell_type": "code",
      "source": [
        "#classic scikit-learn algorithm\n",
        "\n",
        "#0. import libraries\n",
        "from sklearn import tree\n",
        "from sklearn import metrics\n",
        "\n",
        "dt = tree.DecisionTreeRegressor(max_depth = 5, random_state = 3)\n",
        "\n",
        "dt.fit(train_data,train_sln)\n",
        "\n",
        "admit_predictions = dt.predict(test_data)\n",
        "\n",
        "print(\"Unnormalized data results\")\n",
        "print(\"R2: \", metrics.r2_score(test_sln, admit_predictions))\n",
        "print(\"MAE: \", metrics.mean_absolute_error(test_sln, admit_predictions))\n",
        "print(\"MSE: \", metrics.mean_squared_error(test_sln, admit_predictions))"
      ],
      "metadata": {
        "colab": {
          "base_uri": "https://localhost:8080/"
        },
        "id": "VsCTGspoc150",
        "outputId": "5b3d4bc4-fa2a-4bf8-dc91-89baa7203fe9"
      },
      "execution_count": 186,
      "outputs": [
        {
          "output_type": "stream",
          "name": "stdout",
          "text": [
            "Unnormalized data results\n",
            "R2:  0.6635550475183021\n",
            "MAE:  0.05309433359429229\n",
            "MSE:  0.005671439106185881\n"
          ]
        }
      ]
    },
    {
      "cell_type": "code",
      "source": [
        "dt2 = tree.DecisionTreeRegressor(max_depth = 5, random_state = 5)\n",
        "\n",
        "dt2.fit(train_data_normalized, train_sln)\n",
        "\n",
        "admit_preds = dt2.predict(test_data_normalized)\n",
        "\n",
        "print(\"Normalized data results\")\n",
        "print(\"R2: \", metrics.r2_score(test_sln, admit_preds))\n",
        "print(\"MAE: \", metrics.mean_absolute_error(test_sln, admit_preds))\n",
        "print(\"MSE: \", metrics.mean_squared_error(test_sln, admit_preds))\n",
        "\n"
      ],
      "metadata": {
        "colab": {
          "base_uri": "https://localhost:8080/"
        },
        "id": "2Pa7p2Ezjja1",
        "outputId": "f90da6dd-d3a8-4066-ed30-b9bf3b20c5ad"
      },
      "execution_count": 185,
      "outputs": [
        {
          "output_type": "stream",
          "name": "stdout",
          "text": [
            "Normalized data results\n",
            "R2:  0.6635550475183023\n",
            "MAE:  0.05309433359429229\n",
            "MSE:  0.005671439106185878\n"
          ]
        }
      ]
    },
    {
      "cell_type": "code",
      "source": [
        "import numpy as np\n",
        "import pandas as pd\n",
        "import matplotlib.pyplot as plt\n",
        "from sklearn.tree import DecisionTreeRegressor\n",
        "from sklearn import metrics\n",
        "\n",
        "# Load the data into a Pandas DataFrame\n",
        "data = admData\n",
        "\n",
        "# Separate the target variable from the features\n",
        "target = 'Chance of Admit '\n",
        "predictors = admData.columns.drop(target, 'Serial No.')\n",
        "train_data, test_data, train_sln, test_sln = train_test_split(admData[predictors], admData[target])\n",
        "\n",
        "# Create a range of maximum depth values\n",
        "max_depths = np.arange(1, 60)\n",
        "\n",
        "# Create an empty list to store the performance metric for each value of maximum depth\n",
        "performance_metrics = []\n",
        "\n",
        "# Iterate over each value of maximum depth and compute the performance metric\n",
        "for depth in max_depths:\n",
        "    model = DecisionTreeRegressor(max_depth=depth)\n",
        "    model.fit(train_data, train_sln)\n",
        "    y_pred = model.predict(test_data)\n",
        "    performance_metric = metrics.r2_score(test_sln, y_pred)\n",
        "    performance_metrics.append(performance_metric)\n",
        "\n",
        "# Plot the performance metric against the maximum depth\n",
        "plt.plot(max_depths, performance_metrics)\n",
        "plt.xlabel('Maximum Depth')\n",
        "plt.ylabel('Performance Metric')\n",
        "plt.show()"
      ],
      "metadata": {
        "colab": {
          "base_uri": "https://localhost:8080/",
          "height": 279
        },
        "id": "CI_HoZJQ-BxF",
        "outputId": "e0f1b4e4-81c4-4557-a2f7-1c25e65f922a"
      },
      "execution_count": 223,
      "outputs": [
        {
          "output_type": "display_data",
          "data": {
            "text/plain": [
              "<Figure size 432x288 with 1 Axes>"
            ],
            "image/png": "[encoded data removed]"
          },
          "metadata": {
            "needs_background": "light"
          }
        }
      ]
    },
    {
      "cell_type": "markdown",
      "source": [
        "With this graph it shows that there is a best option of using 5 as the max depth"
      ],
      "metadata": {
        "id": "2PHA5UJbEf_T"
      }
    },
    {
      "cell_type": "markdown",
      "source": [
        "Next using radnom forests"
      ],
      "metadata": {
        "id": "8iZ0yfoymKTS"
      }
    },
    {
      "cell_type": "code",
      "source": [
        "from sklearn.ensemble import RandomForestRegressor\n",
        "forest = RandomForestRegressor(n_estimators=50)\n",
        "forest.fit(train_data, train_sln)\n",
        "admpreds = forest.predict(test_data)\n",
        "\n",
        "print(\"R2: \", metrics.r2_score(test_sln, admpreds))\n",
        "print(\"MAE: \", metrics.mean_absolute_error(test_sln, admpreds))\n",
        "print(\"MSE: \", metrics.mean_squared_error(test_sln, admpreds))\n",
        "\n",
        "\n",
        "forest2 = RandomForestRegressor(n_estimators=60)\n",
        "forest2.fit(train_data_normalized, train_sln)\n",
        "admpred = forest2.predict(test_data_normalized)\n",
        "\n",
        "print(\"R2: \", metrics.r2_score(test_sln, admpred))\n",
        "print(\"MAE: \", metrics.mean_absolute_error(test_sln, admpred))\n",
        "print(\"MSE: \", metrics.mean_squared_error(test_sln, admpred))"
      ],
      "metadata": {
        "colab": {
          "base_uri": "https://localhost:8080/"
        },
        "id": "kFJlWvJDmNda",
        "outputId": "607f700d-3098-4d87-c426-378b6bac0140"
      },
      "execution_count": 174,
      "outputs": [
        {
          "output_type": "stream",
          "name": "stdout",
          "text": [
            "R2:  0.8233988744733715\n",
            "MAE:  0.04662200000000004\n",
            "MSE:  0.0041871756000000015\n",
            "R2:  0.817236853074897\n",
            "MAE:  0.04741500000000002\n",
            "MSE:  0.004333275833333336\n"
          ]
        }
      ]
    },
    {
      "cell_type": "code",
      "source": [
        "import numpy as np\n",
        "import pandas as pd\n",
        "import matplotlib.pyplot as plt\n",
        "from sklearn.ensemble import RandomForestClassifier\n",
        "\n",
        "# Load the data into a Pandas DataFrame\n",
        "data = admData\n",
        "\n",
        "# Separate the target variable from the features\n",
        "X = data.drop(target, axis=1)\n",
        "y = data[target]\n",
        "\n",
        "# Create a range of n_estimators values\n",
        "n_estimators = np.arange(10, 100, 5)\n",
        "\n",
        "# Create an empty list to store the OOB error rate for each value of n_estimators\n",
        "oob_error_rates = []\n",
        "\n",
        "# Iterate over each value of n_estimators and calculate the OOB error rate\n",
        "for n in n_estimators:\n",
        "    model = RandomForestRegressor(n_estimators=n, oob_score=True)\n",
        "    model.fit(X, y)\n",
        "    oob_error_rate = 1 - model.oob_score_\n",
        "    oob_error_rates.append(oob_error_rate)\n",
        "\n",
        "# Plot the OOB error rate against the number of estimators\n",
        "plt.plot(n_estimators, oob_error_rates)\n",
        "plt.xlabel('Number of Estimators')\n",
        "plt.ylabel('OOB Error Rate')\n",
        "plt.show()"
      ],
      "metadata": {
        "colab": {
          "base_uri": "https://localhost:8080/",
          "height": 368
        },
        "id": "P37kcfxV8m4N",
        "outputId": "68744fe5-9c85-44c2-a9a3-f45987f5854f"
      },
      "execution_count": 190,
      "outputs": [
        {
          "output_type": "stream",
          "name": "stderr",
          "text": [
            "/usr/local/lib/python3.9/dist-packages/sklearn/ensemble/_forest.py:583: UserWarning: Some inputs do not have OOB scores. This probably means too few trees were used to compute any reliable OOB estimates.\n",
            "  warn(\n",
            "/usr/local/lib/python3.9/dist-packages/sklearn/ensemble/_forest.py:583: UserWarning: Some inputs do not have OOB scores. This probably means too few trees were used to compute any reliable OOB estimates.\n",
            "  warn(\n"
          ]
        },
        {
          "output_type": "display_data",
          "data": {
            "text/plain": [
              "<Figure size 432x288 with 1 Axes>"
            ],
            "image/png": "[encoded data removed]"
          },
          "metadata": {
            "needs_background": "light"
          }
        }
      ]
    },
    {
      "cell_type": "markdown",
      "source": [
        "This states that any value estimators greater than 20 will give a good bet for similar good results"
      ],
      "metadata": {
        "id": "ThA3NkxLELxT"
      }
    },
    {
      "cell_type": "markdown",
      "source": [
        "Now we can look at what are the best predictors for the data"
      ],
      "metadata": {
        "id": "ZZpj_xfq4nZl"
      }
    },
    {
      "cell_type": "code",
      "source": [
        "from sklearn.feature_selection import SelectKBest\n",
        "selector = SelectKBest(k=2)\n",
        "selector.fit(train_data,train_sln)\n",
        "\n",
        "# bigger number means the feature is more important\n",
        "print('Here are the scores of each feature:')\n",
        "print(selector.scores_)\n",
        "print(predictors)"
      ],
      "metadata": {
        "colab": {
          "base_uri": "https://localhost:8080/"
        },
        "id": "_YP4Fbk04sEF",
        "outputId": "fd910816-ff26-4607-e789-2c9670902339"
      },
      "execution_count": 179,
      "outputs": [
        {
          "output_type": "stream",
          "name": "stdout",
          "text": [
            "Here are the scores of each feature:\n",
            "[ 1.44152847 12.23561988 12.80631898  7.35302137  6.11488123  4.92977431\n",
            " 20.59114336  3.42774077]\n",
            "Index(['Serial No.', 'GRE Score', 'TOEFL Score', 'University Rating', 'SOP',\n",
            "       'LOR ', 'CGPA', 'Research'],\n",
            "      dtype='object')\n"
          ]
        }
      ]
    },
    {
      "cell_type": "markdown",
      "source": [
        "#4. Analysis\n",
        "\n",
        "What did you discover? What insights/recommendations do you have? What did you find that was interesting? Which model was your best model, which models didn't work well? Why do you think this is? In general, I want a discussion of your experiment, the results, and what they mean.\n",
        "\n",
        "This chart might help organize your results:\n",
        "\n",
        "| **Model**     | **Non-Normalized** | **Normalized** | **Parameter Tuned** |\n",
        "|---------------|--------------------|----------------|---------------------|\n",
        "| kNN           |       R2=.68       |   R2=.77       |num neighbors        |\n",
        "| w-kNN         |       R2=.68       |   R2=.81       |num numbers          |\n",
        "| decision tree |       R2=.70       |   R2=.71     | Max depth            |\n",
        "| random forest |       R2=.82       |   R2=.82      | n_estimators                    |"
      ],
      "metadata": {
        "id": "3n4WI2CiTbSC"
      }
    },
    {
      "cell_type": "markdown",
      "source": [
        "I discovered that when normalizing decision trees and forests the percent is very affected very little. When going down a tree it makes sense since it is not weighted and simply goes down the branches.\n",
        "\n",
        "It was also proven that normalizing the data created a greater in K nearest neighbors. \n",
        "\n",
        "In my opinion the best is either a random forest or a weighted K Nearest Neighbor, with prefrence to wknn because the random forest varies from .76-.82 since it is random each time. \n",
        "\n",
        "I also found that the most important factors in these were CGPA, GRE Score (Graduate Aptitude test score), TOEFL score(test of english and foreign language), and University rating. These made sense to me and I was a little surprised about Letter of reccomendations not weighing in as much.  "
      ],
      "metadata": {
        "id": "6-hRqIl9KL9L"
      }
    },
    {
      "cell_type": "markdown",
      "source": [
        "# 5. Bumps in the Road\n",
        "What challenges did you encounter? How did you overcome these challenges?"
      ],
      "metadata": {
        "id": "sQYL8y5UKO9G"
      }
    },
    {
      "cell_type": "markdown",
      "source": [
        "First was importing the data it took me a couple tries and worked, next was seperating the data there was a hidden space after some columns names so it was harder to type those out.\n",
        "\n",
        "Using code that was meant for classifiers on regressors caused me to also do some trouble shooting, I found my mistakes and was able to work them out to make the models work.\n",
        "\n",
        "I also was having a difficult time with graphing for the models and used Scikit model my graph code after then putting in my data and variables. "
      ],
      "metadata": {
        "id": "4XPFALubKQPZ"
      }
    }
  ]
}