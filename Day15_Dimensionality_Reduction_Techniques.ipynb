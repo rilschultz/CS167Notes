{
  "cells": [
    {
      "cell_type": "markdown",
      "metadata": {
        "id": "view-in-github",
        "colab_type": "text"
      },
      "source": [
        "<a href=\"https://colab.research.google.com/github/rilschultz/CS167Notes/blob/main/Day15_Dimensionality_Reduction_Techniques.ipynb\" target=\"_parent\"><img src=\"https://colab.research.google.com/assets/colab-badge.svg\" alt=\"Open In Colab\"/></a>"
      ]
    },
    {
      "cell_type": "markdown",
      "metadata": {
        "id": "J192vFI2EKQQ"
      },
      "source": [
        "# CS167: Day15\n",
        "## Dimensionality Reduction\n",
        "\n",
        "#### CS167: Machine Learning, Spring 2023\n",
        "\n",
        "Thursday, March 23rd, 2023\n",
        "\n",
        "📆 [Course Schedule](https://docs.google.com/spreadsheets/d/e/2PACX-1vSvFV5Mz0_YZE1d5r3gQ8IMktE4cBAsJIlP30cl2GhEpSO0J-YWV62QokSDz-OcOCsEmxMuKpY0kVlR/pubhtml?gid=0&single=true) | 🙋[PollEverywhere](https://pollev.com/meredithmoore011) | 📜 [Syllabus](https://analytics.drake.edu/~moore/cs167_s23_syllabus.html) | 📬 [CodePost Login](https://codepost.io/login)"
      ]
    },
    {
      "cell_type": "markdown",
      "metadata": {
        "id": "vVNyTH3BEKQR"
      },
      "source": [
        "# Admin Stuff"
      ]
    },
    {
      "cell_type": "markdown",
      "metadata": {
        "id": "PRWQNCoNEKQS"
      },
      "source": [
        "You should be working on:\n",
        "- [Project #1](https://classroom.github.com/a/qGx9Wonm) id  **due tonight, Thursday, March 23rd, by 11:59pm**."
      ]
    },
    {
      "cell_type": "markdown",
      "metadata": {
        "id": "fl_5gYc5EKQS"
      },
      "source": [
        "Grading:\n",
        "- Midterm grades are posted--just an estimate"
      ]
    },
    {
      "cell_type": "markdown",
      "metadata": {
        "id": "2hD3AQfFEKQS"
      },
      "source": [
        "# Quick Review:"
      ]
    },
    {
      "cell_type": "markdown",
      "metadata": {
        "id": "rjz8jq_UEKQS"
      },
      "source": [
        "## Dimensionality of Data\n",
        "\n",
        "__Dimensionality__: the number of attributes that a dataset has"
      ]
    },
    {
      "cell_type": "markdown",
      "metadata": {
        "id": "7OKB2dHKEKQS"
      },
      "source": [
        "- __High dimensionality__: If the number of attributes (i.e. columns) is higher than the number of observations (i.e. rows) the dimensionality of the data is very high (i.e. *healthcare data*, *gene expression*, \n",
        "    - Pros: more data provides more attributes to 'learn' from\n",
        "    - Cons: more compute time"
      ]
    },
    {
      "cell_type": "markdown",
      "metadata": {
        "id": "wPD5fFONEKQT"
      },
      "source": [
        "- __Low dimensionality__: if the number of attributes (i.e. columns) is relatively small compared to the number of rows. (i.e. *Iris Dataset*)\n",
        "    - Pros: simpler data, less compute time\n",
        "    - Cons: less likely to be easily separable"
      ]
    },
    {
      "cell_type": "markdown",
      "metadata": {
        "id": "gIP_Z-lDEKQT"
      },
      "source": [
        "## 🔮 Curse of Dimensionality:\n",
        "\n",
        "The __curse of dimensionality__: the more dimensions you add to a dataset, the more difficult it becomes to make predictions about that dataset. \n",
        "- each attribute added results an an _exponenetial decrease in predictive power_. "
      ]
    },
    {
      "cell_type": "markdown",
      "metadata": {
        "id": "XsMJcIsPEKQT"
      },
      "source": [
        "# Overview:\n",
        "\n",
        "The next two lectures, we're going to be playing around with the __dimensionality__ of our datasets. \n",
        "- __Support Vector Machines__: increase dimensionality so that our data can be linearly separable\n",
        "- __Principal Component Analysis__: Decreases the dimensionality of our datasets"
      ]
    },
    {
      "cell_type": "markdown",
      "metadata": {
        "id": "FYmgg3xeEKQT"
      },
      "source": [
        "# Support Vector Machine Review\n",
        "\n",
        "Things to remember about SVMs:"
      ]
    },
    {
      "cell_type": "markdown",
      "metadata": {
        "id": "p3JPGxIbEKQU"
      },
      "source": [
        "- __supervised__ machine learning model "
      ]
    },
    {
      "cell_type": "markdown",
      "metadata": {
        "id": "eO0cHO6NEKQU"
      },
      "source": [
        "- can be used for __classification__ or __regression__"
      ]
    },
    {
      "cell_type": "markdown",
      "metadata": {
        "id": "ttv6lYZLEKQU"
      },
      "source": [
        "- goal is to find the decision a boundary (point/line/plane/hyperplane) \n",
        "<div>\n",
        "<img src=\"https://github.com/merriekay/S23-CS167-Notes/blob/main/images/day14_hyperplane.png?raw=1\" width=800/>\n",
        "</div>"
      ]
    },
    {
      "cell_type": "markdown",
      "metadata": {
        "id": "LuK0j3MMEKQU"
      },
      "source": [
        "# Support Vector Machine Review\n",
        "\n",
        "Things to remember about SVMs:"
      ]
    },
    {
      "cell_type": "markdown",
      "metadata": {
        "id": "SEejyBetEKQU"
      },
      "source": [
        "- often there are many possible decision boundaries, but SVMs will select the decision boundary that __maximizes the margins__.\n",
        "<div>\n",
        "<img src=\"https://github.com/merriekay/S23-CS167-Notes/blob/main/images/day15_svm_summary.png?raw=1\" width=400/>\n",
        "</div>"
      ]
    },
    {
      "cell_type": "markdown",
      "metadata": {
        "id": "lvLjEgI_EKQU"
      },
      "source": [
        "# Support Vector Machine Review\n",
        "\n",
        "Things to remember about SVMs:"
      ]
    },
    {
      "cell_type": "markdown",
      "metadata": {
        "id": "XWssuSNyEKQV"
      },
      "source": [
        "- if data is not lineraly separable, SVMs employ the __kernel trick__. \n",
        "    - __kernel trick__: A combination of existing columns is added as a new dimension with the goal of mapping the data to a higher dimensional space where we can find a hyperplane that separates the classes.\n",
        "\n",
        "<div>\n",
        "<img src=\"https://github.com/merriekay/S23-CS167-Notes/blob/main/images/day14_kernel.png?raw=1\" width=500/>\n",
        "</div>"
      ]
    },
    {
      "cell_type": "markdown",
      "metadata": {
        "id": "lgRrOtUoEKQV"
      },
      "source": [
        "## 🙋 PollEverywhere Review Q"
      ]
    },
    {
      "cell_type": "markdown",
      "metadata": {
        "id": "rM4Z7t_YEKQV"
      },
      "source": [
        "# ✨ New Material"
      ]
    },
    {
      "cell_type": "markdown",
      "metadata": {
        "id": "qGFuObH1EKQV"
      },
      "source": [
        "# Dimensionality Reduction:\n",
        "\n",
        "When working with datasets that have many variables (i.e. columns), it is often advantageous to \"reduce the dimension of your feature space\"-- or in other words, focus on a smaller subset of the most important variables.\n",
        "\n",
        "Reducing the dimension  of the feature space is called __dimensionality reduction__. "
      ]
    },
    {
      "cell_type": "markdown",
      "metadata": {
        "id": "GCp0p16fEKQV"
      },
      "source": [
        "- visualize high-dimensional data in 2D or 3D\n",
        "- Reduce noise\n",
        "- Better/faster learning - removing irrelevant features"
      ]
    },
    {
      "cell_type": "markdown",
      "metadata": {
        "id": "CpERX_tLEKQV"
      },
      "source": [
        "## Dimensionality Reduction Techniques:\n",
        "1. __Feature Selection/Elimination__: choose which features are important\n",
        "2. __Feature Extraction__: transforming raw data into numeric feaures that can be processed while preserving the information in the original dataset"
      ]
    },
    {
      "cell_type": "markdown",
      "metadata": {
        "id": "ZAtuXybMEKQW"
      },
      "source": [
        "# 1. Feature Selection/Elimination:\n",
        "\n",
        "__Big Idea__: Choose only the important existing features, and use those for classification or regression. "
      ]
    },
    {
      "cell_type": "markdown",
      "metadata": {
        "id": "PBF84oKKEKQW"
      },
      "source": [
        "## 💬 Group Discussion:\n",
        "\n",
        "See if you and your group can come up with some ways to tell how important a variable (i.e. column) is for making a machine learning prediction."
      ]
    },
    {
      "cell_type": "markdown",
      "metadata": {
        "id": "7tj4_gbxEKQW"
      },
      "source": [
        "Ideas:\n",
        "- Try machine learning with one column at a time... pick the columns that give you the best performance.\n",
        "- Build a decision tree or Random Forest and look at the `feature_importances_` attribute (which is built from __information gain__).\n",
        "- Statistical tests: chi squared, F-value, etc."
      ]
    },
    {
      "cell_type": "markdown",
      "metadata": {
        "id": "1ESw9fNGEKQW"
      },
      "source": [
        "## Advantages of Feature Selection/Elimination:\n",
        "\n",
        "- Simplicity--easily interpretable\n",
        "- maintaining the interpretability of your variables (in comparison to feature extraction)"
      ]
    },
    {
      "cell_type": "markdown",
      "metadata": {
        "id": "X1nuUoyYEKQW"
      },
      "source": [
        "## Disadvantages of Feature Selection/Elimination:\n",
        "\n",
        "- you lose data by dropping columns"
      ]
    },
    {
      "cell_type": "markdown",
      "metadata": {
        "id": "c9K0kxamEKQW"
      },
      "source": [
        "## Feature Selection Code:\n",
        "\n",
        "Documentation: [`sklearn.feature_selection.SelectKBest()`](https://scikit-learn.org/stable/modules/generated/sklearn.feature_selection.SelectKBest.html)"
      ]
    },
    {
      "cell_type": "code",
      "execution_count": 1,
      "metadata": {
        "id": "-NbgUJf4EKQX"
      },
      "outputs": [],
      "source": [
        "import pandas\n",
        "from sklearn.neighbors import KNeighborsClassifier\n",
        "from sklearn.model_selection import train_test_split\n",
        "from sklearn.feature_selection import SelectKBest\n",
        "from sklearn.metrics import accuracy_score"
      ]
    },
    {
      "cell_type": "code",
      "execution_count": 2,
      "metadata": {
        "id": "l4BgBLi1EKQX",
        "outputId": "5557ca94-1f11-402c-f31e-1101b408cf8b",
        "colab": {
          "base_uri": "https://localhost:8080/"
        }
      },
      "outputs": [
        {
          "output_type": "stream",
          "name": "stdout",
          "text": [
            "Mounted at /content/drive\n"
          ]
        }
      ],
      "source": [
        "from google.colab import drive\n",
        "drive.mount('/content/drive')"
      ]
    },
    {
      "cell_type": "code",
      "execution_count": 3,
      "metadata": {
        "id": "IvhAzlmlEKQX",
        "outputId": "3ee8226d-3a34-4116-c906-fad5e8c543f3",
        "colab": {
          "base_uri": "https://localhost:8080/"
        }
      },
      "outputs": [
        {
          "output_type": "stream",
          "name": "stdout",
          "text": [
            "Here are the scores of each feature:\n",
            "[ 83.17181699  48.65999233 962.36229917 894.63459428]\n",
            "['sepal length', 'sepal width', 'petal length', 'petal width']\n"
          ]
        }
      ],
      "source": [
        "path = '/content/drive/MyDrive/datasets/irisData.csv'\n",
        "data = pandas.read_csv(path)\n",
        "predictors = ['sepal length', 'sepal width', 'petal length', 'petal width']\n",
        "target = \"species\"\n",
        "\n",
        "train_data, test_data, train_sln, test_sln = \\\n",
        "    train_test_split(data[predictors], data[target], test_size = 0.2, random_state=41)\n",
        "\n",
        "# fit your selector just like you do when training with a classifier/regressor\n",
        "# only do this after splitting into train and test sets - don't let the test\n",
        "# set spoil your predictions\n",
        "selector = SelectKBest(k=2)\n",
        "selector.fit(train_data,train_sln)\n",
        "\n",
        "# bigger number means the feature is more important\n",
        "print('Here are the scores of each feature:')\n",
        "print(selector.scores_)\n",
        "print(predictors)"
      ]
    },
    {
      "cell_type": "code",
      "execution_count": 4,
      "metadata": {
        "id": "jizl5RqUEKQY",
        "outputId": "1ecdc2c7-4894-4cca-febc-89eea45bc55e",
        "colab": {
          "base_uri": "https://localhost:8080/"
        }
      },
      "outputs": [
        {
          "output_type": "stream",
          "name": "stdout",
          "text": [
            "Here's what the training predictors look like after the transformation. Notice that it's just the last two columns from the original data.\n"
          ]
        },
        {
          "output_type": "execute_result",
          "data": {
            "text/plain": [
              "array([[3.5, 1. ],\n",
              "       [4.6, 1.5],\n",
              "       [4.5, 1.7],\n",
              "       [4.4, 1.2],\n",
              "       [5.2, 2.3],\n",
              "       [1.2, 0.2]])"
            ]
          },
          "metadata": {},
          "execution_count": 4
        }
      ],
      "source": [
        "#transforming the predictor columns of the training set\n",
        "train_transformed = selector.transform(train_data)\n",
        "\n",
        "print(\"Here's what the training predictors look like after the transformation. \\\n",
        "Notice that it's just the last two columns from the original data.\")\n",
        "train_transformed[0:6]"
      ]
    },
    {
      "cell_type": "code",
      "execution_count": null,
      "metadata": {
        "id": "5SSaNP16EKQY",
        "outputId": "76521663-98df-4ca2-80d0-99899ec56fc2"
      },
      "outputs": [
        {
          "data": {
            "text/html": [
              "<div>\n",
              "<style scoped>\n",
              "    .dataframe tbody tr th:only-of-type {\n",
              "        vertical-align: middle;\n",
              "    }\n",
              "\n",
              "    .dataframe tbody tr th {\n",
              "        vertical-align: top;\n",
              "    }\n",
              "\n",
              "    .dataframe thead th {\n",
              "        text-align: right;\n",
              "    }\n",
              "</style>\n",
              "<table border=\"1\" class=\"dataframe\">\n",
              "  <thead>\n",
              "    <tr style=\"text-align: right;\">\n",
              "      <th></th>\n",
              "      <th>sepal length</th>\n",
              "      <th>sepal width</th>\n",
              "      <th>petal length</th>\n",
              "      <th>petal width</th>\n",
              "    </tr>\n",
              "  </thead>\n",
              "  <tbody>\n",
              "    <tr>\n",
              "      <th>79</th>\n",
              "      <td>5.7</td>\n",
              "      <td>2.6</td>\n",
              "      <td>3.5</td>\n",
              "      <td>1.0</td>\n",
              "    </tr>\n",
              "    <tr>\n",
              "      <th>54</th>\n",
              "      <td>6.5</td>\n",
              "      <td>2.8</td>\n",
              "      <td>4.6</td>\n",
              "      <td>1.5</td>\n",
              "    </tr>\n",
              "    <tr>\n",
              "      <th>106</th>\n",
              "      <td>4.9</td>\n",
              "      <td>2.5</td>\n",
              "      <td>4.5</td>\n",
              "      <td>1.7</td>\n",
              "    </tr>\n",
              "    <tr>\n",
              "      <th>90</th>\n",
              "      <td>5.5</td>\n",
              "      <td>2.6</td>\n",
              "      <td>4.4</td>\n",
              "      <td>1.2</td>\n",
              "    </tr>\n",
              "    <tr>\n",
              "      <th>145</th>\n",
              "      <td>6.7</td>\n",
              "      <td>3.0</td>\n",
              "      <td>5.2</td>\n",
              "      <td>2.3</td>\n",
              "    </tr>\n",
              "    <tr>\n",
              "      <th>14</th>\n",
              "      <td>5.8</td>\n",
              "      <td>4.0</td>\n",
              "      <td>1.2</td>\n",
              "      <td>0.2</td>\n",
              "    </tr>\n",
              "  </tbody>\n",
              "</table>\n",
              "</div>"
            ],
            "text/plain": [
              "     sepal length  sepal width  petal length  petal width\n",
              "79            5.7          2.6           3.5          1.0\n",
              "54            6.5          2.8           4.6          1.5\n",
              "106           4.9          2.5           4.5          1.7\n",
              "90            5.5          2.6           4.4          1.2\n",
              "145           6.7          3.0           5.2          2.3\n",
              "14            5.8          4.0           1.2          0.2"
            ]
          },
          "execution_count": 4,
          "metadata": {},
          "output_type": "execute_result"
        }
      ],
      "source": [
        "#take a look at the training data\n",
        "train_data[0:6]"
      ]
    },
    {
      "cell_type": "code",
      "execution_count": 5,
      "metadata": {
        "id": "L6Mbd67dEKQZ",
        "outputId": "66790cf4-9db1-4fa9-bea0-1330efa688c2",
        "colab": {
          "base_uri": "https://localhost:8080/"
        }
      },
      "outputs": [
        {
          "output_type": "stream",
          "name": "stdout",
          "text": [
            "Accuracy: 0.9333333333333333\n"
          ]
        }
      ],
      "source": [
        "#Now we transform the predictor columns in the test set as well.\n",
        "#Notice that we're using the selector that we trained using the training set.\n",
        "#Do not re-fit it to the test data. \n",
        "test_transformed = selector.transform(test_data)\n",
        "\n",
        "#Now we can use our transformed data with a classifier just like always:\n",
        "clf = KNeighborsClassifier()\n",
        "clf.fit(train_transformed,train_sln)\n",
        "predictions = clf.predict(test_transformed)\n",
        "print('Accuracy:',accuracy_score(test_sln,predictions))"
      ]
    },
    {
      "cell_type": "markdown",
      "metadata": {
        "id": "TJ3AHwlXEKQZ"
      },
      "source": [
        "Let's compare it to a model trained on all of the data:"
      ]
    },
    {
      "cell_type": "code",
      "execution_count": 6,
      "metadata": {
        "id": "KrhlJdnJEKQZ",
        "outputId": "d96f80e6-37e7-40ba-c88e-a5fc9335fac2",
        "colab": {
          "base_uri": "https://localhost:8080/"
        }
      },
      "outputs": [
        {
          "output_type": "stream",
          "name": "stdout",
          "text": [
            "Accuracy: 0.9666666666666667\n"
          ]
        }
      ],
      "source": [
        "clf = KNeighborsClassifier()\n",
        "clf.fit(train_data,train_sln)\n",
        "predictions = clf.predict(test_data)\n",
        "print('Accuracy:',accuracy_score(test_sln,predictions))"
      ]
    },
    {
      "cell_type": "markdown",
      "metadata": {
        "id": "pgxO4InXEKQZ"
      },
      "source": [
        "## Feature Selection Code (all together)"
      ]
    },
    {
      "cell_type": "code",
      "execution_count": null,
      "metadata": {
        "id": "jaNsa9LSEKQZ",
        "outputId": "cfc61c91-2fc3-4da9-d891-c45383cb11fa"
      },
      "outputs": [
        {
          "name": "stdout",
          "output_type": "stream",
          "text": [
            "Accuracy: 0.9333333333333333\n"
          ]
        }
      ],
      "source": [
        "#load data first\n",
        "\n",
        "# create an instance of 'SelectKBest'\n",
        "selector = SelectKBest(k=2)\n",
        "\n",
        "# fit it on your train data and solutions\n",
        "selector.fit(train_data,train_sln)\n",
        "\n",
        "# transform your traning data to only have the k best attributes\n",
        "train_transformed = selector.transform(train_data)\n",
        "\n",
        "#build a model\n",
        "clf = KNeighborsClassifier()\n",
        "clf.fit(train_transformed,train_sln)\n",
        "predictions = clf.predict(test_transformed)\n",
        "print('Accuracy:',accuracy_score(test_sln,predictions))"
      ]
    },
    {
      "cell_type": "markdown",
      "metadata": {
        "id": "IM_1uA7IEKQa"
      },
      "source": [
        "# 💬 Group Exercise:\n",
        "\n",
        "Let's give it a shot:\n",
        "- below, I went ahead and loaded in the penguin dataset 🐧\n",
        "- Using `species` as the target variable, what are the 3 best attributes?\n",
        "- Build a default Random Forest using only the 3 best attributes. How does the performance compare to a default random forest that uses all of the predictor variables?"
      ]
    },
    {
      "cell_type": "code",
      "execution_count": 7,
      "metadata": {
        "id": "X2Nmx33WEKQa",
        "outputId": "d33e8937-1966-4faa-9da9-5ce96986be5d",
        "colab": {
          "base_uri": "https://localhost:8080/",
          "height": 206
        }
      },
      "outputs": [
        {
          "output_type": "execute_result",
          "data": {
            "text/plain": [
              "  species  culmen_length_mm  culmen_depth_mm  flipper_length_mm  body_mass_g  \\\n",
              "0  Adelie              39.1             18.7              181.0       3750.0   \n",
              "1  Adelie              39.5             17.4              186.0       3800.0   \n",
              "2  Adelie              40.3             18.0              195.0       3250.0   \n",
              "4  Adelie              36.7             19.3              193.0       3450.0   \n",
              "5  Adelie              39.3             20.6              190.0       3650.0   \n",
              "\n",
              "   sex  island_Biscoe  island_Dream  island_Torgersen  \n",
              "0  0.0              0             0                 1  \n",
              "1  1.0              0             0                 1  \n",
              "2  1.0              0             0                 1  \n",
              "4  1.0              0             0                 1  \n",
              "5  0.0              0             0                 1  "
            ],
            "text/html": [
              "\n",
              "  <div id=\"df-5a196194-9a77-4755-846e-efd75c28bba7\">\n",
              "    <div class=\"colab-df-container\">\n",
              "      <div>\n",
              "<style scoped>\n",
              "    .dataframe tbody tr th:only-of-type {\n",
              "        vertical-align: middle;\n",
              "    }\n",
              "\n",
              "    .dataframe tbody tr th {\n",
              "        vertical-align: top;\n",
              "    }\n",
              "\n",
              "    .dataframe thead th {\n",
              "        text-align: right;\n",
              "    }\n",
              "</style>\n",
              "<table border=\"1\" class=\"dataframe\">\n",
              "  <thead>\n",
              "    <tr style=\"text-align: right;\">\n",
              "      <th></th>\n",
              "      <th>species</th>\n",
              "      <th>culmen_length_mm</th>\n",
              "      <th>culmen_depth_mm</th>\n",
              "      <th>flipper_length_mm</th>\n",
              "      <th>body_mass_g</th>\n",
              "      <th>sex</th>\n",
              "      <th>island_Biscoe</th>\n",
              "      <th>island_Dream</th>\n",
              "      <th>island_Torgersen</th>\n",
              "    </tr>\n",
              "  </thead>\n",
              "  <tbody>\n",
              "    <tr>\n",
              "      <th>0</th>\n",
              "      <td>Adelie</td>\n",
              "      <td>39.1</td>\n",
              "      <td>18.7</td>\n",
              "      <td>181.0</td>\n",
              "      <td>3750.0</td>\n",
              "      <td>0.0</td>\n",
              "      <td>0</td>\n",
              "      <td>0</td>\n",
              "      <td>1</td>\n",
              "    </tr>\n",
              "    <tr>\n",
              "      <th>1</th>\n",
              "      <td>Adelie</td>\n",
              "      <td>39.5</td>\n",
              "      <td>17.4</td>\n",
              "      <td>186.0</td>\n",
              "      <td>3800.0</td>\n",
              "      <td>1.0</td>\n",
              "      <td>0</td>\n",
              "      <td>0</td>\n",
              "      <td>1</td>\n",
              "    </tr>\n",
              "    <tr>\n",
              "      <th>2</th>\n",
              "      <td>Adelie</td>\n",
              "      <td>40.3</td>\n",
              "      <td>18.0</td>\n",
              "      <td>195.0</td>\n",
              "      <td>3250.0</td>\n",
              "      <td>1.0</td>\n",
              "      <td>0</td>\n",
              "      <td>0</td>\n",
              "      <td>1</td>\n",
              "    </tr>\n",
              "    <tr>\n",
              "      <th>4</th>\n",
              "      <td>Adelie</td>\n",
              "      <td>36.7</td>\n",
              "      <td>19.3</td>\n",
              "      <td>193.0</td>\n",
              "      <td>3450.0</td>\n",
              "      <td>1.0</td>\n",
              "      <td>0</td>\n",
              "      <td>0</td>\n",
              "      <td>1</td>\n",
              "    </tr>\n",
              "    <tr>\n",
              "      <th>5</th>\n",
              "      <td>Adelie</td>\n",
              "      <td>39.3</td>\n",
              "      <td>20.6</td>\n",
              "      <td>190.0</td>\n",
              "      <td>3650.0</td>\n",
              "      <td>0.0</td>\n",
              "      <td>0</td>\n",
              "      <td>0</td>\n",
              "      <td>1</td>\n",
              "    </tr>\n",
              "  </tbody>\n",
              "</table>\n",
              "</div>\n",
              "      <button class=\"colab-df-convert\" onclick=\"convertToInteractive('df-5a196194-9a77-4755-846e-efd75c28bba7')\"\n",
              "              title=\"Convert this dataframe to an interactive table.\"\n",
              "              style=\"display:none;\">\n",
              "        \n",
              "  <svg xmlns=\"http://www.w3.org/2000/svg\" height=\"24px\"viewBox=\"0 0 24 24\"\n",
              "       width=\"24px\">\n",
              "    <path d=\"M0 0h24v24H0V0z\" fill=\"none\"/>\n",
              "    <path d=\"M18.56 5.44l.94 2.06.94-2.06 2.06-.94-2.06-.94-.94-2.06-.94 2.06-2.06.94zm-11 1L8.5 8.5l.94-2.06 2.06-.94-2.06-.94L8.5 2.5l-.94 2.06-2.06.94zm10 10l.94 2.06.94-2.06 2.06-.94-2.06-.94-.94-2.06-.94 2.06-2.06.94z\"/><path d=\"M17.41 7.96l-1.37-1.37c-.4-.4-.92-.59-1.43-.59-.52 0-1.04.2-1.43.59L10.3 9.45l-7.72 7.72c-.78.78-.78 2.05 0 2.83L4 21.41c.39.39.9.59 1.41.59.51 0 1.02-.2 1.41-.59l7.78-7.78 2.81-2.81c.8-.78.8-2.07 0-2.86zM5.41 20L4 18.59l7.72-7.72 1.47 1.35L5.41 20z\"/>\n",
              "  </svg>\n",
              "      </button>\n",
              "      \n",
              "  <style>\n",
              "    .colab-df-container {\n",
              "      display:flex;\n",
              "      flex-wrap:wrap;\n",
              "      gap: 12px;\n",
              "    }\n",
              "\n",
              "    .colab-df-convert {\n",
              "      background-color: #E8F0FE;\n",
              "      border: none;\n",
              "      border-radius: 50%;\n",
              "      cursor: pointer;\n",
              "      display: none;\n",
              "      fill: #1967D2;\n",
              "      height: 32px;\n",
              "      padding: 0 0 0 0;\n",
              "      width: 32px;\n",
              "    }\n",
              "\n",
              "    .colab-df-convert:hover {\n",
              "      background-color: #E2EBFA;\n",
              "      box-shadow: 0px 1px 2px rgba(60, 64, 67, 0.3), 0px 1px 3px 1px rgba(60, 64, 67, 0.15);\n",
              "      fill: #174EA6;\n",
              "    }\n",
              "\n",
              "    [theme=dark] .colab-df-convert {\n",
              "      background-color: #3B4455;\n",
              "      fill: #D2E3FC;\n",
              "    }\n",
              "\n",
              "    [theme=dark] .colab-df-convert:hover {\n",
              "      background-color: #434B5C;\n",
              "      box-shadow: 0px 1px 3px 1px rgba(0, 0, 0, 0.15);\n",
              "      filter: drop-shadow(0px 1px 2px rgba(0, 0, 0, 0.3));\n",
              "      fill: #FFFFFF;\n",
              "    }\n",
              "  </style>\n",
              "\n",
              "      <script>\n",
              "        const buttonEl =\n",
              "          document.querySelector('#df-5a196194-9a77-4755-846e-efd75c28bba7 button.colab-df-convert');\n",
              "        buttonEl.style.display =\n",
              "          google.colab.kernel.accessAllowed ? 'block' : 'none';\n",
              "\n",
              "        async function convertToInteractive(key) {\n",
              "          const element = document.querySelector('#df-5a196194-9a77-4755-846e-efd75c28bba7');\n",
              "          const dataTable =\n",
              "            await google.colab.kernel.invokeFunction('convertToInteractive',\n",
              "                                                     [key], {});\n",
              "          if (!dataTable) return;\n",
              "\n",
              "          const docLinkHtml = 'Like what you see? Visit the ' +\n",
              "            '<a target=\"_blank\" href=https://colab.research.google.com/notebooks/data_table.ipynb>data table notebook</a>'\n",
              "            + ' to learn more about interactive tables.';\n",
              "          element.innerHTML = '';\n",
              "          dataTable['output_type'] = 'display_data';\n",
              "          await google.colab.output.renderOutput(dataTable, element);\n",
              "          const docLink = document.createElement('div');\n",
              "          docLink.innerHTML = docLinkHtml;\n",
              "          element.appendChild(docLink);\n",
              "        }\n",
              "      </script>\n",
              "    </div>\n",
              "  </div>\n",
              "  "
            ]
          },
          "metadata": {},
          "execution_count": 7
        }
      ],
      "source": [
        "path = '/content/drive/MyDrive/datasets/penguins_size.csv'\n",
        "data = pandas.read_csv(path)\n",
        "\n",
        "# data prep: dummies, replace, and drop missing data\n",
        "data = pandas.get_dummies(data, columns=['island'])\n",
        "data.sex.replace('MALE', 0, inplace=True)\n",
        "data.sex.replace('FEMALE', 1, inplace=True)\n",
        "data.sex.replace('.', 1, inplace=True)\n",
        "data.dropna(inplace=True)\n",
        "data.head()"
      ]
    },
    {
      "cell_type": "code",
      "execution_count": 8,
      "metadata": {
        "id": "sKF1gcUjEKQa",
        "outputId": "6dd553e0-15c8-4e85-9005-4506df2ef873",
        "colab": {
          "base_uri": "https://localhost:8080/",
          "height": 206
        }
      },
      "outputs": [
        {
          "output_type": "execute_result",
          "data": {
            "text/plain": [
              "     culmen_length_mm  culmen_depth_mm  flipper_length_mm  body_mass_g  sex  \\\n",
              "343              49.9             16.1              213.0       5400.0  0.0   \n",
              "302              47.4             14.6              212.0       4725.0  1.0   \n",
              "4                36.7             19.3              193.0       3450.0  1.0   \n",
              "179              49.5             19.0              200.0       3800.0  0.0   \n",
              "262              45.3             13.7              210.0       4300.0  1.0   \n",
              "\n",
              "     island_Biscoe  island_Dream  island_Torgersen  \n",
              "343              1             0                 0  \n",
              "302              1             0                 0  \n",
              "4                0             0                 1  \n",
              "179              0             1                 0  \n",
              "262              1             0                 0  "
            ],
            "text/html": [
              "\n",
              "  <div id=\"df-57df2780-109e-412e-aa45-3c10c4cb3e0a\">\n",
              "    <div class=\"colab-df-container\">\n",
              "      <div>\n",
              "<style scoped>\n",
              "    .dataframe tbody tr th:only-of-type {\n",
              "        vertical-align: middle;\n",
              "    }\n",
              "\n",
              "    .dataframe tbody tr th {\n",
              "        vertical-align: top;\n",
              "    }\n",
              "\n",
              "    .dataframe thead th {\n",
              "        text-align: right;\n",
              "    }\n",
              "</style>\n",
              "<table border=\"1\" class=\"dataframe\">\n",
              "  <thead>\n",
              "    <tr style=\"text-align: right;\">\n",
              "      <th></th>\n",
              "      <th>culmen_length_mm</th>\n",
              "      <th>culmen_depth_mm</th>\n",
              "      <th>flipper_length_mm</th>\n",
              "      <th>body_mass_g</th>\n",
              "      <th>sex</th>\n",
              "      <th>island_Biscoe</th>\n",
              "      <th>island_Dream</th>\n",
              "      <th>island_Torgersen</th>\n",
              "    </tr>\n",
              "  </thead>\n",
              "  <tbody>\n",
              "    <tr>\n",
              "      <th>343</th>\n",
              "      <td>49.9</td>\n",
              "      <td>16.1</td>\n",
              "      <td>213.0</td>\n",
              "      <td>5400.0</td>\n",
              "      <td>0.0</td>\n",
              "      <td>1</td>\n",
              "      <td>0</td>\n",
              "      <td>0</td>\n",
              "    </tr>\n",
              "    <tr>\n",
              "      <th>302</th>\n",
              "      <td>47.4</td>\n",
              "      <td>14.6</td>\n",
              "      <td>212.0</td>\n",
              "      <td>4725.0</td>\n",
              "      <td>1.0</td>\n",
              "      <td>1</td>\n",
              "      <td>0</td>\n",
              "      <td>0</td>\n",
              "    </tr>\n",
              "    <tr>\n",
              "      <th>4</th>\n",
              "      <td>36.7</td>\n",
              "      <td>19.3</td>\n",
              "      <td>193.0</td>\n",
              "      <td>3450.0</td>\n",
              "      <td>1.0</td>\n",
              "      <td>0</td>\n",
              "      <td>0</td>\n",
              "      <td>1</td>\n",
              "    </tr>\n",
              "    <tr>\n",
              "      <th>179</th>\n",
              "      <td>49.5</td>\n",
              "      <td>19.0</td>\n",
              "      <td>200.0</td>\n",
              "      <td>3800.0</td>\n",
              "      <td>0.0</td>\n",
              "      <td>0</td>\n",
              "      <td>1</td>\n",
              "      <td>0</td>\n",
              "    </tr>\n",
              "    <tr>\n",
              "      <th>262</th>\n",
              "      <td>45.3</td>\n",
              "      <td>13.7</td>\n",
              "      <td>210.0</td>\n",
              "      <td>4300.0</td>\n",
              "      <td>1.0</td>\n",
              "      <td>1</td>\n",
              "      <td>0</td>\n",
              "      <td>0</td>\n",
              "    </tr>\n",
              "  </tbody>\n",
              "</table>\n",
              "</div>\n",
              "      <button class=\"colab-df-convert\" onclick=\"convertToInteractive('df-57df2780-109e-412e-aa45-3c10c4cb3e0a')\"\n",
              "              title=\"Convert this dataframe to an interactive table.\"\n",
              "              style=\"display:none;\">\n",
              "        \n",
              "  <svg xmlns=\"http://www.w3.org/2000/svg\" height=\"24px\"viewBox=\"0 0 24 24\"\n",
              "       width=\"24px\">\n",
              "    <path d=\"M0 0h24v24H0V0z\" fill=\"none\"/>\n",
              "    <path d=\"M18.56 5.44l.94 2.06.94-2.06 2.06-.94-2.06-.94-.94-2.06-.94 2.06-2.06.94zm-11 1L8.5 8.5l.94-2.06 2.06-.94-2.06-.94L8.5 2.5l-.94 2.06-2.06.94zm10 10l.94 2.06.94-2.06 2.06-.94-2.06-.94-.94-2.06-.94 2.06-2.06.94z\"/><path d=\"M17.41 7.96l-1.37-1.37c-.4-.4-.92-.59-1.43-.59-.52 0-1.04.2-1.43.59L10.3 9.45l-7.72 7.72c-.78.78-.78 2.05 0 2.83L4 21.41c.39.39.9.59 1.41.59.51 0 1.02-.2 1.41-.59l7.78-7.78 2.81-2.81c.8-.78.8-2.07 0-2.86zM5.41 20L4 18.59l7.72-7.72 1.47 1.35L5.41 20z\"/>\n",
              "  </svg>\n",
              "      </button>\n",
              "      \n",
              "  <style>\n",
              "    .colab-df-container {\n",
              "      display:flex;\n",
              "      flex-wrap:wrap;\n",
              "      gap: 12px;\n",
              "    }\n",
              "\n",
              "    .colab-df-convert {\n",
              "      background-color: #E8F0FE;\n",
              "      border: none;\n",
              "      border-radius: 50%;\n",
              "      cursor: pointer;\n",
              "      display: none;\n",
              "      fill: #1967D2;\n",
              "      height: 32px;\n",
              "      padding: 0 0 0 0;\n",
              "      width: 32px;\n",
              "    }\n",
              "\n",
              "    .colab-df-convert:hover {\n",
              "      background-color: #E2EBFA;\n",
              "      box-shadow: 0px 1px 2px rgba(60, 64, 67, 0.3), 0px 1px 3px 1px rgba(60, 64, 67, 0.15);\n",
              "      fill: #174EA6;\n",
              "    }\n",
              "\n",
              "    [theme=dark] .colab-df-convert {\n",
              "      background-color: #3B4455;\n",
              "      fill: #D2E3FC;\n",
              "    }\n",
              "\n",
              "    [theme=dark] .colab-df-convert:hover {\n",
              "      background-color: #434B5C;\n",
              "      box-shadow: 0px 1px 3px 1px rgba(0, 0, 0, 0.15);\n",
              "      filter: drop-shadow(0px 1px 2px rgba(0, 0, 0, 0.3));\n",
              "      fill: #FFFFFF;\n",
              "    }\n",
              "  </style>\n",
              "\n",
              "      <script>\n",
              "        const buttonEl =\n",
              "          document.querySelector('#df-57df2780-109e-412e-aa45-3c10c4cb3e0a button.colab-df-convert');\n",
              "        buttonEl.style.display =\n",
              "          google.colab.kernel.accessAllowed ? 'block' : 'none';\n",
              "\n",
              "        async function convertToInteractive(key) {\n",
              "          const element = document.querySelector('#df-57df2780-109e-412e-aa45-3c10c4cb3e0a');\n",
              "          const dataTable =\n",
              "            await google.colab.kernel.invokeFunction('convertToInteractive',\n",
              "                                                     [key], {});\n",
              "          if (!dataTable) return;\n",
              "\n",
              "          const docLinkHtml = 'Like what you see? Visit the ' +\n",
              "            '<a target=\"_blank\" href=https://colab.research.google.com/notebooks/data_table.ipynb>data table notebook</a>'\n",
              "            + ' to learn more about interactive tables.';\n",
              "          element.innerHTML = '';\n",
              "          dataTable['output_type'] = 'display_data';\n",
              "          await google.colab.output.renderOutput(dataTable, element);\n",
              "          const docLink = document.createElement('div');\n",
              "          docLink.innerHTML = docLinkHtml;\n",
              "          element.appendChild(docLink);\n",
              "        }\n",
              "      </script>\n",
              "    </div>\n",
              "  </div>\n",
              "  "
            ]
          },
          "metadata": {},
          "execution_count": 8
        }
      ],
      "source": [
        "target = \"species\"\n",
        "predictors = data.columns.drop(target)\n",
        "\n",
        "train_data, test_data, train_sln, test_sln = \\\n",
        "    train_test_split(data[predictors], data[target], test_size = 0.2, random_state=41)\n",
        "train_data.head()"
      ]
    },
    {
      "cell_type": "code",
      "execution_count": 20,
      "metadata": {
        "id": "FV4BG0HwEKQa",
        "outputId": "c98046a6-5544-48b4-a6b1-7f4f6e58f363",
        "colab": {
          "base_uri": "https://localhost:8080/"
        }
      },
      "outputs": [
        {
          "output_type": "stream",
          "name": "stdout",
          "text": [
            "Accuracy: 1.0\n"
          ]
        }
      ],
      "source": [
        "from sklearn.ensemble import RandomForestClassifier\n",
        "\n",
        "rf = RandomForestClassifier()\n",
        "rf.fit(train_data,train_sln)\n",
        "predictions = rf.predict(test_data)\n",
        "print('Accuracy:',accuracy_score(test_sln,predictions))"
      ]
    },
    {
      "cell_type": "code",
      "execution_count": 21,
      "metadata": {
        "id": "P2zlSPT5EKQa",
        "outputId": "c12b2dae-293b-4eb4-b61e-882807621a5b",
        "colab": {
          "base_uri": "https://localhost:8080/"
        }
      },
      "outputs": [
        {
          "output_type": "stream",
          "name": "stdout",
          "text": [
            "Here are the scores of each feature:\n",
            "[3.22186902e+02 2.67492793e+02 4.71351235e+02 2.92007977e+02\n",
            " 9.96168270e-02 2.26584411e+02 1.67166819e+02 3.29588015e+01]\n",
            "Index(['culmen_length_mm', 'culmen_depth_mm', 'flipper_length_mm',\n",
            "       'body_mass_g', 'sex', 'island_Biscoe', 'island_Dream',\n",
            "       'island_Torgersen'],\n",
            "      dtype='object')\n",
            "Accuracy: 0.9402985074626866\n"
          ]
        }
      ],
      "source": [
        "# your code here\n",
        "\n",
        "#find the 3 best attributes\n",
        "selector = SelectKBest(k=3)\n",
        "selector.fit(train_data,train_sln)\n",
        "\n",
        "# bigger number means the feature is more important\n",
        "print('Here are the scores of each feature:')\n",
        "print(selector.scores_)\n",
        "print(predictors)\n",
        "\n",
        "selector.fit(train_data,train_sln)\n",
        "\n",
        "# transform your traning data to only have the k best attributes\n",
        "train_transformed = selector.transform(train_data)\n",
        "test_transformed = selector.transform(test_data)\n",
        "\n",
        "#build a model\n",
        "rf = RandomForestClassifier()\n",
        "rf.fit(train_transformed,train_sln)\n",
        "predictions = rf.predict(test_transformed)\n",
        "print('Accuracy:',accuracy_score(test_sln,predictions))\n",
        "\n",
        "\n"
      ]
    },
    {
      "cell_type": "markdown",
      "metadata": {
        "id": "RzTRiCI1EKQb"
      },
      "source": [
        "# 2. Feature Extraction:\n",
        "\n",
        "If you are working with high dimensional data, it is often advantageous to do some __feature extraction__ before building and testing your machine learning models. \n",
        "\n",
        "__Feature extraction__ takes the existing (usually high dimensional) dataset, and returns a dataset such that there are new columns of data that are ordered from most important to least important. \n",
        "\n",
        "__Big Idea__: Find new or _latent_ features made up of combinations of existing features.\n",
        "\n",
        "Example: \n",
        "- Maybe multiplying `sepal length * petal width` is more helpful in identyfing the species of an iris than either `sepal length` or `petal width` are on their own."
      ]
    },
    {
      "cell_type": "markdown",
      "metadata": {
        "id": "tuOsgrtsEKQb"
      },
      "source": [
        "## Measurable v Latent Features\n",
        "\n",
        "__Example__: 🏡🏷\n",
        "\n",
        "Imagine we are attempting to predict the price of a house based on the following measurable features:\n",
        "- house square footage\n",
        "- number of rooms\n",
        "- school district test scores\n",
        "- neighborhood crime rates"
      ]
    },
    {
      "cell_type": "markdown",
      "metadata": {
        "id": "i04h7gkxEKQb"
      },
      "source": [
        "### 💬 Group Discussion:\n",
        "__claim__: In the 4 _measurable features_ above, there are really only __two latent features__ which explain these four measurable features. In other words, there are two composite features that more directly probe the underlying phenomenon of the data.\n",
        "\n",
        "Can you see the pattern and guess what these __two latent features__ are?"
      ]
    },
    {
      "cell_type": "markdown",
      "metadata": {
        "id": "qpLpLDZiEKQb"
      },
      "source": [
        "## Example: Measurable v Latent Features:\n",
        "\n",
        "Size of house:\n",
        "- house square footage\n",
        "- number of rooms\n",
        "\n",
        "Location of house:\n",
        "- school district test scores\n",
        "- neighborhood crime rate"
      ]
    },
    {
      "cell_type": "markdown",
      "metadata": {
        "id": "7NrrVpCSEKQb"
      },
      "source": [
        "# Principal Component Analysis (PCA)\n",
        "\n",
        "Principal Component Analysis is an __unsupervised__ algorithm as it doesn't use a target column. \n",
        "- PCA is a __feature extraction__ technique\n",
        "- PCA is a __preprocessing__ technique (something that you do during data prep, before building/running your model).\n",
        "\n",
        "__Big Idea__: Can we extract information from the data that might prove to be more useful?\n",
        "- reduce dimensions of inputs to learning algorithms\n",
        "- easier to understand and graph\n",
        "- reduce noise"
      ]
    },
    {
      "cell_type": "markdown",
      "metadata": {
        "id": "8CHB4mcHEKQb"
      },
      "source": [
        "## 🙋 PollEverywhere "
      ]
    },
    {
      "cell_type": "markdown",
      "metadata": {
        "id": "fqt4Um0dEKQc"
      },
      "source": [
        "## High-Level Overview of PCA:\n",
        "\n",
        "Calculating PCA requires a relatively deep background in linear algebra--calculating the eigenvectors and their corresponding eigenvalues of covariance matrices. So... we're going to stick to a practical level of understanding.\n",
        "\n",
        "https://setosa.io/ev/principal-component-analysis/"
      ]
    },
    {
      "cell_type": "markdown",
      "metadata": {
        "id": "PlzgUigMEKQc"
      },
      "source": [
        "## Advantages of Feature Extraction (PCA):\n",
        "\n",
        "- Minimal data loss\n",
        "- Output is ordered by how well each component predicts the dependent variable."
      ]
    },
    {
      "cell_type": "markdown",
      "metadata": {
        "id": "OZPgrWR-EKQc"
      },
      "source": [
        "## Disadvantages of Feature Extraction (PCA):\n",
        "\n",
        "- data becomes much less interpretable"
      ]
    },
    {
      "cell_type": "markdown",
      "metadata": {
        "id": "s8dIcUw-EKQc"
      },
      "source": [
        "## When should I use PCA?\n",
        "\n",
        "Ask yourself these questions:"
      ]
    },
    {
      "cell_type": "markdown",
      "metadata": {
        "id": "KPkGy-VFEKQc"
      },
      "source": [
        "1. Do you want to __reduce the number of variables__, but aren't able to identify variables to copmletely remove from consideration?"
      ]
    },
    {
      "cell_type": "markdown",
      "metadata": {
        "id": "XULExP--EKQc"
      },
      "source": [
        "2. Do you want to ensure your variables are __independent of one another__?\n",
        "    - __independence__: variables are independent if and only if the occurrence of one does not affect the probability of the occurence of the other."
      ]
    },
    {
      "cell_type": "markdown",
      "metadata": {
        "id": "CQLIzVwlEKQc"
      },
      "source": [
        "3. Are you comfortable making your independent variables __less interpretable__?"
      ]
    },
    {
      "cell_type": "markdown",
      "metadata": {
        "id": "bexJXbDMEKQc"
      },
      "source": [
        "If the answers to the above questions are yes, then doing a PCA on your data before you build/run your model is probably a good idea."
      ]
    },
    {
      "cell_type": "markdown",
      "metadata": {
        "id": "f5E_ZXfrEKQc"
      },
      "source": [
        "## PCA Code:\n",
        "Documentation: [`sklearn.decomposition.PCA()`](https://scikit-learn.org/stable/modules/generated/sklearn.decomposition.PCA.html)"
      ]
    },
    {
      "cell_type": "code",
      "execution_count": 22,
      "metadata": {
        "id": "-3yEqKL9EKQd",
        "outputId": "3d41c3e1-4961-4f03-d588-10139820cdac",
        "colab": {
          "base_uri": "https://localhost:8080/"
        }
      },
      "outputs": [
        {
          "output_type": "stream",
          "name": "stdout",
          "text": [
            "this is the variance/importance of each component\n",
            "[0.92859758 0.0474831 ]\n"
          ]
        }
      ],
      "source": [
        "import pandas\n",
        "from sklearn.neighbors import KNeighborsClassifier\n",
        "from sklearn.model_selection import train_test_split\n",
        "from sklearn.decomposition import PCA\n",
        "from sklearn.metrics import accuracy_score\n",
        "\n",
        "#load data\n",
        "path = '/content/drive/MyDrive/datasets/irisData.csv'\n",
        "data = pandas.read_csv(path)\n",
        "predictors = ['sepal length', 'sepal width', 'petal length', 'petal width']\n",
        "target = \"species\"\n",
        "\n",
        "train_data, test_data, train_sln, test_sln = \\\n",
        "    train_test_split(data[predictors], data[target], test_size = 0.2, random_state=1)\n",
        "\n",
        "#whiten = True is important for uncorrelated\n",
        "#attributes, and is False by default\n",
        "extractor = PCA(n_components=2, whiten=True)\n",
        "#When fitting with PCA, you do not use the target column - this is an unsupervised learning algorithm\n",
        "extractor.fit(train_data)\n",
        "\n",
        "print('this is the variance/importance of each component')\n",
        "print(extractor.explained_variance_ratio_)"
      ]
    },
    {
      "cell_type": "code",
      "execution_count": 23,
      "metadata": {
        "id": "EboW9cawEKQd",
        "outputId": "2dce8755-8edc-42d9-c7c0-c4ac62bc74ef",
        "colab": {
          "base_uri": "https://localhost:8080/",
          "height": 192
        }
      },
      "outputs": [
        {
          "output_type": "stream",
          "name": "stdout",
          "text": [
            "Here's what the data looks like before being transformed:\n"
          ]
        },
        {
          "output_type": "execute_result",
          "data": {
            "text/plain": [
              "     sepal length  sepal width  petal length  petal width\n",
              "91            6.1          3.0           4.6          1.4\n",
              "135           7.7          3.0           6.1          2.3\n",
              "69            5.6          2.5           3.9          1.1\n",
              "128           6.4          2.8           5.6          2.1"
            ],
            "text/html": [
              "\n",
              "  <div id=\"df-54474fa9-e1b8-4d85-8bab-3c6dbdcfbaf0\">\n",
              "    <div class=\"colab-df-container\">\n",
              "      <div>\n",
              "<style scoped>\n",
              "    .dataframe tbody tr th:only-of-type {\n",
              "        vertical-align: middle;\n",
              "    }\n",
              "\n",
              "    .dataframe tbody tr th {\n",
              "        vertical-align: top;\n",
              "    }\n",
              "\n",
              "    .dataframe thead th {\n",
              "        text-align: right;\n",
              "    }\n",
              "</style>\n",
              "<table border=\"1\" class=\"dataframe\">\n",
              "  <thead>\n",
              "    <tr style=\"text-align: right;\">\n",
              "      <th></th>\n",
              "      <th>sepal length</th>\n",
              "      <th>sepal width</th>\n",
              "      <th>petal length</th>\n",
              "      <th>petal width</th>\n",
              "    </tr>\n",
              "  </thead>\n",
              "  <tbody>\n",
              "    <tr>\n",
              "      <th>91</th>\n",
              "      <td>6.1</td>\n",
              "      <td>3.0</td>\n",
              "      <td>4.6</td>\n",
              "      <td>1.4</td>\n",
              "    </tr>\n",
              "    <tr>\n",
              "      <th>135</th>\n",
              "      <td>7.7</td>\n",
              "      <td>3.0</td>\n",
              "      <td>6.1</td>\n",
              "      <td>2.3</td>\n",
              "    </tr>\n",
              "    <tr>\n",
              "      <th>69</th>\n",
              "      <td>5.6</td>\n",
              "      <td>2.5</td>\n",
              "      <td>3.9</td>\n",
              "      <td>1.1</td>\n",
              "    </tr>\n",
              "    <tr>\n",
              "      <th>128</th>\n",
              "      <td>6.4</td>\n",
              "      <td>2.8</td>\n",
              "      <td>5.6</td>\n",
              "      <td>2.1</td>\n",
              "    </tr>\n",
              "  </tbody>\n",
              "</table>\n",
              "</div>\n",
              "      <button class=\"colab-df-convert\" onclick=\"convertToInteractive('df-54474fa9-e1b8-4d85-8bab-3c6dbdcfbaf0')\"\n",
              "              title=\"Convert this dataframe to an interactive table.\"\n",
              "              style=\"display:none;\">\n",
              "        \n",
              "  <svg xmlns=\"http://www.w3.org/2000/svg\" height=\"24px\"viewBox=\"0 0 24 24\"\n",
              "       width=\"24px\">\n",
              "    <path d=\"M0 0h24v24H0V0z\" fill=\"none\"/>\n",
              "    <path d=\"M18.56 5.44l.94 2.06.94-2.06 2.06-.94-2.06-.94-.94-2.06-.94 2.06-2.06.94zm-11 1L8.5 8.5l.94-2.06 2.06-.94-2.06-.94L8.5 2.5l-.94 2.06-2.06.94zm10 10l.94 2.06.94-2.06 2.06-.94-2.06-.94-.94-2.06-.94 2.06-2.06.94z\"/><path d=\"M17.41 7.96l-1.37-1.37c-.4-.4-.92-.59-1.43-.59-.52 0-1.04.2-1.43.59L10.3 9.45l-7.72 7.72c-.78.78-.78 2.05 0 2.83L4 21.41c.39.39.9.59 1.41.59.51 0 1.02-.2 1.41-.59l7.78-7.78 2.81-2.81c.8-.78.8-2.07 0-2.86zM5.41 20L4 18.59l7.72-7.72 1.47 1.35L5.41 20z\"/>\n",
              "  </svg>\n",
              "      </button>\n",
              "      \n",
              "  <style>\n",
              "    .colab-df-container {\n",
              "      display:flex;\n",
              "      flex-wrap:wrap;\n",
              "      gap: 12px;\n",
              "    }\n",
              "\n",
              "    .colab-df-convert {\n",
              "      background-color: #E8F0FE;\n",
              "      border: none;\n",
              "      border-radius: 50%;\n",
              "      cursor: pointer;\n",
              "      display: none;\n",
              "      fill: #1967D2;\n",
              "      height: 32px;\n",
              "      padding: 0 0 0 0;\n",
              "      width: 32px;\n",
              "    }\n",
              "\n",
              "    .colab-df-convert:hover {\n",
              "      background-color: #E2EBFA;\n",
              "      box-shadow: 0px 1px 2px rgba(60, 64, 67, 0.3), 0px 1px 3px 1px rgba(60, 64, 67, 0.15);\n",
              "      fill: #174EA6;\n",
              "    }\n",
              "\n",
              "    [theme=dark] .colab-df-convert {\n",
              "      background-color: #3B4455;\n",
              "      fill: #D2E3FC;\n",
              "    }\n",
              "\n",
              "    [theme=dark] .colab-df-convert:hover {\n",
              "      background-color: #434B5C;\n",
              "      box-shadow: 0px 1px 3px 1px rgba(0, 0, 0, 0.15);\n",
              "      filter: drop-shadow(0px 1px 2px rgba(0, 0, 0, 0.3));\n",
              "      fill: #FFFFFF;\n",
              "    }\n",
              "  </style>\n",
              "\n",
              "      <script>\n",
              "        const buttonEl =\n",
              "          document.querySelector('#df-54474fa9-e1b8-4d85-8bab-3c6dbdcfbaf0 button.colab-df-convert');\n",
              "        buttonEl.style.display =\n",
              "          google.colab.kernel.accessAllowed ? 'block' : 'none';\n",
              "\n",
              "        async function convertToInteractive(key) {\n",
              "          const element = document.querySelector('#df-54474fa9-e1b8-4d85-8bab-3c6dbdcfbaf0');\n",
              "          const dataTable =\n",
              "            await google.colab.kernel.invokeFunction('convertToInteractive',\n",
              "                                                     [key], {});\n",
              "          if (!dataTable) return;\n",
              "\n",
              "          const docLinkHtml = 'Like what you see? Visit the ' +\n",
              "            '<a target=\"_blank\" href=https://colab.research.google.com/notebooks/data_table.ipynb>data table notebook</a>'\n",
              "            + ' to learn more about interactive tables.';\n",
              "          element.innerHTML = '';\n",
              "          dataTable['output_type'] = 'display_data';\n",
              "          await google.colab.output.renderOutput(dataTable, element);\n",
              "          const docLink = document.createElement('div');\n",
              "          docLink.innerHTML = docLinkHtml;\n",
              "          element.appendChild(docLink);\n",
              "        }\n",
              "      </script>\n",
              "    </div>\n",
              "  </div>\n",
              "  "
            ]
          },
          "metadata": {},
          "execution_count": 23
        }
      ],
      "source": [
        "print(\"Here's what the data looks like before being transformed:\")\n",
        "train_data[0:4]"
      ]
    },
    {
      "cell_type": "code",
      "execution_count": 24,
      "metadata": {
        "id": "UbCpvDZ4EKQd",
        "outputId": "b266c019-64b8-401c-c49e-a6348cafb380",
        "colab": {
          "base_uri": "https://localhost:8080/"
        }
      },
      "outputs": [
        {
          "output_type": "stream",
          "name": "stdout",
          "text": [
            "Here's what the training predictors look like after the transformation.\n"
          ]
        },
        {
          "output_type": "execute_result",
          "data": {
            "text/plain": [
              "array([[ 0.40446601,  0.00616923],\n",
              "       [ 1.46396527,  1.48755977],\n",
              "       [-0.00791473, -1.15083283],\n",
              "       [ 1.00017476, -0.4027048 ]])"
            ]
          },
          "metadata": {},
          "execution_count": 24
        }
      ],
      "source": [
        "train_transformed = extractor.transform(train_data)\n",
        "\n",
        "print(\"Here's what the training predictors look like after the transformation.\")\n",
        "train_transformed[0:4]"
      ]
    },
    {
      "cell_type": "code",
      "execution_count": 25,
      "metadata": {
        "id": "Uyna6fP_EKQd",
        "outputId": "23eed1dc-6311-4fe8-c8ee-f28e449b4df2",
        "colab": {
          "base_uri": "https://localhost:8080/"
        }
      },
      "outputs": [
        {
          "output_type": "stream",
          "name": "stdout",
          "text": [
            "Accuracy: 0.9\n"
          ]
        }
      ],
      "source": [
        "#Now we transform the predictor columns in the test set as well.\n",
        "#Notice that we're using the extractor that we trained using the training set.\n",
        "#Do not re-fit it to the test data. \n",
        "test_transformed = extractor.transform(test_data)\n",
        "\n",
        "#Now we can use our transformed data with a classifier just like always:\n",
        "clf = KNeighborsClassifier()\n",
        "clf.fit(train_transformed,train_sln)\n",
        "predictions = clf.predict(test_transformed)\n",
        "print('Accuracy:',accuracy_score(test_sln,predictions))"
      ]
    },
    {
      "cell_type": "code",
      "execution_count": 26,
      "metadata": {
        "id": "0yV7M-x6EKQd",
        "outputId": "6ca9be29-d2bf-4384-e336-5ce5479f1c54",
        "colab": {
          "base_uri": "https://localhost:8080/"
        }
      },
      "outputs": [
        {
          "output_type": "stream",
          "name": "stdout",
          "text": [
            "Here are the two vectors (in the original space) that define our 2 new axes:\n",
            "[ 0.36473622 -0.07245354  0.85441261  0.36290089]\n",
            "[ 0.64892255  0.73464162 -0.17722287 -0.08827952]\n"
          ]
        }
      ],
      "source": [
        "print('Here are the two vectors (in the original space) that define our 2 new axes:')\n",
        "print(extractor.components_[0])\n",
        "print(extractor.components_[1])"
      ]
    },
    {
      "cell_type": "code",
      "execution_count": 27,
      "metadata": {
        "id": "pxUFGrwKEKQe",
        "outputId": "d9c41c74-6fd1-4845-dc02-49c6561600b7",
        "colab": {
          "base_uri": "https://localhost:8080/",
          "height": 265
        }
      },
      "outputs": [
        {
          "output_type": "display_data",
          "data": {
            "text/plain": [
              "<Figure size 432x288 with 1 Axes>"
            ],
            "image/png": "[encoded data removed]"
          },
          "metadata": {
            "needs_background": "light"
          }
        }
      ],
      "source": [
        "import matplotlib.pyplot as plt\n",
        "%matplotlib inline\n",
        "\n",
        "#visualizing the new axes\n",
        "#PCA gives it back as numpy array\n",
        "tdf = pandas.DataFrame(train_transformed)\n",
        "#next line: probably not the best way\n",
        "tdf['species'] = pandas.Series(list(train_sln)) \n",
        "\n",
        "\n",
        "setosa_series = tdf[ tdf['species'] == 'Iris-setosa' ]\n",
        "virginica_series = tdf[ tdf['species'] == 'Iris-virginica' ]\n",
        "versicolor_series = tdf[ tdf['species'] == 'Iris-versicolor']\n",
        "\n",
        "plt.plot(setosa_series[0],setosa_series[1],'ro',label='setosa')\n",
        "plt.plot(virginica_series[0],virginica_series[1],'bs',label='virginica')\n",
        "plt.plot(versicolor_series[0],versicolor_series[1],'g^',label='versicolor')\n",
        "plt.legend(loc='upper center')\n",
        "plt.show()"
      ]
    },
    {
      "cell_type": "markdown",
      "metadata": {
        "id": "zFuDcWL6EKQe"
      },
      "source": [
        "# PCA Code (all together)"
      ]
    },
    {
      "cell_type": "code",
      "execution_count": 28,
      "metadata": {
        "id": "i4CMWi68EKQe",
        "outputId": "ce73fc07-831b-4e6f-fbf5-5a3f2a41bbc7",
        "colab": {
          "base_uri": "https://localhost:8080/"
        }
      },
      "outputs": [
        {
          "output_type": "stream",
          "name": "stdout",
          "text": [
            "Accuracy: 0.9\n"
          ]
        }
      ],
      "source": [
        "from sklearn.decomposition import PCA\n",
        "\n",
        "# build your PCA extractor, decide how many output components (columns) you'd like\n",
        "extractor = PCA(n_components=2, whiten=True)\n",
        "\n",
        "#When fitting with PCA, you do not use the target column - this is an unsupervised learning algorithm\n",
        "extractor.fit(train_data)\n",
        "\n",
        "# transform your train_data and _test_data\n",
        "train_transformed = extractor.transform(train_data)\n",
        "test_transformed = extractor.transform(test_data)\n",
        "\n",
        "#build and test your model\n",
        "clf = KNeighborsClassifier()\n",
        "clf.fit(train_transformed,train_sln)\n",
        "predictions = clf.predict(test_transformed)\n",
        "print('Accuracy:',accuracy_score(test_sln,predictions))"
      ]
    },
    {
      "cell_type": "markdown",
      "metadata": {
        "id": "CCcpnnelEKQe"
      },
      "source": [
        "# 💬 Group Programming Exercise:\n",
        "\n",
        "1. Input the boston housing dataset (download from Blackboard datasets)\n",
        "    - `MEDV` is our target variable, the median home value in $10000s\n",
        "2. Run a Support Vector Regressor ([`sklearn.svm.SVR`](https://scikit-learn.org/stable/modules/generated/sklearn.svm.SVR.html)) to get a baseline to compare to.\n",
        "3. Output the R2 score for your baseline SVR\n",
        "4. Use PCA to reduce the dimensions to 2\n",
        "5. Run a SVR on your transformed data\n",
        "6. Output the R2 score for your dimensionality reduced data.\n",
        "7. Play around... see what you can change (the number of dimensions, gamma, C, etc), to improve your R2 score. Use the sklearn documentation if you're unsure what these will do.\n",
        "8. Be ready to discuss what combination gave you the best R2 score when we come back to the whole class."
      ]
    },
    {
      "cell_type": "code",
      "execution_count": 29,
      "metadata": {
        "id": "WYNJNBZIEKQe"
      },
      "outputs": [],
      "source": [
        "import pandas\n",
        "from sklearn.model_selection import train_test_split\n",
        "from sklearn import linear_model\n",
        "from sklearn import metrics\n",
        "from sklearn.decomposition import PCA\n",
        "from sklearn import metrics\n",
        "\n",
        "\n",
        "# load data\n",
        "path = '/content/drive/MyDrive/datasets/boston_housing.csv'\n",
        "housing_data = pandas.read_csv(path)\n",
        "\n",
        "# clean the data\n",
        "housing_data['CRIM'].fillna(housing_data['CRIM'].mean(),inplace=True)\n",
        "housing_data['ZN'].fillna(housing_data['ZN'].mean(),inplace=True)\n",
        "housing_data['INDUS'].fillna(housing_data['INDUS'].mean(),inplace=True)\n",
        "housing_data['CHAS'].fillna(housing_data['CHAS'].mean(),inplace=True)\n",
        "housing_data['AGE'].fillna(housing_data['AGE'].mean(),inplace=True)\n",
        "housing_data['LSTAT'].fillna(housing_data['LSTAT'].mean(),inplace=True)\n",
        "\n",
        "# Split the data into the training data and testing data\n",
        "target= 'MEDV'\n",
        "predictors = housing_data.columns.drop(target) # use all of the columns except for MEDV\n",
        "train_data, test_data, train_sln, test_sln = train_test_split(housing_data[predictors], housing_data[target], test_size = 0.2, random_state=41)\n",
        "\n",
        "# Normalize the data\n",
        "from sklearn.preprocessing import StandardScaler\n",
        "scaler = StandardScaler()\n",
        "scaler.fit(train_data)\n",
        "train_data_normalized = scaler.transform(train_data)\n",
        "test_data_normalized = scaler.transform(test_data)"
      ]
    },
    {
      "cell_type": "code",
      "execution_count": null,
      "metadata": {
        "id": "peejADRlEKQe"
      },
      "outputs": [],
      "source": [
        "# your code here"
      ]
    },
    {
      "cell_type": "markdown",
      "metadata": {
        "id": "GK0w5tYeEKQf"
      },
      "source": [
        "## 🙋 PollEverywhere "
      ]
    }
  ],
  "metadata": {
    "celltoolbar": "Slideshow",
    "kernelspec": {
      "display_name": "Python 3",
      "language": "python",
      "name": "python3"
    },
    "language_info": {
      "codemirror_mode": {
        "name": "ipython",
        "version": 3
      },
      "file_extension": ".py",
      "mimetype": "text/x-python",
      "name": "python",
      "nbconvert_exporter": "python",
      "pygments_lexer": "ipython3",
      "version": "3.8.3"
    },
    "colab": {
      "provenance": [],
      "include_colab_link": true
    }
  },
  "nbformat": 4,
  "nbformat_minor": 0
}