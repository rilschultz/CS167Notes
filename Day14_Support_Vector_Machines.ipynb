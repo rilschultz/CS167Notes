{
  "cells": [
    {
      "cell_type": "markdown",
      "metadata": {
        "id": "view-in-github",
        "colab_type": "text"
      },
      "source": [
        "<a href=\"https://colab.research.google.com/github/rilschultz/CS167Notes/blob/main/Day14_Support_Vector_Machines.ipynb\" target=\"_parent\"><img src=\"https://colab.research.google.com/assets/colab-badge.svg\" alt=\"Open In Colab\"/></a>"
      ]
    },
    {
      "cell_type": "markdown",
      "metadata": {
        "id": "MeQ4aiV81rCN"
      },
      "source": [
        "# CS167: Day14\n",
        "## Support Vector Machines (SVM)\n",
        "\n",
        "#### CS167: Machine Learning, Spring 2023\n",
        "\n",
        "Tuesday, March 21st, 2023\n",
        "\n",
        "📆 [Course Schedule](https://docs.google.com/spreadsheets/d/e/2PACX-1vSvFV5Mz0_YZE1d5r3gQ8IMktE4cBAsJIlP30cl2GhEpSO0J-YWV62QokSDz-OcOCsEmxMuKpY0kVlR/pubhtml?gid=0&single=true) | 🙋[PollEverywhere](https://pollev.com/meredithmoore011) | 📜 [Syllabus](https://analytics.drake.edu/~moore/cs167_s23_syllabus.html) | 📬 [CodePost Login](https://codepost.io/login)"
      ]
    },
    {
      "cell_type": "markdown",
      "metadata": {
        "id": "QMjH2lfO1rCP"
      },
      "source": [
        "# Admin Stuff"
      ]
    },
    {
      "cell_type": "markdown",
      "metadata": {
        "id": "mlSX-w111rCQ"
      },
      "source": [
        "You should be working on:\n",
        "- [Project #1](https://classroom.github.com/a/qGx9Wonm) is released today, **Due Thursday, March 23rd, by 11:59pm**."
      ]
    },
    {
      "cell_type": "markdown",
      "metadata": {
        "id": "OghPhQne1rCQ"
      },
      "source": [
        "Grading:\n",
        "- Quiz #1 scores officially posted.\n",
        "- Notebooks 2-4 are graded, grades and comments are posted on CodePost."
      ]
    },
    {
      "cell_type": "markdown",
      "metadata": {
        "id": "HTvlZQjV1rCR"
      },
      "source": [
        "## Load in some data:"
      ]
    },
    {
      "cell_type": "code",
      "execution_count": 1,
      "metadata": {
        "id": "x_EMaO401rCR",
        "outputId": "72f04e41-304e-44d2-e224-54c410629dbd",
        "colab": {
          "base_uri": "https://localhost:8080/"
        }
      },
      "outputs": [
        {
          "output_type": "stream",
          "name": "stdout",
          "text": [
            "Mounted at /content/drive\n"
          ]
        }
      ],
      "source": [
        "from google.colab import drive\n",
        "drive.mount('/content/drive')"
      ]
    },
    {
      "cell_type": "code",
      "execution_count": 7,
      "metadata": {
        "id": "IvTu4BXv1rCS",
        "outputId": "5741ab4d-21cf-495e-f3f0-1cb432c7cb0d",
        "colab": {
          "base_uri": "https://localhost:8080/",
          "height": 206
        }
      },
      "outputs": [
        {
          "output_type": "execute_result",
          "data": {
            "text/plain": [
              "   sepal length  sepal width  petal length  petal width      species\n",
              "0           5.1          3.5           1.4          0.2  Iris-setosa\n",
              "1           4.9          3.0           1.4          0.2  Iris-setosa\n",
              "2           4.7          3.2           1.3          0.2  Iris-setosa\n",
              "3           4.6          3.1           1.5          0.2  Iris-setosa\n",
              "4           5.0          3.6           1.4          0.2  Iris-setosa"
            ],
            "text/html": [
              "\n",
              "  <div id=\"df-fd480cdc-12bc-4a3f-8b13-bc5e7861ac18\">\n",
              "    <div class=\"colab-df-container\">\n",
              "      <div>\n",
              "<style scoped>\n",
              "    .dataframe tbody tr th:only-of-type {\n",
              "        vertical-align: middle;\n",
              "    }\n",
              "\n",
              "    .dataframe tbody tr th {\n",
              "        vertical-align: top;\n",
              "    }\n",
              "\n",
              "    .dataframe thead th {\n",
              "        text-align: right;\n",
              "    }\n",
              "</style>\n",
              "<table border=\"1\" class=\"dataframe\">\n",
              "  <thead>\n",
              "    <tr style=\"text-align: right;\">\n",
              "      <th></th>\n",
              "      <th>sepal length</th>\n",
              "      <th>sepal width</th>\n",
              "      <th>petal length</th>\n",
              "      <th>petal width</th>\n",
              "      <th>species</th>\n",
              "    </tr>\n",
              "  </thead>\n",
              "  <tbody>\n",
              "    <tr>\n",
              "      <th>0</th>\n",
              "      <td>5.1</td>\n",
              "      <td>3.5</td>\n",
              "      <td>1.4</td>\n",
              "      <td>0.2</td>\n",
              "      <td>Iris-setosa</td>\n",
              "    </tr>\n",
              "    <tr>\n",
              "      <th>1</th>\n",
              "      <td>4.9</td>\n",
              "      <td>3.0</td>\n",
              "      <td>1.4</td>\n",
              "      <td>0.2</td>\n",
              "      <td>Iris-setosa</td>\n",
              "    </tr>\n",
              "    <tr>\n",
              "      <th>2</th>\n",
              "      <td>4.7</td>\n",
              "      <td>3.2</td>\n",
              "      <td>1.3</td>\n",
              "      <td>0.2</td>\n",
              "      <td>Iris-setosa</td>\n",
              "    </tr>\n",
              "    <tr>\n",
              "      <th>3</th>\n",
              "      <td>4.6</td>\n",
              "      <td>3.1</td>\n",
              "      <td>1.5</td>\n",
              "      <td>0.2</td>\n",
              "      <td>Iris-setosa</td>\n",
              "    </tr>\n",
              "    <tr>\n",
              "      <th>4</th>\n",
              "      <td>5.0</td>\n",
              "      <td>3.6</td>\n",
              "      <td>1.4</td>\n",
              "      <td>0.2</td>\n",
              "      <td>Iris-setosa</td>\n",
              "    </tr>\n",
              "  </tbody>\n",
              "</table>\n",
              "</div>\n",
              "      <button class=\"colab-df-convert\" onclick=\"convertToInteractive('df-fd480cdc-12bc-4a3f-8b13-bc5e7861ac18')\"\n",
              "              title=\"Convert this dataframe to an interactive table.\"\n",
              "              style=\"display:none;\">\n",
              "        \n",
              "  <svg xmlns=\"http://www.w3.org/2000/svg\" height=\"24px\"viewBox=\"0 0 24 24\"\n",
              "       width=\"24px\">\n",
              "    <path d=\"M0 0h24v24H0V0z\" fill=\"none\"/>\n",
              "    <path d=\"M18.56 5.44l.94 2.06.94-2.06 2.06-.94-2.06-.94-.94-2.06-.94 2.06-2.06.94zm-11 1L8.5 8.5l.94-2.06 2.06-.94-2.06-.94L8.5 2.5l-.94 2.06-2.06.94zm10 10l.94 2.06.94-2.06 2.06-.94-2.06-.94-.94-2.06-.94 2.06-2.06.94z\"/><path d=\"M17.41 7.96l-1.37-1.37c-.4-.4-.92-.59-1.43-.59-.52 0-1.04.2-1.43.59L10.3 9.45l-7.72 7.72c-.78.78-.78 2.05 0 2.83L4 21.41c.39.39.9.59 1.41.59.51 0 1.02-.2 1.41-.59l7.78-7.78 2.81-2.81c.8-.78.8-2.07 0-2.86zM5.41 20L4 18.59l7.72-7.72 1.47 1.35L5.41 20z\"/>\n",
              "  </svg>\n",
              "      </button>\n",
              "      \n",
              "  <style>\n",
              "    .colab-df-container {\n",
              "      display:flex;\n",
              "      flex-wrap:wrap;\n",
              "      gap: 12px;\n",
              "    }\n",
              "\n",
              "    .colab-df-convert {\n",
              "      background-color: #E8F0FE;\n",
              "      border: none;\n",
              "      border-radius: 50%;\n",
              "      cursor: pointer;\n",
              "      display: none;\n",
              "      fill: #1967D2;\n",
              "      height: 32px;\n",
              "      padding: 0 0 0 0;\n",
              "      width: 32px;\n",
              "    }\n",
              "\n",
              "    .colab-df-convert:hover {\n",
              "      background-color: #E2EBFA;\n",
              "      box-shadow: 0px 1px 2px rgba(60, 64, 67, 0.3), 0px 1px 3px 1px rgba(60, 64, 67, 0.15);\n",
              "      fill: #174EA6;\n",
              "    }\n",
              "\n",
              "    [theme=dark] .colab-df-convert {\n",
              "      background-color: #3B4455;\n",
              "      fill: #D2E3FC;\n",
              "    }\n",
              "\n",
              "    [theme=dark] .colab-df-convert:hover {\n",
              "      background-color: #434B5C;\n",
              "      box-shadow: 0px 1px 3px 1px rgba(0, 0, 0, 0.15);\n",
              "      filter: drop-shadow(0px 1px 2px rgba(0, 0, 0, 0.3));\n",
              "      fill: #FFFFFF;\n",
              "    }\n",
              "  </style>\n",
              "\n",
              "      <script>\n",
              "        const buttonEl =\n",
              "          document.querySelector('#df-fd480cdc-12bc-4a3f-8b13-bc5e7861ac18 button.colab-df-convert');\n",
              "        buttonEl.style.display =\n",
              "          google.colab.kernel.accessAllowed ? 'block' : 'none';\n",
              "\n",
              "        async function convertToInteractive(key) {\n",
              "          const element = document.querySelector('#df-fd480cdc-12bc-4a3f-8b13-bc5e7861ac18');\n",
              "          const dataTable =\n",
              "            await google.colab.kernel.invokeFunction('convertToInteractive',\n",
              "                                                     [key], {});\n",
              "          if (!dataTable) return;\n",
              "\n",
              "          const docLinkHtml = 'Like what you see? Visit the ' +\n",
              "            '<a target=\"_blank\" href=https://colab.research.google.com/notebooks/data_table.ipynb>data table notebook</a>'\n",
              "            + ' to learn more about interactive tables.';\n",
              "          element.innerHTML = '';\n",
              "          dataTable['output_type'] = 'display_data';\n",
              "          await google.colab.output.renderOutput(dataTable, element);\n",
              "          const docLink = document.createElement('div');\n",
              "          docLink.innerHTML = docLinkHtml;\n",
              "          element.appendChild(docLink);\n",
              "        }\n",
              "      </script>\n",
              "    </div>\n",
              "  </div>\n",
              "  "
            ]
          },
          "metadata": {},
          "execution_count": 7
        }
      ],
      "source": [
        "import pandas as pd\n",
        "path = '/content/drive/MyDrive/datasets/irisData.csv'\n",
        "iris = pd.read_csv(path)\n",
        "iris.head()"
      ]
    },
    {
      "cell_type": "markdown",
      "metadata": {
        "id": "zLLgap3J1rCT"
      },
      "source": [
        "# Quick Review:\n",
        "\n",
        "- Scikit Learn\n",
        "- Project #1 Expectations"
      ]
    },
    {
      "cell_type": "markdown",
      "metadata": {
        "id": "i8GGbKBo1rCT"
      },
      "source": [
        "# Overview of the Scikit Learn 'Algorithm': \n",
        "\n",
        "When working in Scikit Learn (`sklearn`), there is a general pattern that we can follow to implement any supported machine learning algorithm.\n",
        "\n",
        "It goes like this: \n",
        "1. Load your data using `pd.read_csv()`\n",
        "2. Split your data `train_test_split()`\n",
        "3. Create your classifier/regressor object\n",
        "4. Call `fit()` to train your model\n",
        "5. Call `predict()` to get predictions\n",
        "6. Call a metric function to measure the performance of your model."
      ]
    },
    {
      "cell_type": "markdown",
      "metadata": {
        "id": "dSraICV81rCT"
      },
      "source": [
        "## Models we've talked about so far:"
      ]
    },
    {
      "cell_type": "markdown",
      "metadata": {
        "id": "KZNEFbM21rCU"
      },
      "source": [
        "#### k Nearest Neighbors: \n",
        "- [`sklearn.neighbors.KNeighborsClassifier()`](https://scikit-learn.org/stable/modules/generated/sklearn.neighbors.KNeighborsClassifier.html)\n",
        "- [`sklearn.neighbors.KNeighborsRegressor()`](https://scikit-learn.org/stable/modules/generated/sklearn.neighbors.KNeighborsRegressor.html)\n",
        "- Relevant Parameters:\n",
        "    - **weighted k-Nearest-Neighbors**: `weights='distance'`"
      ]
    },
    {
      "cell_type": "markdown",
      "metadata": {
        "id": "zZT2Xte-1rCU"
      },
      "source": [
        "#### Decision Trees:\n",
        "- [`sklearn.tree.DecisionTreeClassifier()`](https://scikit-learn.org/stable/modules/generated/sklearn.tree.DecisionTreeClassifier.html)\n",
        "- [`sklearn.tree.DecisionTreeRegressor()`](https://scikit-learn.org/stable/modules/generated/sklearn.tree.DecisionTreeRegressor.html)\n",
        "- Relevant Parameters:\n",
        "    - `max_depth`, `criterion`, `max_leaf_nodes`"
      ]
    },
    {
      "cell_type": "markdown",
      "metadata": {
        "id": "wGpWHAY01rCU"
      },
      "source": [
        "## Models we've talked about so far:"
      ]
    },
    {
      "cell_type": "markdown",
      "metadata": {
        "id": "43QxvD3h1rCU"
      },
      "source": [
        "#### Random Forests:\n",
        "- [`sklearn.ensemble.RandomForestClassifier()`](https://scikit-learn.org/stable/modules/generated/sklearn.ensemble.RandomForestClassifier.html)\n",
        "- [`sklearn.ensemble.RandomForestRegressor()`](https://scikit-learn.org/stable/modules/generated/sklearn.ensemble.RandomForesRegressor.html)\n",
        "- Relevant Parameters:\n",
        "    - `n_estimators`, `max_depth`, `criterion`, `max_features`"
      ]
    },
    {
      "cell_type": "markdown",
      "metadata": {
        "id": "ixnIw5fN1rCV"
      },
      "source": [
        "# PollEverywhere Question:"
      ]
    },
    {
      "cell_type": "markdown",
      "metadata": {
        "id": "2z2DqA2R1rCV"
      },
      "source": [
        "# Project #1: Choose Your Own Machine Learning Adventure\n",
        "\n",
        "10% of your final grade\n",
        "\n",
        "__Due__: Thursday, March 23rd, by 11:59pm\n",
        "\n",
        "Github Classroom Link: https://classroom.github.com/a/qGx9Wonm"
      ]
    },
    {
      "cell_type": "markdown",
      "metadata": {
        "id": "-Fdn7RoU1rCV"
      },
      "source": [
        "## Learning Objectives:\n",
        "\n",
        "For this project, you will use the scikit-learn library to conduct a machine learning experiment, and your write-up will ask you to explain what you did and interpret the results. \n",
        "\n",
        "This directly addresses two of the course learning objectives stated in the syllabus:\n",
        "- Students will be able to create software which utilizes machine learning programming libraries in order to conduct machine-learning-based data analysis.\n",
        "- Students will be able to develop and conduct machine-learning-based data analysis experiments, and they will be able to interpret and explain the results.\n"
      ]
    },
    {
      "cell_type": "markdown",
      "metadata": {
        "id": "UVrqnfVR1rCV"
      },
      "source": [
        "## Project Description:\n",
        "\n",
        "For this project, you are to identify the dataset you would like to utilize. I have provided several examples in class, but you have the option of using any dataset you can find.\n",
        "\n",
        "You will be assessed on your ability to utilize algorithms and tools introduced in this class. There are some basic guidelines as to what I want to see laid out below, but you are the machine learning engineer and it is your job to draw some meaningful conclusions about the data."
      ]
    },
    {
      "cell_type": "markdown",
      "metadata": {
        "id": "VRtkINGF1rCW"
      },
      "source": [
        "## Dataset Choice:\n",
        "For this project, you will get to choose what dataset you use. The ones we've used in class (other than Iris/Titanic/Restaurant as they're pretty small) are all fair game (pokemon, wine quality, breast cancer, spotify). I'd recommend choosing a dataset that is interesting to you--it will make the project more fun and engaging.\n",
        "\n",
        "Here are some other possibilities--[Kaggle](https://www.kaggle.com/datasets) has many many more, as well as the [UCI Machine Learning Repository](https://archive.ics.uci.edu/ml/index.php). It is a good idea to double check with me before grabbing a dataset that's not listed here:\n",
        "- 🥑 [Avocado Prices](https://www.kaggle.com/datasets/neuromusic/avocado-prices)\n",
        "- 🎟️ [Admission to University](https://www.kaggle.com/datasets/akshaydattatraykhare/data-for-admission-in-the-university)\n",
        "- 🏎️ [Speed Dating](https://www.kaggle.com/datasets/whenamancodes/speed-dating)\n",
        "- 🎓 [World University Ranking](https://www.kaggle.com/datasets/whenamancodes/world-university-ranking-2022-2023)\n",
        "- 📸 [Top Instagram Influencers](https://www.kaggle.com/datasets/whenamancodes/top-200-influencers-crushing-on-instagram)\n",
        "- 🌦️ [Weather Prediction](https://www.kaggle.com/datasets/thedevastator/weather-prediction)\n",
        "- 🤑 [Student Monthly Expenses](https://www.kaggle.com/datasets/shariful07/nice-work-thanks-for-share)\n",
        "- 🍺 [Student Alcohol Consumption](https://www.kaggle.com/datasets/uciml/student-alcohol-consumption)\n",
        "- 🏫 [College Score Card](https://www.kaggle.com/datasets/thedevastator/u-s-department-of-education-college-scorecard-da)\n",
        "- 🎮 [IMDB Video Games](https://www.kaggle.com/datasets/muhammadadiltalay/imdb-video-games)\n",
        "- 🎵 [Spotify Recommendation](https://www.kaggle.com/datasets/bricevergnou/spotify-recommendation)"
      ]
    },
    {
      "cell_type": "markdown",
      "metadata": {
        "id": "tVCe53k41rCW"
      },
      "source": [
        "✨**New**✨: At the very top of your notebook, I'm asking that in a text cell, you **describe how many points you attempted to get from this project**. Tell me what you think you deserve on this notebook given the rubric:\n",
        "\n",
        "**Self-Evaluation:**\n",
        "\n",
        "| **Description/Writing** | **I think I deserve** |\n",
        "|-------------------------|-----------------------|\n",
        "| 1: Problem              | /2                    |\n",
        "| 2: Data Prep            | /2                    |\n",
        "| 3: Research             | /10                   |\n",
        "| 4: Analysis             | /10                   |\n",
        "| 5: Bumps in the Road.   | /1                    |\n",
        "| Total                   | /25                   |"
      ]
    },
    {
      "cell_type": "markdown",
      "metadata": {
        "id": "o3vwinMb1rCW"
      },
      "source": [
        "## Project Expectations: ☑️"
      ]
    },
    {
      "cell_type": "markdown",
      "metadata": {
        "id": "dPeZRZiC1rCW"
      },
      "source": [
        "You will create a Colab notebook that includes your code and results to document your experiment. Most importantly, **you will use text cells in the notebook to explain what you did, interpret the results, and make your recommendations**. \n",
        "\n",
        "The written markdown protions must include the following things:"
      ]
    },
    {
      "cell_type": "markdown",
      "metadata": {
        "id": "hkj9FGue1rCW"
      },
      "source": [
        "1. **Problem** [2 points]: State the problem you are trying to solve with this machine learning experiment. Include a description of the data, where you got the data, and what you're trying to predict. Is the problem a regression or a classification? What kind of metric do you plan to use to measure the performance of your model?"
      ]
    },
    {
      "cell_type": "markdown",
      "metadata": {
        "id": "9KHlAaIA1rCX"
      },
      "source": [
        "2.  **Data Preparation** [2 points]: Explain your data preparation. What did you have to do to get your data in shape for your experiments? Why are you certain that you data is clean and prepared for use in your algorithms? "
      ]
    },
    {
      "cell_type": "markdown",
      "metadata": {
        "id": "WCaQlnae1rCX"
      },
      "source": [
        "3.  **Research** [10 points]: Put your code and your experiments here.\n",
        "    - Your research should include using the models that we've talked about in class so far--namely, a K Nearest Neighbors, weighted kNN, Decision Tree, Random Forest, as well as tuning these models (with visuals, i.e. graphs) to find the parameters that give you the best performance using an appropriate metric.\n",
        "    - Does normalizing your data lead to better performance? If so, why?"
      ]
    },
    {
      "cell_type": "markdown",
      "metadata": {
        "id": "BSjbN6sz1rCX"
      },
      "source": [
        "4.  **Analysis** [10 points]: What did you discover? What insights/recommendations do you have? What did you find that was interesting? Which model was your best model, which models didn't work well? Why do you think this is? In general, I want a discussion of your experiment, the results, and what they mean."
      ]
    },
    {
      "cell_type": "markdown",
      "metadata": {
        "id": "NgxVvgKG1rCX"
      },
      "source": [
        "5.  **Bumps in the Road** [1 point]: What challenges did you encounter? How did you overcome these challenges?"
      ]
    },
    {
      "cell_type": "markdown",
      "metadata": {
        "id": "VSsIfvKU1rCX"
      },
      "source": [
        "## More Details:\n",
        "\n",
        "For full credit, your experiments should include the following models:\n",
        "- __k Nearest Neighbors__\n",
        "- __weighted k Nearest Neighbors__\n",
        "- __decision tree__\n",
        "- __random forest__ \n",
        "\n",
        "You need to demonstrate the performance of these models on both __normalized__ and __non-normalized__ data. \n",
        "\n",
        "For each of the above models, you need to include a __graph of at least 1 tuned parameter__. \n",
        "\n",
        "Essentailly, you will be able to fill out this chart with your results:\n",
        "\n",
        "| **Model**     | **Non-Normalized** | **Normalized** | **Parameter Tuned** |\n",
        "|---------------|--------------------|----------------|---------------------|\n",
        "| kNN           |                    |                |                     |\n",
        "| w-kNN         |                    |                |                     |\n",
        "| decision tree |                    |                |                     |\n",
        "| random forest |                    |                |                     |\n"
      ]
    },
    {
      "cell_type": "markdown",
      "metadata": {
        "id": "P_w99y9c1rCX"
      },
      "source": [
        "## Please, cite your sources\n",
        "\n",
        "If you choose to use code that has not been provided to you in this class, please cite where you got the code from. A simple comment with the URL will suffice. \n",
        "\n",
        "This is especially true if you are choosing to use a dataset from Kaggle. There are lots of example notebooks for most Kaggle datasets, and while it's totally fine to look at these, using code from these notebooks without citing where you got it from could result in an academic integretity violation. \n"
      ]
    },
    {
      "cell_type": "markdown",
      "metadata": {
        "id": "NAtAR8OI1rCX"
      },
      "source": [
        "# ✨ New Material"
      ]
    },
    {
      "cell_type": "markdown",
      "metadata": {
        "id": "qx2pCrTU1rCX"
      },
      "source": [
        "## Dimensionality of Data\n",
        "\n",
        "__Dimensionality__: the number of attributes that a dataset has"
      ]
    },
    {
      "cell_type": "markdown",
      "metadata": {
        "id": "eXXaPG031rCY"
      },
      "source": [
        "- __High dimensionality__: If the number of attributes (i.e. columns) is higher than the number of observations (i.e. rows) the dimensionality of the data is very high (i.e. *healthcare data*, *gene expression*, \n",
        "    - Pros: more data provides more attributes to 'learn' from\n",
        "    - Cons: more compute time"
      ]
    },
    {
      "cell_type": "markdown",
      "metadata": {
        "id": "F7McBhy51rCY"
      },
      "source": [
        "- __Low dimensionality__: if the number of attributes (i.e. columns) is relatively small compared to the number of rows. (i.e. *Iris Dataset*)\n",
        "    - Pros: simpler data, less compute time\n",
        "    - Cons: less likely to be easily separable"
      ]
    },
    {
      "cell_type": "markdown",
      "metadata": {
        "id": "vRlTUG461rCY"
      },
      "source": [
        "## Dimensionality Examples: "
      ]
    },
    {
      "cell_type": "code",
      "execution_count": null,
      "metadata": {
        "id": "3ptpG_me1rCY",
        "outputId": "10acadd0-7d92-484b-e92f-25242cbcdc54"
      },
      "outputs": [
        {
          "data": {
            "text/html": [
              "<div>\n",
              "<style scoped>\n",
              "    .dataframe tbody tr th:only-of-type {\n",
              "        vertical-align: middle;\n",
              "    }\n",
              "\n",
              "    .dataframe tbody tr th {\n",
              "        vertical-align: top;\n",
              "    }\n",
              "\n",
              "    .dataframe thead th {\n",
              "        text-align: right;\n",
              "    }\n",
              "</style>\n",
              "<table border=\"1\" class=\"dataframe\">\n",
              "  <thead>\n",
              "    <tr style=\"text-align: right;\">\n",
              "      <th></th>\n",
              "      <th>sepal length</th>\n",
              "      <th>sepal width</th>\n",
              "      <th>petal length</th>\n",
              "      <th>petal width</th>\n",
              "      <th>species</th>\n",
              "    </tr>\n",
              "  </thead>\n",
              "  <tbody>\n",
              "    <tr>\n",
              "      <th>0</th>\n",
              "      <td>5.1</td>\n",
              "      <td>3.5</td>\n",
              "      <td>1.4</td>\n",
              "      <td>0.2</td>\n",
              "      <td>Iris-setosa</td>\n",
              "    </tr>\n",
              "    <tr>\n",
              "      <th>1</th>\n",
              "      <td>4.9</td>\n",
              "      <td>3.0</td>\n",
              "      <td>1.4</td>\n",
              "      <td>0.2</td>\n",
              "      <td>Iris-setosa</td>\n",
              "    </tr>\n",
              "    <tr>\n",
              "      <th>2</th>\n",
              "      <td>4.7</td>\n",
              "      <td>3.2</td>\n",
              "      <td>1.3</td>\n",
              "      <td>0.2</td>\n",
              "      <td>Iris-setosa</td>\n",
              "    </tr>\n",
              "    <tr>\n",
              "      <th>3</th>\n",
              "      <td>4.6</td>\n",
              "      <td>3.1</td>\n",
              "      <td>1.5</td>\n",
              "      <td>0.2</td>\n",
              "      <td>Iris-setosa</td>\n",
              "    </tr>\n",
              "    <tr>\n",
              "      <th>4</th>\n",
              "      <td>5.0</td>\n",
              "      <td>3.6</td>\n",
              "      <td>1.4</td>\n",
              "      <td>0.2</td>\n",
              "      <td>Iris-setosa</td>\n",
              "    </tr>\n",
              "  </tbody>\n",
              "</table>\n",
              "</div>"
            ],
            "text/plain": [
              "   sepal length  sepal width  petal length  petal width      species\n",
              "0           5.1          3.5           1.4          0.2  Iris-setosa\n",
              "1           4.9          3.0           1.4          0.2  Iris-setosa\n",
              "2           4.7          3.2           1.3          0.2  Iris-setosa\n",
              "3           4.6          3.1           1.5          0.2  Iris-setosa\n",
              "4           5.0          3.6           1.4          0.2  Iris-setosa"
            ]
          },
          "execution_count": 4,
          "metadata": {},
          "output_type": "execute_result"
        }
      ],
      "source": [
        "iris.head()"
      ]
    },
    {
      "cell_type": "markdown",
      "metadata": {
        "id": "wmZXAXIq1rCY"
      },
      "source": [
        "## 🔮 Curse of Dimensionality:\n",
        "\n",
        "The __curse of dimensionality__: the more dimensions you add to a dataset, the more difficult it becomes to make predictions about that dataset. \n",
        "- each attribute added results an an _exponenetial decrease in predictive power_. "
      ]
    },
    {
      "cell_type": "markdown",
      "metadata": {
        "id": "U1ikxBt61rCY"
      },
      "source": [
        "# Overview:\n",
        "\n",
        "The next two lectures, we're going to be playing around with the __dimensionality__ of our datasets. \n",
        "- __Support Vector Machines__: increase dimensionality so that our data can be linearly separable\n",
        "- __Principal Component Analysis__: Decreases the dimensionality of our datasets"
      ]
    },
    {
      "cell_type": "markdown",
      "metadata": {
        "id": "ziPZMk951rCY"
      },
      "source": [
        "# Support Vector Machines:\n",
        "\n",
        "[Demonstration Slides](https://docs.google.com/presentation/d/1KABBOfWUsOjwGM-B8jFmyUqMwmLtyb5d64oXE4kA5jo/edit?usp=sharing)\n"
      ]
    },
    {
      "cell_type": "markdown",
      "metadata": {
        "id": "gWAULa1_1rCY"
      },
      "source": [
        "## 🙋 PollEverywhere Concept Check"
      ]
    },
    {
      "cell_type": "markdown",
      "metadata": {
        "id": "Pl1cGWMJ1rCZ"
      },
      "source": [
        "## Support Vector Machines:\n",
        "\n",
        "Which line is the best separator of the two classes?\n",
        "\n",
        "<div>\n",
        "<img src=\"https://github.com/merriekay/S23-CS167-Notes/blob/main/images/day14_best_sep.png?raw=1\" width=400/>\n",
        "</div>"
      ]
    },
    {
      "cell_type": "markdown",
      "metadata": {
        "id": "s9kXIVZc1rCZ"
      },
      "source": [
        "Line B has the __largest margin__.\n",
        "- maximizes the distance to the nearest points of different classes."
      ]
    },
    {
      "cell_type": "markdown",
      "metadata": {
        "id": "t4G4o-A71rCZ"
      },
      "source": [
        "# Support Vector Machines:\n",
        "\n",
        "If two classes are linearly separable, there are many lines that we could choose to separate the classes. Support Vector Machines help us to choose the best line to split classes by. "
      ]
    },
    {
      "cell_type": "markdown",
      "metadata": {
        "id": "Q9WJXaOT1rCZ"
      },
      "source": [
        "In a nutshell: Support Vector Machines find the separator that maximizes the margins.\n",
        "\n",
        "<div>\n",
        "<img src=\"https://github.com/merriekay/S23-CS167-Notes/blob/main/images/day14_max_margins.png?raw=1\" width=800/>\n",
        "</div>"
      ]
    },
    {
      "cell_type": "markdown",
      "metadata": {
        "id": "q_L8Jg1a1rCZ"
      },
      "source": [
        "## Maximizing the Margin:\n",
        "\n",
        "Tbe goal is to __maximize the margin__. Here's what that means:\n",
        "\n",
        "<div>\n",
        "<img src=\"https://github.com/merriekay/S23-CS167-Notes/blob/main/images/day14_margin1.png?raw=1\" width=500/>\n",
        "</div>"
      ]
    },
    {
      "cell_type": "markdown",
      "metadata": {
        "id": "gU8ymWWp1rCZ"
      },
      "source": [
        "## Maximizing the Margin:\n",
        "\n",
        "Tbe goal is to __maximize the margin__. Here's what that means:\n",
        "\n",
        "<div>\n",
        "<img src=\"https://github.com/merriekay/S23-CS167-Notes/blob/main/images/day14_margin2.png?raw=1\" width=500/>\n",
        "</div>"
      ]
    },
    {
      "cell_type": "markdown",
      "metadata": {
        "id": "6vf115i31rCZ"
      },
      "source": [
        "## Maximizing the Margin:\n",
        "\n",
        "Tbe goal is to __maximize the margin__. Here's what that means:\n",
        "\n",
        "<div>\n",
        "<img src=\"https://github.com/merriekay/S23-CS167-Notes/blob/main/images/day14_margin3.png?raw=1\" width=500/>\n",
        "</div>"
      ]
    },
    {
      "cell_type": "markdown",
      "metadata": {
        "id": "gfC2w3yZ1rCZ"
      },
      "source": [
        "## 🙋 PollEverywhere Concept Check"
      ]
    },
    {
      "cell_type": "markdown",
      "metadata": {
        "id": "pYe7o4K21rCa"
      },
      "source": [
        "Which line is the best separator of the two classes?\n",
        "<div>\n",
        "<img src=\"https://github.com/merriekay/S23-CS167-Notes/blob/main/images/day14_svm2.png?raw=1\" width=500/>\n",
        "</div>"
      ]
    },
    {
      "cell_type": "markdown",
      "metadata": {
        "id": "vqnt-DAQ1rCa"
      },
      "source": [
        "- C is __consistent__ (correctly classifies all training data) and so would be chosen by the SVM.\n",
        "    - But... maybe B would generalize the data better\n",
        "    - If you choose to allow your model to have __inconsistencies__, you are using __soft margins__. "
      ]
    },
    {
      "cell_type": "markdown",
      "metadata": {
        "id": "Q0iXTs3f1rCa"
      },
      "source": [
        "## So what are Support Vectors, anyway?\n",
        "\n",
        "The decision function (line/plane/hyperplane, etc) is fully specified by a (usually very small) __subset of the training samples__. \n",
        "\n",
        "__Support Vectors__ are the points from the training set which would change the position of the dividing hyperplane if removed.\n",
        "- they are the critical elements of the training set. \n",
        "\n",
        "<div>\n",
        "<img src=\"https://github.com/merriekay/S23-CS167-Notes/blob/main/images/day14_svm3.png?raw=1\" width=500/>\n",
        "</div>"
      ]
    },
    {
      "cell_type": "markdown",
      "metadata": {
        "id": "ov4S-VNT1rCa"
      },
      "source": [
        "## Support Vectors\n",
        "\n",
        "Moving a support vector moves the decision boundary.\n",
        "\n",
        "Moving other vectors has no effect on the decision boundary.\n",
        "\n",
        "<div>\n",
        "<img src=\"https://github.com/merriekay/S23-CS167-Notes/blob/main/images/day14_svm4.png?raw=1\" width=600/>\n",
        "</div>"
      ]
    },
    {
      "cell_type": "markdown",
      "metadata": {
        "id": "O4622quS1rCa"
      },
      "source": [
        "## 🙋 PollEverywhere Concept Check"
      ]
    },
    {
      "cell_type": "markdown",
      "metadata": {
        "id": "4Nf8sv5e1rCa"
      },
      "source": [
        "## Separation by Hyperplanes:\n",
        "\n",
        "Assume we have some data that is __linearly separable__.\n",
        "- In 2 dimensions, we can draw a line to separate the data\n",
        "- In 3 dimensions, that separator becomes a _plane_.\n",
        "- In more than 3 dimensions, that separator becomes a _hyperplane_.\n",
        "\n",
        "<div>\n",
        "<img src=\"https://github.com/merriekay/S23-CS167-Notes/blob/main/images/day14_hyperplane.png?raw=1\" width=800/>\n",
        "</div>"
      ]
    },
    {
      "cell_type": "markdown",
      "metadata": {
        "id": "DEikEeGS1rCa"
      },
      "source": [
        "## 🚨🚨 Terminology Alert 🚨🚨\n",
        "\n",
        "Okay, so far we've talked about: \n",
        "- __Dimensionality of Data__: how many attributes does the dataset have?\n",
        "- __Linear Separability__: can the data be separated by a line/plane/hyperplane?\n",
        "- __Support Vectors__: the points that are closest to the decision boundary that are used to define the decision boundary.\n",
        "- __Hyperplane__: A multidimensional surface that can be used to separate data\n",
        "- __Margins__: The distance between the separator and the observations closest to the separators (the support vectors)."
      ]
    },
    {
      "cell_type": "markdown",
      "metadata": {
        "id": "E5KuVevW1rCa"
      },
      "source": [
        "## Will an SVM Work here?\n",
        "<div>\n",
        "<img src=\"https://github.com/merriekay/S23-CS167-Notes/blob/main/images/day14_svm5.png?raw=1\" width=500/>\n",
        "</div>"
      ]
    },
    {
      "cell_type": "markdown",
      "metadata": {
        "id": "5NGWB3QD1rCa"
      },
      "source": [
        "Is this data linearly separable?"
      ]
    },
    {
      "cell_type": "markdown",
      "metadata": {
        "id": "fSAylyWY1rCa"
      },
      "source": [
        "# The Kernel Trick Overview:\n",
        "\n",
        "The kernel trick is what makes SVMs powerful.\n",
        "\n",
        "__Big Idea__: Map the data into a different feature space wher it becomes separable by a hyperplane.\n",
        "\n",
        "<div>\n",
        "<img src=\"https://github.com/merriekay/S23-CS167-Notes/blob/main/images/day14_kernel.png?raw=1\" width=800/>\n",
        "</div>"
      ]
    },
    {
      "cell_type": "markdown",
      "metadata": {
        "id": "Yqhxn2Fd1rCb"
      },
      "source": [
        "# Support Vector Classifier:\n",
        "\n",
        "The main idea:\n",
        "- __goal__: find a decision boundary with a _maximum width_ that can correctly classify your data.\n",
        "\n",
        "Steps:\n",
        "1. Start by checking whether your data is linearly separable.\n",
        "    - If so, great. Find the classifier with the maximum margin.\n",
        "    - If not, go to Step 2."
      ]
    },
    {
      "cell_type": "markdown",
      "metadata": {
        "id": "cYzHjjFy1rCb"
      },
      "source": [
        "2. If not, then move the data into a higher dimensional space using the __kernel trick__. \n",
        "3. Find the best hyperplane that separates the higher dimensional data. "
      ]
    },
    {
      "cell_type": "markdown",
      "metadata": {
        "id": "QTAw34fD1rCb"
      },
      "source": [
        "# The Kernel Trick:\n",
        "\n",
        "<div>\n",
        "<img src=\"https://github.com/merriekay/S23-CS167-Notes/blob/main/images/day14_kernel1.png?raw=1\" width=500/>\n",
        "</div>"
      ]
    },
    {
      "cell_type": "markdown",
      "metadata": {
        "id": "9tHY7iOT1rCb"
      },
      "source": [
        "# The Kernel Trick:\n",
        "\n",
        "<div>\n",
        "<img src=\"https://github.com/merriekay/S23-CS167-Notes/blob/main/images/day14_kernel2.png?raw=1\" width=500/>\n",
        "</div>"
      ]
    },
    {
      "cell_type": "markdown",
      "metadata": {
        "id": "kBEh7XMa1rCb"
      },
      "source": [
        "# The Kernel Trick:\n",
        "\n",
        "<div>\n",
        "<img src=\"https://github.com/merriekay/S23-CS167-Notes/blob/main/images/day14_kernel_4.png?raw=1\" width=500/>\n",
        "</div>"
      ]
    },
    {
      "cell_type": "markdown",
      "metadata": {
        "id": "hS6CTns41rCb"
      },
      "source": [
        "# The Kernel Trick:\n",
        "\n",
        "<div>\n",
        "<img src=\"https://github.com/merriekay/S23-CS167-Notes/blob/main/images/day14_kernel5.png?raw=1\" width=500/>\n",
        "</div>"
      ]
    },
    {
      "cell_type": "markdown",
      "metadata": {
        "id": "8oQFxweJ1rCb"
      },
      "source": [
        "# The Kernel Trick Overview:\n",
        "\n",
        "<div>\n",
        "<img src=\"https://github.com/merriekay/S23-CS167-Notes/blob/main/images/day14_kernel6.png?raw=1\" width=1000/>\n",
        "</div>"
      ]
    },
    {
      "cell_type": "markdown",
      "metadata": {
        "id": "3lB8fYon1rCb"
      },
      "source": [
        "# The Kernel Trick Overview:\n",
        "\n",
        "The kernel trick is what makes SVMs powerful.\n",
        "\n",
        "__Big Idea__: Map the data into a different feature space wher it becomes separable by a hyperplane.\n",
        "\n",
        "<div>\n",
        "<img src=\"https://github.com/merriekay/S23-CS167-Notes/blob/main/images/day14_kernel.png?raw=1\" width=800/>\n",
        "</div>"
      ]
    },
    {
      "cell_type": "markdown",
      "metadata": {
        "id": "X174lm1e1rCb"
      },
      "source": [
        "## Kernel Trick Example:\n",
        "\n",
        "<div>\n",
        "<img src=\"https://github.com/merriekay/S23-CS167-Notes/blob/main/images/day14_kernel_ex.png?raw=1\" width=1000/>\n",
        "</div>"
      ]
    },
    {
      "cell_type": "markdown",
      "metadata": {
        "id": "HsqjZDRZ1rCb"
      },
      "source": [
        "# 💬 Group Exercise:\n",
        "\n",
        "Come up with a new feature that can be used to separate the following two classes:\n",
        "\n",
        "<div>\n",
        "<img src=\"https://github.com/merriekay/S23-CS167-Notes/blob/main/images/day14_ex1.png?raw=1\" width=700/>\n",
        "</div>"
      ]
    },
    {
      "cell_type": "markdown",
      "metadata": {
        "id": "SHCzzsJh1rCc"
      },
      "source": [
        "# Common Kernels:\n",
        "\n",
        "Luckily, we do not need to come up with the kernel function on our own. There are a few common kernels that work particularly well. \n",
        "\n",
        "Common Kernels:\n",
        "- __Polynomial__ (poly): \n",
        "    - $ K(X,Y) = (X \\cdot Y + R)^d$ (for d, r constants)"
      ]
    },
    {
      "cell_type": "markdown",
      "metadata": {
        "id": "-QRHAxRh1rCc"
      },
      "source": [
        "- __Gaussian radial basis function__ (RBF):\n",
        "    - $ K(X, Y) = exp(- \\gamma || X - Y || ^2) $ (for $\\gamma > 0 $)"
      ]
    },
    {
      "cell_type": "markdown",
      "metadata": {
        "id": "yzdPgTyY1rCc"
      },
      "source": [
        "- __Hyperbolic Tangent___ (tanh or sigmoid):\n",
        "    - $ K(X, Y) = tanh(- \\gamma X \\cdot Y + r) $ (for $ \\gamma > 0$, $ r < 0 $)"
      ]
    },
    {
      "cell_type": "markdown",
      "metadata": {
        "id": "nd1HoIkU1rCc"
      },
      "source": [
        "# Recall Bias and Variance:\n",
        "\n",
        "<div>\n",
        "<img src=\"https://github.com/merriekay/S23-CS167-Notes/blob/main/images/bias_variance_tradeoff.png?raw=1\" width=700/>\n",
        "</div>\n",
        "\n",
        "$\\gamma$ is a parameter that will help us tune how much bias/variance our model has.\n",
        "- Intuition to develop: $\\gamma$ controls how much a single training example affects the decision boundary.\n",
        "    - Use a smaller $\\gamma$ to better deal with outliers and avoid overfitting.\n",
        "    - Low $\\gamma$ is similar to low variance.\n",
        "    \n",
        "### Which model has a larger $\\gamma$?"
      ]
    },
    {
      "cell_type": "markdown",
      "metadata": {
        "id": "1KiAcXsn1rCc"
      },
      "source": [
        "# SVM Advantages:\n",
        "Effective in __high dimensional spaces__.\n",
        "\n",
        "__Memory efficient__ : uses only a small porportion of the training examples (the support vectors) to define a decision bounary.\n",
        "\n",
        "__versatile__: different kernel functions can be specified for the decison function\n",
        "- common kernels are proivded, but it is also possible to specify custom kernels. \n",
        "\n",
        "It is very effective in cases where number of dimensions is greater than the number of samples. "
      ]
    },
    {
      "cell_type": "markdown",
      "metadata": {
        "id": "5C2TeSMP1rCc"
      },
      "source": [
        "# SVM Disadvantages:\n",
        "\n",
        "Crucial to avoid __overfitting__. \n",
        "- Choosing kernel functions and regularization term\n",
        "- Developing intuition may be difficult\n",
        "\n",
        "Training time is high when we have large datasets\n",
        "\n",
        "When the data set has more noise (i.e. target classes are overlapping), SVM doesn't perform well. \n"
      ]
    },
    {
      "cell_type": "markdown",
      "metadata": {
        "id": "NztMwMIv1rCc"
      },
      "source": [
        "# Let's try it!\n",
        "\n",
        "Note that scikit-learn has a package SVC and SVR (Support Vector Classifier and Support Vector Regressor)\n",
        "\n",
        "__Visualizing Decision Surfaces__:\n",
        "- This will help us improve our intuition about how each algorithm works and how they compare with each other. \n",
        "- However, we're limited to learning ontly on 2 columns here (so we can display it in 2 dimensions). "
      ]
    },
    {
      "cell_type": "code",
      "execution_count": null,
      "metadata": {
        "id": "hszePCR81rCc"
      },
      "outputs": [],
      "source": [
        "from google.colab import drive\n",
        "drive.mount('/content/drive')"
      ]
    },
    {
      "cell_type": "code",
      "execution_count": 8,
      "metadata": {
        "id": "VDFkFU-w1rCc"
      },
      "outputs": [],
      "source": [
        "#import libraries\n",
        "import pandas as pd\n",
        "import numpy\n",
        "\n",
        "from sklearn.model_selection import train_test_split\n",
        "from sklearn.svm import SVC\n",
        "from sklearn import metrics\n",
        "\n",
        "import matplotlib.pyplot as plt\n",
        "from itertools import product\n",
        "%matplotlib inline\n",
        "\n",
        "path = '/content/drive/MyDrive/datasets/irisData.csv'\n",
        "data = pd.read_csv(path)"
      ]
    },
    {
      "cell_type": "code",
      "execution_count": 9,
      "metadata": {
        "id": "OhSykMjz1rCd",
        "outputId": "edc3c0c1-df8b-44ef-cca6-5a0395f85d50",
        "colab": {
          "base_uri": "https://localhost:8080/",
          "height": 206
        }
      },
      "outputs": [
        {
          "output_type": "execute_result",
          "data": {
            "text/plain": [
              "     sepal length  sepal width  petal length  petal width\n",
              "79            5.7          2.6           3.5          1.0\n",
              "54            6.5          2.8           4.6          1.5\n",
              "106           4.9          2.5           4.5          1.7\n",
              "90            5.5          2.6           4.4          1.2\n",
              "145           6.7          3.0           5.2          2.3"
            ],
            "text/html": [
              "\n",
              "  <div id=\"df-853ed1b6-0734-4a39-b74f-98e4be642a89\">\n",
              "    <div class=\"colab-df-container\">\n",
              "      <div>\n",
              "<style scoped>\n",
              "    .dataframe tbody tr th:only-of-type {\n",
              "        vertical-align: middle;\n",
              "    }\n",
              "\n",
              "    .dataframe tbody tr th {\n",
              "        vertical-align: top;\n",
              "    }\n",
              "\n",
              "    .dataframe thead th {\n",
              "        text-align: right;\n",
              "    }\n",
              "</style>\n",
              "<table border=\"1\" class=\"dataframe\">\n",
              "  <thead>\n",
              "    <tr style=\"text-align: right;\">\n",
              "      <th></th>\n",
              "      <th>sepal length</th>\n",
              "      <th>sepal width</th>\n",
              "      <th>petal length</th>\n",
              "      <th>petal width</th>\n",
              "    </tr>\n",
              "  </thead>\n",
              "  <tbody>\n",
              "    <tr>\n",
              "      <th>79</th>\n",
              "      <td>5.7</td>\n",
              "      <td>2.6</td>\n",
              "      <td>3.5</td>\n",
              "      <td>1.0</td>\n",
              "    </tr>\n",
              "    <tr>\n",
              "      <th>54</th>\n",
              "      <td>6.5</td>\n",
              "      <td>2.8</td>\n",
              "      <td>4.6</td>\n",
              "      <td>1.5</td>\n",
              "    </tr>\n",
              "    <tr>\n",
              "      <th>106</th>\n",
              "      <td>4.9</td>\n",
              "      <td>2.5</td>\n",
              "      <td>4.5</td>\n",
              "      <td>1.7</td>\n",
              "    </tr>\n",
              "    <tr>\n",
              "      <th>90</th>\n",
              "      <td>5.5</td>\n",
              "      <td>2.6</td>\n",
              "      <td>4.4</td>\n",
              "      <td>1.2</td>\n",
              "    </tr>\n",
              "    <tr>\n",
              "      <th>145</th>\n",
              "      <td>6.7</td>\n",
              "      <td>3.0</td>\n",
              "      <td>5.2</td>\n",
              "      <td>2.3</td>\n",
              "    </tr>\n",
              "  </tbody>\n",
              "</table>\n",
              "</div>\n",
              "      <button class=\"colab-df-convert\" onclick=\"convertToInteractive('df-853ed1b6-0734-4a39-b74f-98e4be642a89')\"\n",
              "              title=\"Convert this dataframe to an interactive table.\"\n",
              "              style=\"display:none;\">\n",
              "        \n",
              "  <svg xmlns=\"http://www.w3.org/2000/svg\" height=\"24px\"viewBox=\"0 0 24 24\"\n",
              "       width=\"24px\">\n",
              "    <path d=\"M0 0h24v24H0V0z\" fill=\"none\"/>\n",
              "    <path d=\"M18.56 5.44l.94 2.06.94-2.06 2.06-.94-2.06-.94-.94-2.06-.94 2.06-2.06.94zm-11 1L8.5 8.5l.94-2.06 2.06-.94-2.06-.94L8.5 2.5l-.94 2.06-2.06.94zm10 10l.94 2.06.94-2.06 2.06-.94-2.06-.94-.94-2.06-.94 2.06-2.06.94z\"/><path d=\"M17.41 7.96l-1.37-1.37c-.4-.4-.92-.59-1.43-.59-.52 0-1.04.2-1.43.59L10.3 9.45l-7.72 7.72c-.78.78-.78 2.05 0 2.83L4 21.41c.39.39.9.59 1.41.59.51 0 1.02-.2 1.41-.59l7.78-7.78 2.81-2.81c.8-.78.8-2.07 0-2.86zM5.41 20L4 18.59l7.72-7.72 1.47 1.35L5.41 20z\"/>\n",
              "  </svg>\n",
              "      </button>\n",
              "      \n",
              "  <style>\n",
              "    .colab-df-container {\n",
              "      display:flex;\n",
              "      flex-wrap:wrap;\n",
              "      gap: 12px;\n",
              "    }\n",
              "\n",
              "    .colab-df-convert {\n",
              "      background-color: #E8F0FE;\n",
              "      border: none;\n",
              "      border-radius: 50%;\n",
              "      cursor: pointer;\n",
              "      display: none;\n",
              "      fill: #1967D2;\n",
              "      height: 32px;\n",
              "      padding: 0 0 0 0;\n",
              "      width: 32px;\n",
              "    }\n",
              "\n",
              "    .colab-df-convert:hover {\n",
              "      background-color: #E2EBFA;\n",
              "      box-shadow: 0px 1px 2px rgba(60, 64, 67, 0.3), 0px 1px 3px 1px rgba(60, 64, 67, 0.15);\n",
              "      fill: #174EA6;\n",
              "    }\n",
              "\n",
              "    [theme=dark] .colab-df-convert {\n",
              "      background-color: #3B4455;\n",
              "      fill: #D2E3FC;\n",
              "    }\n",
              "\n",
              "    [theme=dark] .colab-df-convert:hover {\n",
              "      background-color: #434B5C;\n",
              "      box-shadow: 0px 1px 3px 1px rgba(0, 0, 0, 0.15);\n",
              "      filter: drop-shadow(0px 1px 2px rgba(0, 0, 0, 0.3));\n",
              "      fill: #FFFFFF;\n",
              "    }\n",
              "  </style>\n",
              "\n",
              "      <script>\n",
              "        const buttonEl =\n",
              "          document.querySelector('#df-853ed1b6-0734-4a39-b74f-98e4be642a89 button.colab-df-convert');\n",
              "        buttonEl.style.display =\n",
              "          google.colab.kernel.accessAllowed ? 'block' : 'none';\n",
              "\n",
              "        async function convertToInteractive(key) {\n",
              "          const element = document.querySelector('#df-853ed1b6-0734-4a39-b74f-98e4be642a89');\n",
              "          const dataTable =\n",
              "            await google.colab.kernel.invokeFunction('convertToInteractive',\n",
              "                                                     [key], {});\n",
              "          if (!dataTable) return;\n",
              "\n",
              "          const docLinkHtml = 'Like what you see? Visit the ' +\n",
              "            '<a target=\"_blank\" href=https://colab.research.google.com/notebooks/data_table.ipynb>data table notebook</a>'\n",
              "            + ' to learn more about interactive tables.';\n",
              "          element.innerHTML = '';\n",
              "          dataTable['output_type'] = 'display_data';\n",
              "          await google.colab.output.renderOutput(dataTable, element);\n",
              "          const docLink = document.createElement('div');\n",
              "          docLink.innerHTML = docLinkHtml;\n",
              "          element.appendChild(docLink);\n",
              "        }\n",
              "      </script>\n",
              "    </div>\n",
              "  </div>\n",
              "  "
            ]
          },
          "metadata": {},
          "execution_count": 9
        }
      ],
      "source": [
        "predictors = ['sepal length', 'sepal width', 'petal length', 'petal width']\n",
        "target = \"species\"\n",
        "\n",
        "train_data, test_data, train_sln, test_sln = train_test_split(data[predictors], data[target], test_size = 0.2, random_state=41)\n",
        "train_data.head()"
      ]
    },
    {
      "cell_type": "markdown",
      "metadata": {
        "id": "H2ypKL5g1rCd"
      },
      "source": [
        "### Let's use `sklearn` to classify the Iris data:\n",
        "- Documentation: [`sklearn.svm.SVC()`](https://scikit-learn.org/stable/modules/generated/sklearn.svm.SVC.html)"
      ]
    },
    {
      "cell_type": "code",
      "execution_count": 10,
      "metadata": {
        "id": "1WrhFztm1rCd",
        "outputId": "9ac43a80-baac-454a-b202-2da03610d5b5",
        "colab": {
          "base_uri": "https://localhost:8080/"
        }
      },
      "outputs": [
        {
          "output_type": "stream",
          "name": "stdout",
          "text": [
            "accuracy: 0.9333333333333333\n",
            "                   Pred Iris-setosa  Pred Iris-versicolor  Pred Iris-virginica\n",
            "T Iris-setosa                     9                     0                    0\n",
            "T Iris-versicolor                 0                    10                    1\n",
            "T Iris-virginica                  0                     1                    9\n"
          ]
        }
      ],
      "source": [
        "#load up scikit-learn SVC (Support Vector Classifier)\n",
        "clf = SVC()\n",
        "clf.fit(train_data,train_sln)\n",
        "predictions = clf.predict(test_data)\n",
        "\n",
        "#output accuracy\n",
        "print(\"accuracy:\", metrics.accuracy_score(test_sln, predictions))\n",
        "vals = data[target].unique() ## possible classification values\n",
        "conf_mat = metrics.confusion_matrix(test_sln, predictions, labels=vals)\n",
        "print(pd.DataFrame(conf_mat, index = \"T \" + vals, columns = \"Pred \" + vals))"
      ]
    },
    {
      "cell_type": "markdown",
      "metadata": {
        "id": "UA0Z_WmI1rCd"
      },
      "source": [
        "This is a function that will plot out the decision boundary for the model that we pass into the function. It can only plot the decision boundary in 2D, so you have to pass it two features to look at:\n",
        "- It takes in 4 parameters: \n",
        "  - `data`: the dataframe you're working with\n",
        "  - `x_name`: the first feature you want the function to look at \n",
        "  - `y_name`: the second feature you want the function to look at\n",
        "  - `target_name`: the name of the target variable\n",
        "  - `clf`: the classification model you built using sklearn"
      ]
    },
    {
      "cell_type": "code",
      "execution_count": 11,
      "metadata": {
        "id": "0v_yuCSr1rCd"
      },
      "outputs": [],
      "source": [
        "#Credit to Professor Eric Manley for this function\n",
        "import pandas\n",
        "#This code is based on the example here: http://scikit-learn.org/stable/auto_examples/svm/plot_iris.html\n",
        "#Parameters: the data set as a Pandas dataframe, the names of the predictors to put on the x and y axes,\n",
        "#the name of the target column, and the classifier object to use\n",
        "\n",
        "def plot_decision_boundary(data,x_name,y_name,target_name,clf):\n",
        "    \n",
        "    #list of the values appearing in the target column\n",
        "    class_labels = data[target_name].unique()\n",
        "\n",
        "    #converting from categorical target values to numbers so we can plot them with a contour plot\n",
        "    target_col_nums = data[target_name].replace(to_replace=class_labels,value=range(len(data[target_name].unique())))\n",
        "\n",
        "    #create a grid of points representing new cases that we need a prediction for\n",
        "    #these will serve as the basis for drawing the contours\n",
        "    x_points = numpy.linspace(data[x_name].min(), data[x_name].max(), 300)\n",
        "    y_points = numpy.linspace(data[y_name].min(), data[y_name].max(), 300)\n",
        "    X, Y = numpy.meshgrid(x_points,y_points)\n",
        "\n",
        "    #train our classifier\n",
        "    clf.fit(data[[x_name,y_name]],target_col_nums)\n",
        "\n",
        "    #create the dataframe with all the points in our grid\n",
        "    plot_points = pandas.DataFrame(list(product(x_points,y_points)), columns=[x_name,y_name])\n",
        "\n",
        "    #get predictions for each point in our grid\n",
        "    predictions = pandas.Series(clf.predict(plot_points))\n",
        "    \n",
        "    #predictions will be a big 1D array, so reshape them to 2-dimensions, same as the shape of the grid\n",
        "    Z = predictions.values.reshape(X.shape)\n",
        "\n",
        "    #draw the filled-in contours\n",
        "    plt.contourf(X, Y, Z,cmap=plt.cm.coolwarm)\n",
        "\n",
        "    #we will plot the training data using a scatter plot, so\n",
        "    #need to grab the same number of colors used by contourf\n",
        "    point_colors = plt.cm.coolwarm(numpy.linspace(0,1,len(class_labels)))\n",
        "\n",
        "    #scatter plot each of the classes in our target column\n",
        "    for curr_class in range(len(class_labels)):\n",
        "        curr_subset = data[target_col_nums == curr_class]\n",
        "        plt.scatter(curr_subset[x_name],curr_subset[y_name],color=point_colors[curr_class],edgecolors='k',label=class_labels[curr_class])\n",
        "    \n",
        "    #display the plot and accompanying info\n",
        "    plt.xlabel(x_name)\n",
        "    plt.ylabel(y_name)\n",
        "    plt.title(str(clf)+'\\ntraining set accuracy:'+str(clf.score(data[[x_name,y_name]],target_col_nums)))\n",
        "    legend = plt.legend(loc='lower right')\n",
        "    legend.get_frame().set_facecolor('silver')\n",
        "    plt.show()"
      ]
    },
    {
      "cell_type": "code",
      "execution_count": 12,
      "metadata": {
        "id": "Hf-rGJyw1rCe",
        "outputId": "0d0295cf-f651-4a9e-d15b-dfc4095ae286",
        "colab": {
          "base_uri": "https://localhost:8080/",
          "height": 310
        }
      },
      "outputs": [
        {
          "output_type": "display_data",
          "data": {
            "text/plain": [
              "<Figure size 432x288 with 1 Axes>"
            ],
            "image/png": "[encoded data removed]"
          },
          "metadata": {
            "needs_background": "light"
          }
        }
      ],
      "source": [
        "#default SVC\n",
        "plot_decision_boundary(data,'petal width','petal length','species',SVC())"
      ]
    },
    {
      "cell_type": "code",
      "execution_count": 13,
      "metadata": {
        "id": "VOHY1y6B1rCe",
        "outputId": "fd1ec461-6cca-4650-d27f-6c69bc203a8a",
        "colab": {
          "base_uri": "https://localhost:8080/",
          "height": 310
        }
      },
      "outputs": [
        {
          "output_type": "display_data",
          "data": {
            "text/plain": [
              "<Figure size 432x288 with 1 Axes>"
            ],
            "image/png": "[encoded data removed]"
          },
          "metadata": {
            "needs_background": "light"
          }
        }
      ],
      "source": [
        "#linear kernel\n",
        "plot_decision_boundary(data,'petal width','petal length','species',SVC(kernel='linear'))"
      ]
    },
    {
      "cell_type": "code",
      "execution_count": 14,
      "metadata": {
        "id": "g25kPt001rCe",
        "outputId": "e1b313a8-ef45-41e0-e78f-eb8b35eece71",
        "colab": {
          "base_uri": "https://localhost:8080/",
          "height": 310
        }
      },
      "outputs": [
        {
          "output_type": "display_data",
          "data": {
            "text/plain": [
              "<Figure size 432x288 with 1 Axes>"
            ],
            "image/png": "[encoded data removed]"
          },
          "metadata": {
            "needs_background": "light"
          }
        }
      ],
      "source": [
        "#larger value for C\n",
        "plot_decision_boundary(data,'petal width','petal length','species',SVC(C=100))"
      ]
    },
    {
      "cell_type": "code",
      "execution_count": 30,
      "metadata": {
        "id": "vJ29G1wc1rCe",
        "outputId": "7c868611-5809-4b5c-da8c-83b19733a026",
        "colab": {
          "base_uri": "https://localhost:8080/",
          "height": 310
        }
      },
      "outputs": [
        {
          "output_type": "display_data",
          "data": {
            "text/plain": [
              "<Figure size 432x288 with 1 Axes>"
            ],
            "image/png": "[encoded data removed]"
          },
          "metadata": {
            "needs_background": "light"
          }
        }
      ],
      "source": [
        "# set gamma\n",
        "plot_decision_boundary(data,'petal width','petal length','species',SVC(gamma=100, degree = 5))"
      ]
    },
    {
      "cell_type": "markdown",
      "metadata": {
        "id": "mefE1a6L1rCe"
      },
      "source": [
        "## Exercise #1:\n",
        "Documentation: [`sklearn.svm.SVC()`](https://scikit-learn.org/stable/modules/generated/sklearn.svm.SVC.html)\n",
        "\n",
        "1. What are the parameters that we should consider tuning? Discuss.\n",
        "2. Play around with changing these parameters and plotting the decision boundary.\n",
        "3. Are the restuls what you expect? Why or why. not?\n",
        "4. Can you get 100% accuracy?\n"
      ]
    },
    {
      "cell_type": "code",
      "execution_count": 28,
      "metadata": {
        "id": "UmFnIkzn1rCe",
        "outputId": "fe4ee67e-07ce-49af-d221-90bd01216a5f",
        "colab": {
          "base_uri": "https://localhost:8080/",
          "height": 310
        }
      },
      "outputs": [
        {
          "output_type": "display_data",
          "data": {
            "text/plain": [
              "<Figure size 432x288 with 1 Axes>"
            ],
            "image/png": "[encoded data removed]"
          },
          "metadata": {
            "needs_background": "light"
          }
        }
      ],
      "source": [
        "# exercise #1 code here\n",
        "plot_decision_boundary(data,'petal length','petal width','species',SVC(gamma=20))"
      ]
    },
    {
      "cell_type": "markdown",
      "metadata": {
        "id": "2fWu16891rCf"
      },
      "source": [
        "## Exercise #2:\n",
        "\n",
        "Try using the supplied code to experiment with how other algorithms will be mapped. Are the decision boundaries what you expect?\n",
        "\n",
        "- KNN\n",
        "- Decision Trees\n",
        "- Random Forests"
      ]
    },
    {
      "cell_type": "code",
      "execution_count": null,
      "metadata": {
        "id": "b-wvw6B61rCf",
        "outputId": "ea468bc8-b045-447c-89be-609514249a27"
      },
      "outputs": [
        {
          "data": {
            "image/png": "[encoded data removed]",
            "text/plain": [
              "<Figure size 432x288 with 1 Axes>"
            ]
          },
          "metadata": {
            "needs_background": "light"
          },
          "output_type": "display_data"
        }
      ],
      "source": [
        "# exercise #2 code here\n",
        "from sklearn.tree import DecisionTreeClassifier\n",
        "from sklearn.neighbors import KNeighborsClassifier\n",
        "plot_decision_boundary(data,'petal width','sepal length','species',KNeighborsClassifier())"
      ]
    },
    {
      "cell_type": "code",
      "execution_count": null,
      "metadata": {
        "id": "qdGBySow1rCf"
      },
      "outputs": [],
      "source": []
    }
  ],
  "metadata": {
    "celltoolbar": "Slideshow",
    "kernelspec": {
      "display_name": "Python 3",
      "language": "python",
      "name": "python3"
    },
    "language_info": {
      "codemirror_mode": {
        "name": "ipython",
        "version": 3
      },
      "file_extension": ".py",
      "mimetype": "text/x-python",
      "name": "python",
      "nbconvert_exporter": "python",
      "pygments_lexer": "ipython3",
      "version": "3.8.3"
    },
    "colab": {
      "provenance": [],
      "include_colab_link": true
    }
  },
  "nbformat": 4,
  "nbformat_minor": 0
}