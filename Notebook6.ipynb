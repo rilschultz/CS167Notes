{
  "nbformat": 4,
  "nbformat_minor": 0,
  "metadata": {
    "colab": {
      "provenance": [],
      "include_colab_link": true
    },
    "kernelspec": {
      "name": "python3",
      "display_name": "Python 3"
    },
    "language_info": {
      "name": "python"
    },
    "accelerator": "GPU",
    "gpuClass": "standard"
  },
  "cells": [
    {
      "cell_type": "markdown",
      "metadata": {
        "id": "view-in-github",
        "colab_type": "text"
      },
      "source": [
        "<a href=\"https://colab.research.google.com/github/rilschultz/CS167Notes/blob/main/Notebook6.ipynb\" target=\"_parent\"><img src=\"https://colab.research.google.com/assets/colab-badge.svg\" alt=\"Open In Colab\"/></a>"
      ]
    },
    {
      "cell_type": "markdown",
      "metadata": {
        "id": "XHNyMbAY0QB5"
      },
      "source": [
        "# Notebook \\# 6\n",
        "Name:\n",
        "Date:\n",
        "\n",
        "## Problem Description:\n",
        "\n",
        "\n",
        "\n",
        "### Hints/ Tips Tricks\n",
        "- Don't forget to enable GPUs under 'Edit', 'Notebook Settings', 'Accerlate Hardware', 'GPU'.\n",
        "- Make sure you unzip the data and put it in your Drive.\n"
      ]
    },
    {
      "cell_type": "code",
      "metadata": {
        "id": "9TyLjTVU0MQr",
        "colab": {
          "base_uri": "https://localhost:8080/"
        },
        "outputId": "ad9d3815-ecb0-45a0-d5ae-a86b7c95df0c"
      },
      "source": [
        "import keras\n",
        "import tensorflow \n",
        "import sys\n",
        "from matplotlib import pyplot\n",
        "from keras.utils import to_categorical\n",
        "from keras.models import Sequential\n",
        "from keras.layers import Conv2D\n",
        "from keras.layers import MaxPooling2D\n",
        "from keras.layers import Dense\n",
        "from keras.layers import Flatten\n",
        "from keras.optimizers import SGD\n",
        "from keras.preprocessing.image import ImageDataGenerator\n",
        "import sys\n",
        "\n",
        "## Connect to Drive\n",
        "from google.colab import drive\n",
        "import pandas\n",
        "drive.mount('/content/drive')\n",
        "\n",
        "## Image dimensions\n",
        "img_width = 200\n",
        "img_height = 200\n",
        "\n",
        "## Directories for testing and training data\n",
        "train_data_dir = '/content/drive/MyDrive/datasets/chest_xray/train' \n",
        "test_data_dir = '/content/drive/MyDrive/datasets/chest_xray/test'\n",
        "\n",
        "## To feed the training images to the neural network in batches of 32 images at a time\n",
        "batch_size = 32\n",
        "\n",
        "## Rescale pixel values from [0, 255] to between 0 and 1\n",
        "datagen = ImageDataGenerator(rescale=1.0/255.0)\n",
        "\n",
        "## Look for training and testing data and figure out the class of each example based on subfolder\n",
        "train_data = datagen.flow_from_directory(\n",
        "        train_data_dir,\n",
        "        target_size=(img_width, img_height),\n",
        "        batch_size=batch_size,\n",
        "        class_mode='binary')\n",
        "\n",
        "test_data = datagen.flow_from_directory(\n",
        "        test_data_dir,\n",
        "        target_size=(img_width, img_height),\n",
        "        batch_size=batch_size,\n",
        "        class_mode='binary')"
      ],
      "execution_count": 3,
      "outputs": [
        {
          "output_type": "stream",
          "name": "stdout",
          "text": [
            "Mounted at /content/drive\n",
            "Found 5216 images belonging to 2 classes.\n",
            "Found 624 images belonging to 2 classes.\n"
          ]
        }
      ]
    },
    {
      "cell_type": "code",
      "source": [
        "%tensorflow_version 2.x\n",
        "import tensorflow as tf\n",
        "device_name = tf.test.gpu_device_name()\n",
        "if device_name != '/device:GPU:0':\n",
        "  raise SystemError('GPU device not found')\n",
        "print('Found GPU at: {}'.format(device_name))"
      ],
      "metadata": {
        "colab": {
          "base_uri": "https://localhost:8080/"
        },
        "id": "pFLY1Ul8QJ3q",
        "outputId": "b6570bf9-70d6-4e58-a534-3cabd22960a0"
      },
      "execution_count": 4,
      "outputs": [
        {
          "output_type": "stream",
          "name": "stdout",
          "text": [
            "Colab only includes TensorFlow 2.x; %tensorflow_version has no effect.\n",
            "Found GPU at: /device:GPU:0\n"
          ]
        }
      ]
    },
    {
      "cell_type": "code",
      "metadata": {
        "id": "t_i-Cfa41ZvU"
      },
      "source": [
        "# Build your CNN here\n",
        "model = Sequential()\n",
        "model.add(Conv2D(32, (3, 3), activation = 'relu', input_shape=(img_width, img_height, 3)))\n",
        "model.add(Conv2D(32, (3, 3), activation = 'relu'))\n",
        "model.add(Conv2D(32, (3, 3), activation = 'relu'))\n",
        "model.add(Flatten()) #flatten the convolutional layer so it can go into a fully-connected layer\n",
        "model.add(Dense(32)) #fully-connected layer\n",
        "model.add(Dense(1,activation='sigmoid'))\n",
        "\n",
        "# need to compile the model before you can use it\n",
        "opt = SGD(learning_rate=0.001, momentum=0.9)\n",
        "model.compile(optimizer=opt, loss='binary_crossentropy', metrics=['accuracy'])"
      ],
      "execution_count": 6,
      "outputs": []
    },
    {
      "cell_type": "code",
      "source": [
        "training_results = model.fit_generator(\n",
        "        train_data, #training set\n",
        "        steps_per_epoch = len(train_data), \n",
        "        epochs=8, #number of epochs \n",
        "        validation_data = test_data, #testing set\n",
        "        validation_steps = len(test_data)\n",
        "        )"
      ],
      "metadata": {
        "colab": {
          "base_uri": "https://localhost:8080/"
        },
        "id": "DfkKCu0xRAcv",
        "outputId": "b5ce5286-e58a-4d97-a7b4-2a8b42df5690"
      },
      "execution_count": 7,
      "outputs": [
        {
          "metadata": {
            "tags": null
          },
          "name": "stderr",
          "output_type": "stream",
          "text": [
            "<ipython-input-7-8833cba9acf9>:1: UserWarning: `Model.fit_generator` is deprecated and will be removed in a future version. Please use `Model.fit`, which supports generators.\n",
            "  training_results = model.fit_generator(\n"
          ]
        },
        {
          "output_type": "stream",
          "name": "stdout",
          "text": [
            "Epoch 1/8\n",
            "163/163 [==============================] - 802s 5s/step - loss: 0.3085 - accuracy: 0.8712 - val_loss: 0.5667 - val_accuracy: 0.7676\n",
            "Epoch 2/8\n",
            "163/163 [==============================] - 17s 106ms/step - loss: 0.1606 - accuracy: 0.9394 - val_loss: 0.5773 - val_accuracy: 0.7740\n",
            "Epoch 3/8\n",
            "163/163 [==============================] - 18s 109ms/step - loss: 0.1371 - accuracy: 0.9498 - val_loss: 0.5069 - val_accuracy: 0.8013\n",
            "Epoch 4/8\n",
            "163/163 [==============================] - 18s 109ms/step - loss: 0.1324 - accuracy: 0.9486 - val_loss: 0.6479 - val_accuracy: 0.7821\n",
            "Epoch 5/8\n",
            "163/163 [==============================] - 17s 106ms/step - loss: 0.1211 - accuracy: 0.9530 - val_loss: 1.1419 - val_accuracy: 0.7035\n",
            "Epoch 6/8\n",
            "163/163 [==============================] - 17s 106ms/step - loss: 0.1030 - accuracy: 0.9638 - val_loss: 0.8075 - val_accuracy: 0.7548\n",
            "Epoch 7/8\n",
            "163/163 [==============================] - 18s 109ms/step - loss: 0.1040 - accuracy: 0.9615 - val_loss: 1.2230 - val_accuracy: 0.7083\n",
            "Epoch 8/8\n",
            "163/163 [==============================] - 18s 107ms/step - loss: 0.0980 - accuracy: 0.9605 - val_loss: 1.5514 - val_accuracy: 0.6779\n"
          ]
        }
      ]
    },
    {
      "cell_type": "code",
      "source": [
        "import matplotlib.pyplot as plt\n",
        "%matplotlib inline\n",
        "plt.plot(training_results.history['accuracy'])\n",
        "plt.plot(training_results.history['val_accuracy'])\n",
        "plt.title('model accuracy')\n",
        "plt.ylabel('accuracy')\n",
        "plt.xlabel('epoch')\n",
        "plt.legend(['train', 'test'], loc='upper left')\n",
        "plt.show()"
      ],
      "metadata": {
        "colab": {
          "base_uri": "https://localhost:8080/",
          "height": 472
        },
        "id": "o3qnQAH-UqWw",
        "outputId": "c75dcab6-e55d-4b53-d45e-713d82e8f397"
      },
      "execution_count": 8,
      "outputs": [
        {
          "output_type": "display_data",
          "data": {
            "text/plain": [
              "<Figure size 640x480 with 1 Axes>"
            ],
            "image/png": "[encoded data removed]"
          },
          "metadata": {}
        }
      ]
    },
    {
      "cell_type": "code",
      "source": [
        "#We'll try a second model, this time with pooling layers after each convolutional layer\n",
        "model2 = Sequential()\n",
        "model2.add(Conv2D(32, (3, 3), activation = 'relu', input_shape=(img_width, img_height, 3)))\n",
        "model2.add(MaxPooling2D(pool_size=(2, 2)))\n",
        "\n",
        "model2.add(Conv2D(32, (3, 3),activation = 'relu'))\n",
        "model2.add(MaxPooling2D(pool_size=(2, 2)))\n",
        "\n",
        "model2.add(Flatten())\n",
        "model2.add(Dense(64,activation = 'relu'))\n",
        "model2.add(Dense(1,activation='sigmoid'))\n",
        "\n",
        "# need to compile the model before you can use it\n",
        "opt = SGD(lr=0.001, momentum=0.9)\n",
        "model2.compile(optimizer=opt, loss='binary_crossentropy', metrics=['accuracy'])"
      ],
      "metadata": {
        "colab": {
          "base_uri": "https://localhost:8080/"
        },
        "id": "_gERvgCGV5ad",
        "outputId": "bc50d35a-250e-4226-8a9b-641ca7edbd0f"
      },
      "execution_count": 9,
      "outputs": [
        {
          "output_type": "stream",
          "name": "stderr",
          "text": [
            "/usr/local/lib/python3.9/dist-packages/keras/optimizers/legacy/gradient_descent.py:114: UserWarning: The `lr` argument is deprecated, use `learning_rate` instead.\n",
            "  super().__init__(name, **kwargs)\n"
          ]
        }
      ]
    },
    {
      "cell_type": "code",
      "source": [
        "training_results2 = model2.fit_generator(\n",
        "        train_data, #training set\n",
        "        steps_per_epoch = len(train_data), \n",
        "        epochs=10, #number of epochs \n",
        "        validation_data = test_data, #testing set\n",
        "        validation_steps = len(test_data)\n",
        "        )"
      ],
      "metadata": {
        "colab": {
          "base_uri": "https://localhost:8080/"
        },
        "id": "58pjmQCiWEyu",
        "outputId": "95481bda-7565-4804-e33a-021912cf4165"
      },
      "execution_count": 14,
      "outputs": [
        {
          "output_type": "stream",
          "name": "stderr",
          "text": [
            "<ipython-input-14-f5667125fadd>:1: UserWarning: `Model.fit_generator` is deprecated and will be removed in a future version. Please use `Model.fit`, which supports generators.\n",
            "  training_results2 = model2.fit_generator(\n"
          ]
        },
        {
          "output_type": "stream",
          "name": "stdout",
          "text": [
            "Epoch 1/10\n",
            "163/163 [==============================] - 17s 105ms/step - loss: 0.0932 - accuracy: 0.9640 - val_loss: 0.6580 - val_accuracy: 0.7949\n",
            "Epoch 2/10\n",
            "163/163 [==============================] - 17s 107ms/step - loss: 0.0941 - accuracy: 0.9643 - val_loss: 0.7768 - val_accuracy: 0.7660\n",
            "Epoch 3/10\n",
            "163/163 [==============================] - 17s 104ms/step - loss: 0.0885 - accuracy: 0.9680 - val_loss: 0.7391 - val_accuracy: 0.7772\n",
            "Epoch 4/10\n",
            "163/163 [==============================] - 17s 104ms/step - loss: 0.0849 - accuracy: 0.9695 - val_loss: 0.8211 - val_accuracy: 0.7548\n",
            "Epoch 5/10\n",
            "163/163 [==============================] - 18s 113ms/step - loss: 0.0793 - accuracy: 0.9689 - val_loss: 1.0057 - val_accuracy: 0.7420\n",
            "Epoch 6/10\n",
            "163/163 [==============================] - 19s 114ms/step - loss: 0.0736 - accuracy: 0.9722 - val_loss: 1.3263 - val_accuracy: 0.7099\n",
            "Epoch 7/10\n",
            "163/163 [==============================] - 17s 106ms/step - loss: 0.0719 - accuracy: 0.9741 - val_loss: 0.9376 - val_accuracy: 0.7580\n",
            "Epoch 8/10\n",
            "163/163 [==============================] - 18s 108ms/step - loss: 0.0739 - accuracy: 0.9712 - val_loss: 1.1456 - val_accuracy: 0.7244\n",
            "Epoch 9/10\n",
            "163/163 [==============================] - 18s 112ms/step - loss: 0.0724 - accuracy: 0.9716 - val_loss: 1.1269 - val_accuracy: 0.7340\n",
            "Epoch 10/10\n",
            "163/163 [==============================] - 18s 108ms/step - loss: 0.0722 - accuracy: 0.9722 - val_loss: 0.6926 - val_accuracy: 0.7917\n"
          ]
        }
      ]
    },
    {
      "cell_type": "code",
      "source": [
        "import matplotlib.pyplot as plt\n",
        "%matplotlib inline\n",
        "plt.plot(training_results2.history['accuracy'])\n",
        "plt.plot(training_results2.history['val_accuracy'])\n",
        "plt.title('model accuracy')\n",
        "plt.ylabel('accuracy')\n",
        "plt.xlabel('epoch')\n",
        "plt.legend(['train', 'test'], loc='upper left')\n",
        "plt.show()"
      ],
      "metadata": {
        "colab": {
          "base_uri": "https://localhost:8080/",
          "height": 472
        },
        "id": "kyH22UYaXipS",
        "outputId": "2a805407-701c-43b7-db89-aa2fc9e4e08c"
      },
      "execution_count": 15,
      "outputs": [
        {
          "output_type": "display_data",
          "data": {
            "text/plain": [
              "<Figure size 640x480 with 1 Axes>"
            ],
            "image/png": "[encoded data removed]"
          },
          "metadata": {}
        }
      ]
    },
    {
      "cell_type": "markdown",
      "source": [
        "By creating the model without the pooling steps there was a lower accuracy and longer runtime, when adding in the pooling steps it helped reduce time dramitically and increase accuracy while also helping with validation accuracy among more epochs"
      ],
      "metadata": {
        "id": "R3Xo2BESaU-q"
      }
    },
    {
      "cell_type": "code",
      "source": [],
      "metadata": {
        "id": "4QHsYrVjfCGZ"
      },
      "execution_count": null,
      "outputs": []
    }
  ]
}